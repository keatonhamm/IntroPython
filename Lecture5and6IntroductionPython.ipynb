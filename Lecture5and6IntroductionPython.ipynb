{
 "cells": [
  {
   "cell_type": "markdown",
   "id": "6dfcb084",
   "metadata": {},
   "source": [
    "# Introduction to Python Lecture (2/2/2022 & 2/7/2022)"
   ]
  },
  {
   "cell_type": "markdown",
   "id": "99faa36f",
   "metadata": {},
   "source": [
    "Jupyter notebooks consist of **cells**\\\n",
    "Cells can be read by the interpreter as **Markdown text** or as **Python code** (drop down menu above)"
   ]
  },
  {
   "cell_type": "markdown",
   "id": "7c2adabd",
   "metadata": {},
   "source": [
    "## Useful quick commands\n",
    "- `ctrl + enter` -- runs the cell you are on, and leaves your cursor in the cell\n",
    "- `shift + enter` -- runs the cell you are on, and continues to the next cell (if none exists, it makes a new one)\n",
    "- `ctrl + s` -- saves the notebook\n",
    "- `ctrl + c/v` -- copies/pastes text\n",
    "- `ctrl + a` -- select all text/code in a cell\n",
    "- `ctrl + ]` -- indent (forward)\n",
    "- `ctrl + [` -- dedent (backward indent)\n",
    "- `Esc` -- enter \"command mode\" (allows you to act on whole cells and groups of cells)\n",
    "    - `y` -- make a cell into a Python cell\n",
    "    - `m` -- make a cell into a Markdown cell\n",
    "    - `a` -- insert cell above the current selected one\n",
    "    - `b` -- insert cell below the current selected one\n",
    "    - `x` -- cut selected cells\n",
    "    - `c` -- copy selected cells\n",
    "    - `v` -- paste selected cells\n",
    "    - `d + d` -- delete selected cells\n",
    "    - `z` -- undo cell deletion\n",
    "    - `s` -- save the notebook\n",
    "- `Enter/Return` -- exit \"command mode\" (allows you to act on and edit an individual cell)"
   ]
  },
  {
   "cell_type": "code",
   "execution_count": null,
   "id": "4964ef2f",
   "metadata": {},
   "outputs": [],
   "source": []
  },
  {
   "cell_type": "code",
   "execution_count": null,
   "id": "e30d4401",
   "metadata": {},
   "outputs": [],
   "source": []
  },
  {
   "cell_type": "code",
   "execution_count": null,
   "id": "bd1fe4b9",
   "metadata": {},
   "outputs": [],
   "source": [
    "# This is a comment in Python\n"
   ]
  },
  {
   "cell_type": "markdown",
   "id": "0339fdd5",
   "metadata": {},
   "source": [
    "## Strings and print commands"
   ]
  },
  {
   "cell_type": "code",
   "execution_count": 12,
   "id": "7dbd9b03",
   "metadata": {},
   "outputs": [
    {
     "data": {
      "text/plain": [
       "'This is my string'"
      ]
     },
     "execution_count": 12,
     "metadata": {},
     "output_type": "execute_result"
    }
   ],
   "source": [
    "'This is my string'"
   ]
  },
  {
   "cell_type": "code",
   "execution_count": 13,
   "id": "39e483f2",
   "metadata": {},
   "outputs": [
    {
     "data": {
      "text/plain": [
       "2"
      ]
     },
     "execution_count": 13,
     "metadata": {},
     "output_type": "execute_result"
    }
   ],
   "source": [
    "2"
   ]
  },
  {
   "cell_type": "code",
   "execution_count": 14,
   "id": "737f3961",
   "metadata": {},
   "outputs": [
    {
     "data": {
      "text/plain": [
       "'This is also my string'"
      ]
     },
     "execution_count": 14,
     "metadata": {},
     "output_type": "execute_result"
    }
   ],
   "source": [
    "\"This is also my string\""
   ]
  },
  {
   "cell_type": "code",
   "execution_count": 15,
   "id": "09c8b666",
   "metadata": {},
   "outputs": [
    {
     "name": "stdout",
     "output_type": "stream",
     "text": [
      "My string\n"
     ]
    }
   ],
   "source": [
    "print('My string')"
   ]
  },
  {
   "cell_type": "code",
   "execution_count": 16,
   "id": "f1fb3952",
   "metadata": {},
   "outputs": [
    {
     "data": {
      "text/plain": [
       "'My string'"
      ]
     },
     "execution_count": 16,
     "metadata": {},
     "output_type": "execute_result"
    }
   ],
   "source": [
    "a = \"My string\"\n",
    "a"
   ]
  },
  {
   "cell_type": "code",
   "execution_count": 17,
   "id": "61b09263",
   "metadata": {},
   "outputs": [
    {
     "name": "stdout",
     "output_type": "stream",
     "text": [
      "My string\n"
     ]
    }
   ],
   "source": [
    "print(a)"
   ]
  },
  {
   "cell_type": "code",
   "execution_count": 18,
   "id": "65eddf5e",
   "metadata": {},
   "outputs": [
    {
     "name": "stdout",
     "output_type": "stream",
     "text": [
      "My string\n"
     ]
    }
   ],
   "source": [
    "b = print(\"My string\")"
   ]
  },
  {
   "cell_type": "code",
   "execution_count": 19,
   "id": "70dedf54",
   "metadata": {},
   "outputs": [],
   "source": [
    "b"
   ]
  },
  {
   "cell_type": "code",
   "execution_count": 12,
   "id": "4bccacb6",
   "metadata": {},
   "outputs": [
    {
     "name": "stdout",
     "output_type": "stream",
     "text": [
      "This\n",
      " is a\n",
      " multiline\n",
      " string\n"
     ]
    }
   ],
   "source": [
    "print(\"This\\n is a\\n multiline\\n string\")"
   ]
  },
  {
   "cell_type": "code",
   "execution_count": 14,
   "id": "05ee39aa",
   "metadata": {},
   "outputs": [
    {
     "name": "stdout",
     "output_type": "stream",
     "text": [
      "This\n",
      "is a\n",
      "multiline\n",
      "string\n"
     ]
    }
   ],
   "source": [
    "print(\"This\\nis a\\nmultiline\\nstring\")"
   ]
  },
  {
   "cell_type": "code",
   "execution_count": 15,
   "id": "c432b190",
   "metadata": {},
   "outputs": [
    {
     "name": "stdout",
     "output_type": "stream",
     "text": [
      "\n",
      "This is\n",
      "a multiline\n",
      "string\n",
      "\n"
     ]
    }
   ],
   "source": [
    "print('''\n",
    "This is\n",
    "a multiline\n",
    "string\n",
    "''')"
   ]
  },
  {
   "cell_type": "code",
   "execution_count": 16,
   "id": "1aa69f0a",
   "metadata": {},
   "outputs": [
    {
     "name": "stdout",
     "output_type": "stream",
     "text": [
      "\n",
      "This is\n",
      "a multiline\n",
      "string\n",
      "\n"
     ]
    }
   ],
   "source": [
    "print(\"\"\"\n",
    "This is\n",
    "a multiline\n",
    "string\n",
    "\"\"\")"
   ]
  },
  {
   "cell_type": "code",
   "execution_count": 17,
   "id": "235a44d8",
   "metadata": {},
   "outputs": [
    {
     "data": {
      "text/plain": [
       "'What\\nabout\\nthis??'"
      ]
     },
     "execution_count": 17,
     "metadata": {},
     "output_type": "execute_result"
    }
   ],
   "source": [
    "'''What\n",
    "about\n",
    "this??'''"
   ]
  },
  {
   "cell_type": "markdown",
   "id": "7cee4e28",
   "metadata": {},
   "source": [
    "## Types in Python\n",
    "\n",
    "- Strings 'my string'\n",
    "- Numerical values\n",
    "    - integers:  -2, -1, 0, 1, 2, ...\n",
    "    - floats:  1.1, 1.0, -0.9\n",
    "- Booleans: True/False\n",
    "- Lists:  \\[-1, 2, 'string',...\\]"
   ]
  },
  {
   "cell_type": "code",
   "execution_count": 18,
   "id": "a054e133",
   "metadata": {},
   "outputs": [
    {
     "data": {
      "text/plain": [
       "1"
      ]
     },
     "execution_count": 18,
     "metadata": {},
     "output_type": "execute_result"
    }
   ],
   "source": [
    "1"
   ]
  },
  {
   "cell_type": "code",
   "execution_count": 19,
   "id": "4b63924e",
   "metadata": {},
   "outputs": [
    {
     "data": {
      "text/plain": [
       "2.0"
      ]
     },
     "execution_count": 19,
     "metadata": {},
     "output_type": "execute_result"
    }
   ],
   "source": [
    "2."
   ]
  },
  {
   "cell_type": "code",
   "execution_count": 20,
   "id": "71df295c",
   "metadata": {},
   "outputs": [
    {
     "data": {
      "text/plain": [
       "6"
      ]
     },
     "execution_count": 20,
     "metadata": {},
     "output_type": "execute_result"
    }
   ],
   "source": [
    "2*3"
   ]
  },
  {
   "cell_type": "code",
   "execution_count": 21,
   "id": "d1cbaf0f",
   "metadata": {},
   "outputs": [
    {
     "data": {
      "text/plain": [
       "int"
      ]
     },
     "execution_count": 21,
     "metadata": {},
     "output_type": "execute_result"
    }
   ],
   "source": [
    "type(1)"
   ]
  },
  {
   "cell_type": "code",
   "execution_count": 22,
   "id": "7f05e768",
   "metadata": {},
   "outputs": [
    {
     "data": {
      "text/plain": [
       "float"
      ]
     },
     "execution_count": 22,
     "metadata": {},
     "output_type": "execute_result"
    }
   ],
   "source": [
    "type(1.2)"
   ]
  },
  {
   "cell_type": "code",
   "execution_count": 23,
   "id": "aa62da4a",
   "metadata": {},
   "outputs": [
    {
     "data": {
      "text/plain": [
       "int"
      ]
     },
     "execution_count": 23,
     "metadata": {},
     "output_type": "execute_result"
    }
   ],
   "source": [
    "type(2*3)"
   ]
  },
  {
   "cell_type": "code",
   "execution_count": 24,
   "id": "30f45f8a",
   "metadata": {},
   "outputs": [
    {
     "data": {
      "text/plain": [
       "float"
      ]
     },
     "execution_count": 24,
     "metadata": {},
     "output_type": "execute_result"
    }
   ],
   "source": [
    "type(2.*3)"
   ]
  },
  {
   "cell_type": "code",
   "execution_count": 25,
   "id": "657e8a6b",
   "metadata": {},
   "outputs": [
    {
     "data": {
      "text/plain": [
       "str"
      ]
     },
     "execution_count": 25,
     "metadata": {},
     "output_type": "execute_result"
    }
   ],
   "source": [
    "type(\"Hello World\")"
   ]
  },
  {
   "cell_type": "code",
   "execution_count": 26,
   "id": "0648083e",
   "metadata": {},
   "outputs": [
    {
     "data": {
      "text/plain": [
       "bool"
      ]
     },
     "execution_count": 26,
     "metadata": {},
     "output_type": "execute_result"
    }
   ],
   "source": [
    "type(True)"
   ]
  },
  {
   "cell_type": "code",
   "execution_count": 27,
   "id": "404c50dc",
   "metadata": {},
   "outputs": [
    {
     "data": {
      "text/plain": [
       "bool"
      ]
     },
     "execution_count": 27,
     "metadata": {},
     "output_type": "execute_result"
    }
   ],
   "source": [
    "type(False)"
   ]
  },
  {
   "cell_type": "code",
   "execution_count": 28,
   "id": "39e4ee3c",
   "metadata": {},
   "outputs": [
    {
     "data": {
      "text/plain": [
       "NoneType"
      ]
     },
     "execution_count": 28,
     "metadata": {},
     "output_type": "execute_result"
    }
   ],
   "source": [
    "type(None)"
   ]
  },
  {
   "cell_type": "code",
   "execution_count": 29,
   "id": "24572ed8",
   "metadata": {},
   "outputs": [
    {
     "data": {
      "text/plain": [
       "float"
      ]
     },
     "execution_count": 29,
     "metadata": {},
     "output_type": "execute_result"
    }
   ],
   "source": [
    "type(6/3)"
   ]
  },
  {
   "cell_type": "code",
   "execution_count": 30,
   "id": "f2689c4a",
   "metadata": {},
   "outputs": [
    {
     "data": {
      "text/plain": [
       "2.0"
      ]
     },
     "execution_count": 30,
     "metadata": {},
     "output_type": "execute_result"
    }
   ],
   "source": [
    "6/3"
   ]
  },
  {
   "cell_type": "code",
   "execution_count": 31,
   "id": "53045d14",
   "metadata": {},
   "outputs": [
    {
     "data": {
      "text/plain": [
       "float"
      ]
     },
     "execution_count": 31,
     "metadata": {},
     "output_type": "execute_result"
    }
   ],
   "source": [
    "type(5/3)"
   ]
  },
  {
   "cell_type": "code",
   "execution_count": 32,
   "id": "9ed3985b",
   "metadata": {},
   "outputs": [
    {
     "data": {
      "text/plain": [
       "list"
      ]
     },
     "execution_count": 32,
     "metadata": {},
     "output_type": "execute_result"
    }
   ],
   "source": [
    "type([1,2,3,4])"
   ]
  },
  {
   "cell_type": "code",
   "execution_count": 33,
   "id": "aa6b1a51",
   "metadata": {},
   "outputs": [
    {
     "data": {
      "text/plain": [
       "list"
      ]
     },
     "execution_count": 33,
     "metadata": {},
     "output_type": "execute_result"
    }
   ],
   "source": [
    "type([1,2,'string',2*3])"
   ]
  },
  {
   "cell_type": "markdown",
   "id": "03f48a81",
   "metadata": {},
   "source": [
    "## Mathematical operations in Python\n",
    "- `+` Addition\n",
    "- `-` Subtraction\n",
    "- `*` Multiplication\n",
    "- `**` Exponentiation\n",
    "- `/` Division\n",
    "- `//` Integer Division"
   ]
  },
  {
   "cell_type": "code",
   "execution_count": 34,
   "id": "d629b122",
   "metadata": {},
   "outputs": [
    {
     "data": {
      "text/plain": [
       "7"
      ]
     },
     "execution_count": 34,
     "metadata": {},
     "output_type": "execute_result"
    }
   ],
   "source": [
    "5+2"
   ]
  },
  {
   "cell_type": "code",
   "execution_count": 35,
   "id": "3b624503",
   "metadata": {},
   "outputs": [
    {
     "data": {
      "text/plain": [
       "6"
      ]
     },
     "execution_count": 35,
     "metadata": {},
     "output_type": "execute_result"
    }
   ],
   "source": [
    "10-4"
   ]
  },
  {
   "cell_type": "code",
   "execution_count": 36,
   "id": "4fcc5f68",
   "metadata": {},
   "outputs": [
    {
     "data": {
      "text/plain": [
       "6.0"
      ]
     },
     "execution_count": 36,
     "metadata": {},
     "output_type": "execute_result"
    }
   ],
   "source": [
    "10-4.0"
   ]
  },
  {
   "cell_type": "code",
   "execution_count": 37,
   "id": "42f442ae",
   "metadata": {},
   "outputs": [
    {
     "data": {
      "text/plain": [
       "10"
      ]
     },
     "execution_count": 37,
     "metadata": {},
     "output_type": "execute_result"
    }
   ],
   "source": [
    "2*5"
   ]
  },
  {
   "cell_type": "code",
   "execution_count": 38,
   "id": "3e5cb4e2",
   "metadata": {},
   "outputs": [
    {
     "data": {
      "text/plain": [
       "32"
      ]
     },
     "execution_count": 38,
     "metadata": {},
     "output_type": "execute_result"
    }
   ],
   "source": [
    "2**5"
   ]
  },
  {
   "cell_type": "code",
   "execution_count": 39,
   "id": "bae0ca44",
   "metadata": {},
   "outputs": [
    {
     "data": {
      "text/plain": [
       "7"
      ]
     },
     "execution_count": 39,
     "metadata": {},
     "output_type": "execute_result"
    }
   ],
   "source": [
    "2^5"
   ]
  },
  {
   "cell_type": "markdown",
   "id": "6760934b",
   "metadata": {},
   "source": [
    "## Order of Operations\n",
    "PEMDAS (its back!)\n",
    "- Parentheses\n",
    "- Exponentiation\n",
    "- Multiplication\n",
    "- Division\n",
    "- Addition\n",
    "- Subtraction"
   ]
  },
  {
   "cell_type": "code",
   "execution_count": 40,
   "id": "fcd2f3e5",
   "metadata": {},
   "outputs": [
    {
     "data": {
      "text/plain": [
       "-8"
      ]
     },
     "execution_count": 40,
     "metadata": {},
     "output_type": "execute_result"
    }
   ],
   "source": [
    "-2**3"
   ]
  },
  {
   "cell_type": "code",
   "execution_count": 41,
   "id": "10768767",
   "metadata": {},
   "outputs": [
    {
     "data": {
      "text/plain": [
       "-8"
      ]
     },
     "execution_count": 41,
     "metadata": {},
     "output_type": "execute_result"
    }
   ],
   "source": [
    "(-2)**3"
   ]
  },
  {
   "cell_type": "code",
   "execution_count": 44,
   "id": "b5d6d849",
   "metadata": {},
   "outputs": [
    {
     "data": {
      "text/plain": [
       "-16"
      ]
     },
     "execution_count": 44,
     "metadata": {},
     "output_type": "execute_result"
    }
   ],
   "source": [
    "-2**4 # -(2*2*2*2)"
   ]
  },
  {
   "cell_type": "code",
   "execution_count": 45,
   "id": "730bff6c",
   "metadata": {},
   "outputs": [
    {
     "data": {
      "text/plain": [
       "16"
      ]
     },
     "execution_count": 45,
     "metadata": {},
     "output_type": "execute_result"
    }
   ],
   "source": [
    "(-2)**4 # (-2)*(-2)*(-2)*(-2)"
   ]
  },
  {
   "cell_type": "code",
   "execution_count": 46,
   "id": "c5becccf",
   "metadata": {},
   "outputs": [
    {
     "data": {
      "text/plain": [
       "2"
      ]
     },
     "execution_count": 46,
     "metadata": {},
     "output_type": "execute_result"
    }
   ],
   "source": [
    "6//3"
   ]
  },
  {
   "cell_type": "code",
   "execution_count": 47,
   "id": "5d7fe973",
   "metadata": {},
   "outputs": [
    {
     "data": {
      "text/plain": [
       "2.0"
      ]
     },
     "execution_count": 47,
     "metadata": {},
     "output_type": "execute_result"
    }
   ],
   "source": [
    "6/3"
   ]
  },
  {
   "cell_type": "code",
   "execution_count": 48,
   "id": "f3cc31c9",
   "metadata": {},
   "outputs": [
    {
     "data": {
      "text/plain": [
       "2"
      ]
     },
     "execution_count": 48,
     "metadata": {},
     "output_type": "execute_result"
    }
   ],
   "source": [
    "7//3"
   ]
  },
  {
   "cell_type": "code",
   "execution_count": 49,
   "id": "4bcbe2c4",
   "metadata": {},
   "outputs": [
    {
     "data": {
      "text/plain": [
       "2"
      ]
     },
     "execution_count": 49,
     "metadata": {},
     "output_type": "execute_result"
    }
   ],
   "source": [
    "8//3"
   ]
  },
  {
   "cell_type": "code",
   "execution_count": 50,
   "id": "165815d8",
   "metadata": {},
   "outputs": [
    {
     "data": {
      "text/plain": [
       "2.3333333333333335"
      ]
     },
     "execution_count": 50,
     "metadata": {},
     "output_type": "execute_result"
    }
   ],
   "source": [
    "7/3"
   ]
  },
  {
   "cell_type": "code",
   "execution_count": 52,
   "id": "5eff6da6",
   "metadata": {},
   "outputs": [
    {
     "data": {
      "text/plain": [
       "2.6666666666666665"
      ]
     },
     "execution_count": 52,
     "metadata": {},
     "output_type": "execute_result"
    }
   ],
   "source": [
    "8/3"
   ]
  },
  {
   "cell_type": "code",
   "execution_count": 53,
   "id": "959a7fa8",
   "metadata": {},
   "outputs": [
    {
     "data": {
      "text/plain": [
       "2.0"
      ]
     },
     "execution_count": 53,
     "metadata": {},
     "output_type": "execute_result"
    }
   ],
   "source": [
    "5.//2"
   ]
  },
  {
   "cell_type": "code",
   "execution_count": 54,
   "id": "3fa32b7d",
   "metadata": {},
   "outputs": [
    {
     "data": {
      "text/plain": [
       "2.0"
      ]
     },
     "execution_count": 54,
     "metadata": {},
     "output_type": "execute_result"
    }
   ],
   "source": [
    "5//2."
   ]
  },
  {
   "cell_type": "code",
   "execution_count": 55,
   "id": "a73662de",
   "metadata": {},
   "outputs": [
    {
     "data": {
      "text/plain": [
       "2"
      ]
     },
     "execution_count": 55,
     "metadata": {},
     "output_type": "execute_result"
    }
   ],
   "source": [
    "int(2.2)"
   ]
  },
  {
   "cell_type": "code",
   "execution_count": 56,
   "id": "1cda6916",
   "metadata": {},
   "outputs": [
    {
     "data": {
      "text/plain": [
       "2"
      ]
     },
     "execution_count": 56,
     "metadata": {},
     "output_type": "execute_result"
    }
   ],
   "source": [
    "int(2.999)"
   ]
  },
  {
   "cell_type": "code",
   "execution_count": 57,
   "id": "a5f6ea88",
   "metadata": {},
   "outputs": [
    {
     "data": {
      "text/plain": [
       "5.0"
      ]
     },
     "execution_count": 57,
     "metadata": {},
     "output_type": "execute_result"
    }
   ],
   "source": [
    "float(5)"
   ]
  },
  {
   "cell_type": "code",
   "execution_count": 58,
   "id": "966fc33f",
   "metadata": {},
   "outputs": [
    {
     "data": {
      "text/plain": [
       "'Keaton HammKeaton HammKeaton HammKeaton Hamm'"
      ]
     },
     "execution_count": 58,
     "metadata": {},
     "output_type": "execute_result"
    }
   ],
   "source": [
    "'Keaton Hamm'*4"
   ]
  },
  {
   "cell_type": "code",
   "execution_count": 59,
   "id": "b68cb78b",
   "metadata": {},
   "outputs": [
    {
     "data": {
      "text/plain": [
       "'Keaton Hamm Keaton Hamm Keaton Hamm Keaton Hamm '"
      ]
     },
     "execution_count": 59,
     "metadata": {},
     "output_type": "execute_result"
    }
   ],
   "source": [
    "'Keaton Hamm '*4"
   ]
  },
  {
   "cell_type": "code",
   "execution_count": 60,
   "id": "86147515",
   "metadata": {},
   "outputs": [
    {
     "data": {
      "text/plain": [
       "'abcde'"
      ]
     },
     "execution_count": 60,
     "metadata": {},
     "output_type": "execute_result"
    }
   ],
   "source": [
    "'a'+'b'+'c'+'d'+'e'"
   ]
  },
  {
   "cell_type": "code",
   "execution_count": 61,
   "id": "cd052d9d",
   "metadata": {},
   "outputs": [
    {
     "ename": "TypeError",
     "evalue": "unsupported operand type(s) for ** or pow(): 'str' and 'int'",
     "output_type": "error",
     "traceback": [
      "\u001b[0;31m---------------------------------------------------------------------------\u001b[0m",
      "\u001b[0;31mTypeError\u001b[0m                                 Traceback (most recent call last)",
      "\u001b[0;32m/tmp/ipykernel_355/1367093451.py\u001b[0m in \u001b[0;36m<module>\u001b[0;34m\u001b[0m\n\u001b[0;32m----> 1\u001b[0;31m \u001b[0;34m'Keaton'\u001b[0m\u001b[0;34m**\u001b[0m\u001b[0;36m2\u001b[0m\u001b[0;34m\u001b[0m\u001b[0;34m\u001b[0m\u001b[0m\n\u001b[0m",
      "\u001b[0;31mTypeError\u001b[0m: unsupported operand type(s) for ** or pow(): 'str' and 'int'"
     ]
    }
   ],
   "source": [
    "'Keaton'**2"
   ]
  },
  {
   "cell_type": "code",
   "execution_count": 62,
   "id": "f2724834",
   "metadata": {},
   "outputs": [
    {
     "ename": "TypeError",
     "evalue": "unsupported operand type(s) for -: 'str' and 'str'",
     "output_type": "error",
     "traceback": [
      "\u001b[0;31m---------------------------------------------------------------------------\u001b[0m",
      "\u001b[0;31mTypeError\u001b[0m                                 Traceback (most recent call last)",
      "\u001b[0;32m/tmp/ipykernel_355/3050538655.py\u001b[0m in \u001b[0;36m<module>\u001b[0;34m\u001b[0m\n\u001b[0;32m----> 1\u001b[0;31m \u001b[0;34m'abcde'\u001b[0m \u001b[0;34m-\u001b[0m \u001b[0;34m'ab'\u001b[0m\u001b[0;34m\u001b[0m\u001b[0;34m\u001b[0m\u001b[0m\n\u001b[0m",
      "\u001b[0;31mTypeError\u001b[0m: unsupported operand type(s) for -: 'str' and 'str'"
     ]
    }
   ],
   "source": [
    "'abcde' - 'ab'"
   ]
  },
  {
   "cell_type": "code",
   "execution_count": 64,
   "id": "c732e028",
   "metadata": {},
   "outputs": [
    {
     "ename": "TypeError",
     "evalue": "unsupported operand type(s) for /: 'str' and 'int'",
     "output_type": "error",
     "traceback": [
      "\u001b[0;31m---------------------------------------------------------------------------\u001b[0m",
      "\u001b[0;31mTypeError\u001b[0m                                 Traceback (most recent call last)",
      "\u001b[0;32m/tmp/ipykernel_355/2455452705.py\u001b[0m in \u001b[0;36m<module>\u001b[0;34m\u001b[0m\n\u001b[0;32m----> 1\u001b[0;31m \u001b[0;34m'abcds'\u001b[0m\u001b[0;34m/\u001b[0m\u001b[0;36m2\u001b[0m\u001b[0;34m\u001b[0m\u001b[0;34m\u001b[0m\u001b[0m\n\u001b[0m",
      "\u001b[0;31mTypeError\u001b[0m: unsupported operand type(s) for /: 'str' and 'int'"
     ]
    }
   ],
   "source": [
    "'abcds'/2"
   ]
  },
  {
   "cell_type": "code",
   "execution_count": 65,
   "id": "4c3cc0fd",
   "metadata": {},
   "outputs": [
    {
     "data": {
      "text/plain": [
       "125"
      ]
     },
     "execution_count": 65,
     "metadata": {},
     "output_type": "execute_result"
    }
   ],
   "source": [
    "pow(5,3)"
   ]
  },
  {
   "cell_type": "code",
   "execution_count": 66,
   "id": "ec75ce20",
   "metadata": {},
   "outputs": [
    {
     "data": {
      "text/plain": [
       "[1, 2, 3, 4, 1, 2, 3, 4]"
      ]
     },
     "execution_count": 66,
     "metadata": {},
     "output_type": "execute_result"
    }
   ],
   "source": [
    "[1,2,3,4]*2"
   ]
  },
  {
   "cell_type": "code",
   "execution_count": 67,
   "id": "f42ad47a",
   "metadata": {},
   "outputs": [
    {
     "data": {
      "text/plain": [
       "[1, 2, 'hello', 'world', 1, 2, 'hello', 'world']"
      ]
     },
     "execution_count": 67,
     "metadata": {},
     "output_type": "execute_result"
    }
   ],
   "source": [
    "[1,2,'hello','world']*2"
   ]
  },
  {
   "cell_type": "code",
   "execution_count": 68,
   "id": "24d22fb2",
   "metadata": {},
   "outputs": [
    {
     "ename": "TypeError",
     "evalue": "unsupported operand type(s) for ** or pow(): 'list' and 'int'",
     "output_type": "error",
     "traceback": [
      "\u001b[0;31m---------------------------------------------------------------------------\u001b[0m",
      "\u001b[0;31mTypeError\u001b[0m                                 Traceback (most recent call last)",
      "\u001b[0;32m/tmp/ipykernel_355/1825985778.py\u001b[0m in \u001b[0;36m<module>\u001b[0;34m\u001b[0m\n\u001b[0;32m----> 1\u001b[0;31m \u001b[0;34m[\u001b[0m\u001b[0;36m1\u001b[0m\u001b[0;34m,\u001b[0m\u001b[0;36m2\u001b[0m\u001b[0;34m,\u001b[0m\u001b[0;36m3\u001b[0m\u001b[0;34m,\u001b[0m\u001b[0;36m4\u001b[0m\u001b[0;34m]\u001b[0m\u001b[0;34m**\u001b[0m\u001b[0;36m2\u001b[0m\u001b[0;34m\u001b[0m\u001b[0;34m\u001b[0m\u001b[0m\n\u001b[0m",
      "\u001b[0;31mTypeError\u001b[0m: unsupported operand type(s) for ** or pow(): 'list' and 'int'"
     ]
    }
   ],
   "source": [
    "[1,2,3,4]**2"
   ]
  },
  {
   "cell_type": "code",
   "execution_count": 70,
   "id": "e2f7c5c5",
   "metadata": {},
   "outputs": [
    {
     "ename": "SyntaxError",
     "evalue": "invalid syntax (4024874247.py, line 1)",
     "output_type": "error",
     "traceback": [
      "\u001b[0;36m  File \u001b[0;32m\"/tmp/ipykernel_355/4024874247.py\"\u001b[0;36m, line \u001b[0;32m1\u001b[0m\n\u001b[0;31m    [1 2 3 4 4]\u001b[0m\n\u001b[0m       ^\u001b[0m\n\u001b[0;31mSyntaxError\u001b[0m\u001b[0;31m:\u001b[0m invalid syntax\n"
     ]
    }
   ],
   "source": [
    "[1 2 3 4 4]"
   ]
  },
  {
   "cell_type": "code",
   "execution_count": 73,
   "id": "70b5a292",
   "metadata": {},
   "outputs": [
    {
     "name": "stdout",
     "output_type": "stream",
     "text": [
      "2.0\n",
      "1.4142135623730951\n"
     ]
    }
   ],
   "source": [
    "print(2**4/8)\n",
    "print(2**(4/8))"
   ]
  },
  {
   "cell_type": "code",
   "execution_count": 74,
   "id": "8ee3540d",
   "metadata": {},
   "outputs": [
    {
     "name": "stdout",
     "output_type": "stream",
     "text": [
      "1.0\n",
      "1.0\n"
     ]
    }
   ],
   "source": [
    "print(10/2/5)\n",
    "print(10/5/2)"
   ]
  },
  {
   "cell_type": "code",
   "execution_count": 75,
   "id": "1797931a",
   "metadata": {},
   "outputs": [
    {
     "data": {
      "text/plain": [
       "0.5"
      ]
     },
     "execution_count": 75,
     "metadata": {},
     "output_type": "execute_result"
    }
   ],
   "source": [
    "5 - 2*3**2/4"
   ]
  },
  {
   "cell_type": "markdown",
   "id": "44eac80c",
   "metadata": {},
   "source": [
    "## Other mathematical operations"
   ]
  },
  {
   "cell_type": "code",
   "execution_count": 76,
   "id": "5dc93d9a",
   "metadata": {},
   "outputs": [
    {
     "data": {
      "text/plain": [
       "5"
      ]
     },
     "execution_count": 76,
     "metadata": {},
     "output_type": "execute_result"
    }
   ],
   "source": [
    "abs(-5)"
   ]
  },
  {
   "cell_type": "code",
   "execution_count": 77,
   "id": "e10beeb8",
   "metadata": {},
   "outputs": [
    {
     "data": {
      "text/plain": [
       "2.5"
      ]
     },
     "execution_count": 77,
     "metadata": {},
     "output_type": "execute_result"
    }
   ],
   "source": [
    "abs(-2.5)"
   ]
  },
  {
   "cell_type": "code",
   "execution_count": 78,
   "id": "bb5befa5",
   "metadata": {},
   "outputs": [
    {
     "data": {
      "text/plain": [
       "3"
      ]
     },
     "execution_count": 78,
     "metadata": {},
     "output_type": "execute_result"
    }
   ],
   "source": [
    "abs(3)"
   ]
  },
  {
   "cell_type": "code",
   "execution_count": 79,
   "id": "c7efce76",
   "metadata": {},
   "outputs": [
    {
     "data": {
      "text/plain": [
       "1"
      ]
     },
     "execution_count": 79,
     "metadata": {},
     "output_type": "execute_result"
    }
   ],
   "source": [
    "abs(True)"
   ]
  },
  {
   "cell_type": "code",
   "execution_count": 80,
   "id": "686ff801",
   "metadata": {},
   "outputs": [
    {
     "data": {
      "text/plain": [
       "0"
      ]
     },
     "execution_count": 80,
     "metadata": {},
     "output_type": "execute_result"
    }
   ],
   "source": [
    "abs(False)"
   ]
  },
  {
   "cell_type": "code",
   "execution_count": 81,
   "id": "46c03da6",
   "metadata": {},
   "outputs": [
    {
     "data": {
      "text/plain": [
       "-10"
      ]
     },
     "execution_count": 81,
     "metadata": {},
     "output_type": "execute_result"
    }
   ],
   "source": [
    "int(-10.6)"
   ]
  },
  {
   "cell_type": "code",
   "execution_count": 82,
   "id": "db9a353d",
   "metadata": {},
   "outputs": [
    {
     "data": {
      "text/plain": [
       "10"
      ]
     },
     "execution_count": 82,
     "metadata": {},
     "output_type": "execute_result"
    }
   ],
   "source": [
    "int(10.6)"
   ]
  },
  {
   "cell_type": "code",
   "execution_count": 83,
   "id": "24b68135",
   "metadata": {},
   "outputs": [
    {
     "data": {
      "text/plain": [
       "(92+0j)"
      ]
     },
     "execution_count": 83,
     "metadata": {},
     "output_type": "execute_result"
    }
   ],
   "source": [
    "complex(92)"
   ]
  },
  {
   "cell_type": "code",
   "execution_count": 84,
   "id": "89694075",
   "metadata": {},
   "outputs": [
    {
     "data": {
      "text/plain": [
       "(1-1j)"
      ]
     },
     "execution_count": 84,
     "metadata": {},
     "output_type": "execute_result"
    }
   ],
   "source": [
    "complex(1,-1)"
   ]
  },
  {
   "cell_type": "code",
   "execution_count": 85,
   "id": "bbb15321",
   "metadata": {},
   "outputs": [
    {
     "data": {
      "text/plain": [
       "(1+1j)"
      ]
     },
     "execution_count": 85,
     "metadata": {},
     "output_type": "execute_result"
    }
   ],
   "source": [
    "complex(1,-1).conjugate()"
   ]
  },
  {
   "cell_type": "code",
   "execution_count": 86,
   "id": "a1ed1914",
   "metadata": {},
   "outputs": [
    {
     "data": {
      "text/plain": [
       "complex"
      ]
     },
     "execution_count": 86,
     "metadata": {},
     "output_type": "execute_result"
    }
   ],
   "source": [
    "type(1-1j)"
   ]
  },
  {
   "cell_type": "code",
   "execution_count": 89,
   "id": "bd0c47c9",
   "metadata": {},
   "outputs": [
    {
     "data": {
      "text/plain": [
       "1"
      ]
     },
     "execution_count": 89,
     "metadata": {},
     "output_type": "execute_result"
    }
   ],
   "source": [
    "4%3"
   ]
  },
  {
   "cell_type": "code",
   "execution_count": 90,
   "id": "3e0a9316",
   "metadata": {},
   "outputs": [
    {
     "data": {
      "text/plain": [
       "0"
      ]
     },
     "execution_count": 90,
     "metadata": {},
     "output_type": "execute_result"
    }
   ],
   "source": [
    "4%4"
   ]
  },
  {
   "cell_type": "code",
   "execution_count": 91,
   "id": "49435c79",
   "metadata": {},
   "outputs": [
    {
     "data": {
      "text/plain": [
       "0"
      ]
     },
     "execution_count": 91,
     "metadata": {},
     "output_type": "execute_result"
    }
   ],
   "source": [
    "4%2"
   ]
  },
  {
   "cell_type": "code",
   "execution_count": 92,
   "id": "79b02f42",
   "metadata": {},
   "outputs": [
    {
     "data": {
      "text/plain": [
       "0"
      ]
     },
     "execution_count": 92,
     "metadata": {},
     "output_type": "execute_result"
    }
   ],
   "source": [
    "4%1"
   ]
  },
  {
   "cell_type": "code",
   "execution_count": 93,
   "id": "c2a4f4cf",
   "metadata": {},
   "outputs": [
    {
     "data": {
      "text/plain": [
       "0.5"
      ]
     },
     "execution_count": 93,
     "metadata": {},
     "output_type": "execute_result"
    }
   ],
   "source": [
    "4%3.5"
   ]
  },
  {
   "cell_type": "code",
   "execution_count": 94,
   "id": "14708049",
   "metadata": {},
   "outputs": [],
   "source": [
    "# % is giving remainder"
   ]
  },
  {
   "cell_type": "code",
   "execution_count": 95,
   "id": "4815f252",
   "metadata": {},
   "outputs": [
    {
     "data": {
      "text/plain": [
       "(1, 3)"
      ]
     },
     "execution_count": 95,
     "metadata": {},
     "output_type": "execute_result"
    }
   ],
   "source": [
    "divmod(10,7)"
   ]
  },
  {
   "cell_type": "code",
   "execution_count": 97,
   "id": "373cf48d",
   "metadata": {},
   "outputs": [
    {
     "data": {
      "text/plain": [
       "(2, 0)"
      ]
     },
     "execution_count": 97,
     "metadata": {},
     "output_type": "execute_result"
    }
   ],
   "source": [
    "divmod(10,5)"
   ]
  },
  {
   "cell_type": "code",
   "execution_count": 98,
   "id": "874fb48a",
   "metadata": {},
   "outputs": [],
   "source": [
    "# returns (10//7, 10%7)"
   ]
  },
  {
   "cell_type": "code",
   "execution_count": 99,
   "id": "b738fc6c",
   "metadata": {},
   "outputs": [
    {
     "data": {
      "text/plain": [
       "tuple"
      ]
     },
     "execution_count": 99,
     "metadata": {},
     "output_type": "execute_result"
    }
   ],
   "source": [
    "type(divmod(10,5))"
   ]
  },
  {
   "cell_type": "markdown",
   "id": "5b87c6f5",
   "metadata": {},
   "source": [
    "## More string operations"
   ]
  },
  {
   "cell_type": "code",
   "execution_count": 100,
   "id": "d2f87971",
   "metadata": {},
   "outputs": [
    {
     "data": {
      "text/plain": [
       "'K'"
      ]
     },
     "execution_count": 100,
     "metadata": {},
     "output_type": "execute_result"
    }
   ],
   "source": [
    "'Keaton'[0]"
   ]
  },
  {
   "cell_type": "code",
   "execution_count": 101,
   "id": "b5c5ab76",
   "metadata": {},
   "outputs": [
    {
     "data": {
      "text/plain": [
       "'e'"
      ]
     },
     "execution_count": 101,
     "metadata": {},
     "output_type": "execute_result"
    }
   ],
   "source": [
    "'Keaton'[1]"
   ]
  },
  {
   "cell_type": "code",
   "execution_count": 103,
   "id": "cec7cb8d",
   "metadata": {},
   "outputs": [
    {
     "data": {
      "text/plain": [
       "'o'"
      ]
     },
     "execution_count": 103,
     "metadata": {},
     "output_type": "execute_result"
    }
   ],
   "source": [
    "'Keaton'[4]"
   ]
  },
  {
   "cell_type": "code",
   "execution_count": 104,
   "id": "0a122592",
   "metadata": {},
   "outputs": [
    {
     "data": {
      "text/plain": [
       "'n'"
      ]
     },
     "execution_count": 104,
     "metadata": {},
     "output_type": "execute_result"
    }
   ],
   "source": [
    "'Keaton'[-1]"
   ]
  },
  {
   "cell_type": "code",
   "execution_count": 105,
   "id": "d807a65b",
   "metadata": {},
   "outputs": [
    {
     "data": {
      "text/plain": [
       "'t'"
      ]
     },
     "execution_count": 105,
     "metadata": {},
     "output_type": "execute_result"
    }
   ],
   "source": [
    "'Keaton'[-3]"
   ]
  },
  {
   "cell_type": "code",
   "execution_count": 106,
   "id": "fea0bf85",
   "metadata": {},
   "outputs": [
    {
     "ename": "IndexError",
     "evalue": "string index out of range",
     "output_type": "error",
     "traceback": [
      "\u001b[0;31m---------------------------------------------------------------------------\u001b[0m",
      "\u001b[0;31mIndexError\u001b[0m                                Traceback (most recent call last)",
      "\u001b[0;32m/tmp/ipykernel_355/1421691207.py\u001b[0m in \u001b[0;36m<module>\u001b[0;34m\u001b[0m\n\u001b[0;32m----> 1\u001b[0;31m \u001b[0;34m'Keaton'\u001b[0m\u001b[0;34m[\u001b[0m\u001b[0;36m8\u001b[0m\u001b[0;34m]\u001b[0m\u001b[0;34m\u001b[0m\u001b[0;34m\u001b[0m\u001b[0m\n\u001b[0m",
      "\u001b[0;31mIndexError\u001b[0m: string index out of range"
     ]
    }
   ],
   "source": [
    "'Keaton'[8]"
   ]
  },
  {
   "cell_type": "code",
   "execution_count": 107,
   "id": "05170c6b",
   "metadata": {},
   "outputs": [
    {
     "data": {
      "text/plain": [
       "'ell'"
      ]
     },
     "execution_count": 107,
     "metadata": {},
     "output_type": "execute_result"
    }
   ],
   "source": [
    "'Hello'[1:4]"
   ]
  },
  {
   "cell_type": "code",
   "execution_count": 108,
   "id": "fb0e2a90",
   "metadata": {},
   "outputs": [
    {
     "data": {
      "text/plain": [
       "'Hel'"
      ]
     },
     "execution_count": 108,
     "metadata": {},
     "output_type": "execute_result"
    }
   ],
   "source": [
    "'Hello'[:3]"
   ]
  },
  {
   "cell_type": "code",
   "execution_count": 109,
   "id": "64f00049",
   "metadata": {},
   "outputs": [
    {
     "data": {
      "text/plain": [
       "'Hel'"
      ]
     },
     "execution_count": 109,
     "metadata": {},
     "output_type": "execute_result"
    }
   ],
   "source": [
    "'Hello'[0:3]"
   ]
  },
  {
   "cell_type": "code",
   "execution_count": 110,
   "id": "cf6dd385",
   "metadata": {},
   "outputs": [
    {
     "data": {
      "text/plain": [
       "'orl'"
      ]
     },
     "execution_count": 110,
     "metadata": {},
     "output_type": "execute_result"
    }
   ],
   "source": [
    "'World'[-4:-1]"
   ]
  },
  {
   "cell_type": "code",
   "execution_count": 113,
   "id": "18d6ac10",
   "metadata": {},
   "outputs": [
    {
     "data": {
      "text/plain": [
       "'orld'"
      ]
     },
     "execution_count": 113,
     "metadata": {},
     "output_type": "execute_result"
    }
   ],
   "source": [
    "'World'[-4:]"
   ]
  },
  {
   "cell_type": "code",
   "execution_count": 114,
   "id": "59620103",
   "metadata": {},
   "outputs": [
    {
     "data": {
      "text/plain": [
       "'Wor'"
      ]
     },
     "execution_count": 114,
     "metadata": {},
     "output_type": "execute_result"
    }
   ],
   "source": [
    "'World'[:-2]"
   ]
  },
  {
   "cell_type": "code",
   "execution_count": 115,
   "id": "16d2db78",
   "metadata": {},
   "outputs": [
    {
     "data": {
      "text/plain": [
       "'HELLO'"
      ]
     },
     "execution_count": 115,
     "metadata": {},
     "output_type": "execute_result"
    }
   ],
   "source": [
    "'hello'.upper()"
   ]
  },
  {
   "cell_type": "code",
   "execution_count": 116,
   "id": "9551fb68",
   "metadata": {},
   "outputs": [
    {
     "data": {
      "text/plain": [
       "'hello'"
      ]
     },
     "execution_count": 116,
     "metadata": {},
     "output_type": "execute_result"
    }
   ],
   "source": [
    "'HeLLo'.lower()"
   ]
  },
  {
   "cell_type": "code",
   "execution_count": 117,
   "id": "fa21d952",
   "metadata": {},
   "outputs": [
    {
     "data": {
      "text/plain": [
       "'hEllO'"
      ]
     },
     "execution_count": 117,
     "metadata": {},
     "output_type": "execute_result"
    }
   ],
   "source": [
    "'HeLLo'.swapcase()"
   ]
  },
  {
   "cell_type": "code",
   "execution_count": 120,
   "id": "8402adfb",
   "metadata": {},
   "outputs": [
    {
     "data": {
      "text/plain": [
       "'HloWrd'"
      ]
     },
     "execution_count": 120,
     "metadata": {},
     "output_type": "execute_result"
    }
   ],
   "source": [
    "'Hello World'[::2]"
   ]
  },
  {
   "cell_type": "code",
   "execution_count": 123,
   "id": "2e8be739",
   "metadata": {},
   "outputs": [
    {
     "data": {
      "text/plain": [
       "'dlroW olleH'"
      ]
     },
     "execution_count": 123,
     "metadata": {},
     "output_type": "execute_result"
    }
   ],
   "source": [
    "'Hello World'[::-1]"
   ]
  },
  {
   "cell_type": "code",
   "execution_count": null,
   "id": "f79295f6",
   "metadata": {},
   "outputs": [],
   "source": []
  },
  {
   "cell_type": "code",
   "execution_count": null,
   "id": "9394d6d2",
   "metadata": {},
   "outputs": [],
   "source": []
  },
  {
   "cell_type": "code",
   "execution_count": null,
   "id": "245f261b",
   "metadata": {},
   "outputs": [],
   "source": []
  },
  {
   "cell_type": "code",
   "execution_count": null,
   "id": "f79de61b",
   "metadata": {},
   "outputs": [],
   "source": []
  },
  {
   "cell_type": "code",
   "execution_count": null,
   "id": "3261e0d9",
   "metadata": {},
   "outputs": [],
   "source": []
  },
  {
   "cell_type": "code",
   "execution_count": null,
   "id": "86817255",
   "metadata": {},
   "outputs": [],
   "source": []
  },
  {
   "cell_type": "code",
   "execution_count": null,
   "id": "1ceded2b",
   "metadata": {},
   "outputs": [],
   "source": []
  },
  {
   "cell_type": "code",
   "execution_count": null,
   "id": "b46cc2ee",
   "metadata": {},
   "outputs": [],
   "source": []
  },
  {
   "cell_type": "code",
   "execution_count": null,
   "id": "cf3b52d5",
   "metadata": {},
   "outputs": [],
   "source": []
  },
  {
   "cell_type": "code",
   "execution_count": null,
   "id": "28207b78",
   "metadata": {},
   "outputs": [],
   "source": []
  },
  {
   "cell_type": "code",
   "execution_count": null,
   "id": "64d95783",
   "metadata": {},
   "outputs": [],
   "source": []
  },
  {
   "cell_type": "markdown",
   "id": "f4f06a91",
   "metadata": {},
   "source": [
    "## Exercise\n",
    "Make a string of your full name, and print out\n",
    "1. every other letter starting with the first letter\n",
    "1. every other letter starting with the second letter\n",
    "1. every other letter in reverse order starting from the last letter\n",
    "1. every other letter in reverse order starting from the next to last letter"
   ]
  },
  {
   "cell_type": "code",
   "execution_count": 21,
   "id": "17de809f",
   "metadata": {},
   "outputs": [
    {
     "data": {
      "text/plain": [
       "'Kao am'"
      ]
     },
     "execution_count": 21,
     "metadata": {},
     "output_type": "execute_result"
    }
   ],
   "source": [
    "'Keaton Hamm'[0::2]"
   ]
  },
  {
   "cell_type": "code",
   "execution_count": 24,
   "id": "53328a87",
   "metadata": {},
   "outputs": [
    {
     "data": {
      "text/plain": [
       "'Kao am'"
      ]
     },
     "execution_count": 24,
     "metadata": {},
     "output_type": "execute_result"
    }
   ],
   "source": [
    "'Keaton Hamm'[0:11:2]"
   ]
  },
  {
   "cell_type": "code",
   "execution_count": 25,
   "id": "53cd9f08",
   "metadata": {},
   "outputs": [
    {
     "data": {
      "text/plain": [
       "'Kao am'"
      ]
     },
     "execution_count": 25,
     "metadata": {},
     "output_type": "execute_result"
    }
   ],
   "source": [
    "'Keaton Hamm'[::2]"
   ]
  },
  {
   "cell_type": "code",
   "execution_count": 27,
   "id": "c66c6e44",
   "metadata": {},
   "outputs": [
    {
     "data": {
      "text/plain": [
       "'etnHm'"
      ]
     },
     "execution_count": 27,
     "metadata": {},
     "output_type": "execute_result"
    }
   ],
   "source": [
    "'Keaton Hamm'[1::2]"
   ]
  },
  {
   "cell_type": "code",
   "execution_count": 31,
   "id": "cd214b52",
   "metadata": {},
   "outputs": [
    {
     "data": {
      "text/plain": [
       "'ma oaK'"
      ]
     },
     "execution_count": 31,
     "metadata": {},
     "output_type": "execute_result"
    }
   ],
   "source": [
    "'Keaton Hamm'[::-2]"
   ]
  },
  {
   "cell_type": "code",
   "execution_count": 32,
   "id": "627c0d0c",
   "metadata": {},
   "outputs": [
    {
     "data": {
      "text/plain": [
       "'mHnte'"
      ]
     },
     "execution_count": 32,
     "metadata": {},
     "output_type": "execute_result"
    }
   ],
   "source": [
    "'Keaton Hamm'[-2::-2]"
   ]
  },
  {
   "cell_type": "code",
   "execution_count": 34,
   "id": "1c390b0c",
   "metadata": {},
   "outputs": [
    {
     "data": {
      "text/plain": [
       "'mHnt'"
      ]
     },
     "execution_count": 34,
     "metadata": {},
     "output_type": "execute_result"
    }
   ],
   "source": [
    "'Keaton Hamm'[-2:2:-2]"
   ]
  },
  {
   "cell_type": "markdown",
   "id": "a1868e32",
   "metadata": {},
   "source": [
    "## Boolean Operations in Python"
   ]
  },
  {
   "cell_type": "code",
   "execution_count": 35,
   "id": "46440665",
   "metadata": {},
   "outputs": [
    {
     "data": {
      "text/plain": [
       "False"
      ]
     },
     "execution_count": 35,
     "metadata": {},
     "output_type": "execute_result"
    }
   ],
   "source": [
    "True and False"
   ]
  },
  {
   "cell_type": "code",
   "execution_count": 36,
   "id": "7ed42816",
   "metadata": {},
   "outputs": [
    {
     "data": {
      "text/plain": [
       "False"
      ]
     },
     "execution_count": 36,
     "metadata": {},
     "output_type": "execute_result"
    }
   ],
   "source": [
    "False and False"
   ]
  },
  {
   "cell_type": "code",
   "execution_count": 37,
   "id": "88a531d6",
   "metadata": {},
   "outputs": [
    {
     "data": {
      "text/plain": [
       "True"
      ]
     },
     "execution_count": 37,
     "metadata": {},
     "output_type": "execute_result"
    }
   ],
   "source": [
    "True and True"
   ]
  },
  {
   "cell_type": "code",
   "execution_count": 38,
   "id": "1a4f2d2e",
   "metadata": {},
   "outputs": [
    {
     "data": {
      "text/plain": [
       "True"
      ]
     },
     "execution_count": 38,
     "metadata": {},
     "output_type": "execute_result"
    }
   ],
   "source": [
    "True or False"
   ]
  },
  {
   "cell_type": "code",
   "execution_count": 39,
   "id": "9c04b598",
   "metadata": {},
   "outputs": [
    {
     "data": {
      "text/plain": [
       "True"
      ]
     },
     "execution_count": 39,
     "metadata": {},
     "output_type": "execute_result"
    }
   ],
   "source": [
    "True or True"
   ]
  },
  {
   "cell_type": "code",
   "execution_count": 40,
   "id": "101b92ef",
   "metadata": {},
   "outputs": [
    {
     "data": {
      "text/plain": [
       "True"
      ]
     },
     "execution_count": 40,
     "metadata": {},
     "output_type": "execute_result"
    }
   ],
   "source": [
    "False or True"
   ]
  },
  {
   "cell_type": "code",
   "execution_count": 41,
   "id": "ad6759cf",
   "metadata": {},
   "outputs": [
    {
     "data": {
      "text/plain": [
       "False"
      ]
     },
     "execution_count": 41,
     "metadata": {},
     "output_type": "execute_result"
    }
   ],
   "source": [
    "False or False"
   ]
  },
  {
   "cell_type": "code",
   "execution_count": 42,
   "id": "641cf648",
   "metadata": {},
   "outputs": [
    {
     "data": {
      "text/plain": [
       "True"
      ]
     },
     "execution_count": 42,
     "metadata": {},
     "output_type": "execute_result"
    }
   ],
   "source": [
    "2 == 2"
   ]
  },
  {
   "cell_type": "code",
   "execution_count": 43,
   "id": "0a17ecdc",
   "metadata": {},
   "outputs": [
    {
     "data": {
      "text/plain": [
       "True"
      ]
     },
     "execution_count": 43,
     "metadata": {},
     "output_type": "execute_result"
    }
   ],
   "source": [
    "2 == 2.0"
   ]
  },
  {
   "cell_type": "code",
   "execution_count": 44,
   "id": "11b3a7f4",
   "metadata": {},
   "outputs": [
    {
     "data": {
      "text/plain": [
       "False"
      ]
     },
     "execution_count": 44,
     "metadata": {},
     "output_type": "execute_result"
    }
   ],
   "source": [
    "2 == 'hello'"
   ]
  },
  {
   "cell_type": "code",
   "execution_count": 45,
   "id": "37cc06db",
   "metadata": {},
   "outputs": [
    {
     "data": {
      "text/plain": [
       "True"
      ]
     },
     "execution_count": 45,
     "metadata": {},
     "output_type": "execute_result"
    }
   ],
   "source": [
    "2 != 3"
   ]
  },
  {
   "cell_type": "code",
   "execution_count": 46,
   "id": "67877fd8",
   "metadata": {},
   "outputs": [
    {
     "data": {
      "text/plain": [
       "True"
      ]
     },
     "execution_count": 46,
     "metadata": {},
     "output_type": "execute_result"
    }
   ],
   "source": [
    "2 < 3"
   ]
  },
  {
   "cell_type": "code",
   "execution_count": 47,
   "id": "c4d3d930",
   "metadata": {},
   "outputs": [
    {
     "data": {
      "text/plain": [
       "False"
      ]
     },
     "execution_count": 47,
     "metadata": {},
     "output_type": "execute_result"
    }
   ],
   "source": [
    "2 > 3"
   ]
  },
  {
   "cell_type": "code",
   "execution_count": 48,
   "id": "f092b14f",
   "metadata": {},
   "outputs": [
    {
     "data": {
      "text/plain": [
       "True"
      ]
     },
     "execution_count": 48,
     "metadata": {},
     "output_type": "execute_result"
    }
   ],
   "source": [
    "2 <= 2"
   ]
  },
  {
   "cell_type": "code",
   "execution_count": 50,
   "id": "de0834e9",
   "metadata": {},
   "outputs": [
    {
     "data": {
      "text/plain": [
       "False"
      ]
     },
     "execution_count": 50,
     "metadata": {},
     "output_type": "execute_result"
    }
   ],
   "source": [
    "2 > 2"
   ]
  },
  {
   "cell_type": "code",
   "execution_count": 51,
   "id": "75f5c538",
   "metadata": {},
   "outputs": [
    {
     "name": "stdout",
     "output_type": "stream",
     "text": [
      "/bin/bash: =: No such file or directory\r\n"
     ]
    }
   ],
   "source": [
    "!(2 <= 2)"
   ]
  },
  {
   "cell_type": "code",
   "execution_count": 52,
   "id": "96038fb2",
   "metadata": {},
   "outputs": [
    {
     "data": {
      "text/plain": [
       "True"
      ]
     },
     "execution_count": 52,
     "metadata": {},
     "output_type": "execute_result"
    }
   ],
   "source": [
    "(2 == 2) and (3 != 2)"
   ]
  },
  {
   "cell_type": "code",
   "execution_count": null,
   "id": "93ffe21e",
   "metadata": {},
   "outputs": [],
   "source": []
  },
  {
   "cell_type": "code",
   "execution_count": null,
   "id": "f0af1c5a",
   "metadata": {},
   "outputs": [],
   "source": []
  },
  {
   "cell_type": "code",
   "execution_count": null,
   "id": "63d7c2e2",
   "metadata": {},
   "outputs": [],
   "source": []
  },
  {
   "cell_type": "markdown",
   "id": "32e1368e",
   "metadata": {},
   "source": [
    "## Variables\n",
    "Often we want to store numbers, lists, etc. to use later.  These are called **variables**"
   ]
  },
  {
   "cell_type": "code",
   "execution_count": 53,
   "id": "6fbde4fb",
   "metadata": {},
   "outputs": [
    {
     "name": "stdout",
     "output_type": "stream",
     "text": [
      "2\n"
     ]
    }
   ],
   "source": [
    "a = 2\n",
    "print(a)"
   ]
  },
  {
   "cell_type": "code",
   "execution_count": 56,
   "id": "5a73977c",
   "metadata": {},
   "outputs": [
    {
     "name": "stdout",
     "output_type": "stream",
     "text": [
      "5.1\n"
     ]
    }
   ],
   "source": [
    "g = 9.8\n",
    "v_0 = 10\n",
    "t = 1\n",
    "\n",
    "y = -.5*g*t**2 + v_0*t\n",
    "print(y)"
   ]
  },
  {
   "cell_type": "code",
   "execution_count": 57,
   "id": "9d32f130",
   "metadata": {},
   "outputs": [
    {
     "name": "stdout",
     "output_type": "stream",
     "text": [
      "[1, 2, 3, 10]\n"
     ]
    }
   ],
   "source": [
    "a = [1,2,3,4]\n",
    "b = a\n",
    "b[-1] = 10\n",
    "print(b)"
   ]
  },
  {
   "cell_type": "code",
   "execution_count": 58,
   "id": "94c678ec",
   "metadata": {},
   "outputs": [
    {
     "name": "stdout",
     "output_type": "stream",
     "text": [
      "[1, 2, 3, 10]\n"
     ]
    }
   ],
   "source": [
    "print(a)"
   ]
  },
  {
   "cell_type": "code",
   "execution_count": 61,
   "id": "d9b87678",
   "metadata": {},
   "outputs": [
    {
     "name": "stdout",
     "output_type": "stream",
     "text": [
      "[2, 2, 3, 10]\n",
      "[1, 2, 3, 10]\n"
     ]
    }
   ],
   "source": [
    "c = a.copy()\n",
    "c[0] = 2\n",
    "print(c)\n",
    "print(a)"
   ]
  },
  {
   "cell_type": "code",
   "execution_count": 63,
   "id": "8f208b0c",
   "metadata": {},
   "outputs": [
    {
     "name": "stdout",
     "output_type": "stream",
     "text": [
      "A projectile is thrown with gravitational constant 9.8 m/s^2 at an initial velocity 10 for 1 s and is at a height 5.1 m.\n"
     ]
    }
   ],
   "source": [
    "g = 9.8\n",
    "v_0 = 10\n",
    "t = 1\n",
    "\n",
    "y = -.5*g*t**2 + v_0*t\n",
    "print(\"A projectile is thrown with gravitational constant\",g,\"m/s^2 at an initial velocity\",v_0,\"for\",t,\"s and is at a height\",y,\"m.\")"
   ]
  },
  {
   "cell_type": "code",
   "execution_count": 64,
   "id": "bc680d7f",
   "metadata": {},
   "outputs": [
    {
     "name": "stdout",
     "output_type": "stream",
     "text": [
      "A projectile is thrown with gravitational constant 9.8 m/s^2 at an initial velocity 10 for 1 s and is at a height 5.1 m.\n"
     ]
    }
   ],
   "source": [
    "print(\"A projectile is thrown with gravitational constant\",g,\"m/s^2 at an initial velocity\",v_0,\"for\",t,\"s and is at a height\",-.5*g*t**2 + v_0*t,\"m.\")"
   ]
  },
  {
   "cell_type": "code",
   "execution_count": 65,
   "id": "93a14012",
   "metadata": {},
   "outputs": [
    {
     "name": "stdout",
     "output_type": "stream",
     "text": [
      "A projectile is thrown with gravitational constant 9.8m/s^2 at an initial velocity 10 for 1s and is at a height 5.1m.\n"
     ]
    }
   ],
   "source": [
    "print(\"A projectile is thrown with gravitational constant {}m/s^2 at an initial velocity {} for {}s and is at a height {}m.\".format(g,v_0,t,y))"
   ]
  },
  {
   "cell_type": "code",
   "execution_count": 67,
   "id": "1ed48134",
   "metadata": {},
   "outputs": [
    {
     "name": "stdout",
     "output_type": "stream",
     "text": [
      "3\n"
     ]
    }
   ],
   "source": [
    "var = 3\n",
    "print(var)"
   ]
  },
  {
   "cell_type": "code",
   "execution_count": 69,
   "id": "52b7dd0a",
   "metadata": {},
   "outputs": [
    {
     "name": "stdout",
     "output_type": "stream",
     "text": [
      "/bin/bash: var: command not found\r\n"
     ]
    }
   ],
   "source": [
    "!var = 2"
   ]
  },
  {
   "cell_type": "code",
   "execution_count": 70,
   "id": "9514ad85",
   "metadata": {},
   "outputs": [
    {
     "name": "stdout",
     "output_type": "stream",
     "text": [
      "2\n"
     ]
    }
   ],
   "source": [
    "var123 = 2\n",
    "print(var123)"
   ]
  },
  {
   "cell_type": "code",
   "execution_count": 71,
   "id": "2c0506d0",
   "metadata": {},
   "outputs": [
    {
     "ename": "SyntaxError",
     "evalue": "invalid syntax (2374603317.py, line 1)",
     "output_type": "error",
     "traceback": [
      "\u001b[0;36m  File \u001b[0;32m\"/tmp/ipykernel_24/2374603317.py\"\u001b[0;36m, line \u001b[0;32m1\u001b[0m\n\u001b[0;31m    var! = 2\u001b[0m\n\u001b[0m       ^\u001b[0m\n\u001b[0;31mSyntaxError\u001b[0m\u001b[0;31m:\u001b[0m invalid syntax\n"
     ]
    }
   ],
   "source": [
    "var! = 2\n",
    "print(var!)"
   ]
  },
  {
   "cell_type": "code",
   "execution_count": 72,
   "id": "acad8ad6",
   "metadata": {},
   "outputs": [
    {
     "ename": "SyntaxError",
     "evalue": "cannot assign to operator (683516673.py, line 1)",
     "output_type": "error",
     "traceback": [
      "\u001b[0;36m  File \u001b[0;32m\"/tmp/ipykernel_24/683516673.py\"\u001b[0;36m, line \u001b[0;32m1\u001b[0m\n\u001b[0;31m    var-2 = 2\u001b[0m\n\u001b[0m    ^\u001b[0m\n\u001b[0;31mSyntaxError\u001b[0m\u001b[0;31m:\u001b[0m cannot assign to operator\n"
     ]
    }
   ],
   "source": [
    "var-2 = 2"
   ]
  },
  {
   "cell_type": "code",
   "execution_count": 73,
   "id": "cb9be337",
   "metadata": {},
   "outputs": [
    {
     "ename": "SyntaxError",
     "evalue": "invalid syntax (4291874890.py, line 1)",
     "output_type": "error",
     "traceback": [
      "\u001b[0;36m  File \u001b[0;32m\"/tmp/ipykernel_24/4291874890.py\"\u001b[0;36m, line \u001b[0;32m1\u001b[0m\n\u001b[0;31m    1var = 2\u001b[0m\n\u001b[0m     ^\u001b[0m\n\u001b[0;31mSyntaxError\u001b[0m\u001b[0;31m:\u001b[0m invalid syntax\n"
     ]
    }
   ],
   "source": [
    "1var = 2"
   ]
  },
  {
   "cell_type": "code",
   "execution_count": 74,
   "id": "44f7ad05",
   "metadata": {},
   "outputs": [
    {
     "ename": "SyntaxError",
     "evalue": "cannot assign to True (210365840.py, line 1)",
     "output_type": "error",
     "traceback": [
      "\u001b[0;36m  File \u001b[0;32m\"/tmp/ipykernel_24/210365840.py\"\u001b[0;36m, line \u001b[0;32m1\u001b[0m\n\u001b[0;31m    True = 2\u001b[0m\n\u001b[0m    ^\u001b[0m\n\u001b[0;31mSyntaxError\u001b[0m\u001b[0;31m:\u001b[0m cannot assign to True\n"
     ]
    }
   ],
   "source": [
    "True = 2"
   ]
  },
  {
   "cell_type": "markdown",
   "id": "d57a04c8",
   "metadata": {},
   "source": [
    "## Forbidden Keywords in Python"
   ]
  },
  {
   "cell_type": "code",
   "execution_count": 78,
   "id": "b903c325",
   "metadata": {},
   "outputs": [
    {
     "data": {
      "text/plain": [
       "['__all__',\n",
       " '__builtins__',\n",
       " '__cached__',\n",
       " '__doc__',\n",
       " '__file__',\n",
       " '__loader__',\n",
       " '__name__',\n",
       " '__package__',\n",
       " '__spec__',\n",
       " 'iskeyword',\n",
       " 'kwlist']"
      ]
     },
     "execution_count": 78,
     "metadata": {},
     "output_type": "execute_result"
    }
   ],
   "source": [
    "import keyword\n",
    "dir(keyword)"
   ]
  },
  {
   "cell_type": "code",
   "execution_count": 80,
   "id": "ba73b34c",
   "metadata": {},
   "outputs": [
    {
     "name": "stdout",
     "output_type": "stream",
     "text": [
      "['False', 'None', 'True', 'and', 'as', 'assert', 'async', 'await', 'break', 'class', 'continue', 'def', 'del', 'elif', 'else', 'except', 'finally', 'for', 'from', 'global', 'if', 'import', 'in', 'is', 'lambda', 'nonlocal', 'not', 'or', 'pass', 'raise', 'return', 'try', 'while', 'with', 'yield']\n"
     ]
    }
   ],
   "source": [
    "print(keyword.kwlist)"
   ]
  },
  {
   "cell_type": "code",
   "execution_count": null,
   "id": "d2df6df6",
   "metadata": {},
   "outputs": [],
   "source": []
  },
  {
   "cell_type": "code",
   "execution_count": null,
   "id": "dae1b164",
   "metadata": {},
   "outputs": [],
   "source": []
  },
  {
   "cell_type": "code",
   "execution_count": null,
   "id": "584dce85",
   "metadata": {},
   "outputs": [],
   "source": []
  },
  {
   "cell_type": "code",
   "execution_count": null,
   "id": "dc556356",
   "metadata": {},
   "outputs": [],
   "source": []
  },
  {
   "cell_type": "code",
   "execution_count": 9,
   "id": "e151dbf3",
   "metadata": {},
   "outputs": [
    {
     "data": {
      "text/plain": [
       "True"
      ]
     },
     "execution_count": 9,
     "metadata": {},
     "output_type": "execute_result"
    }
   ],
   "source": []
  },
  {
   "cell_type": "code",
   "execution_count": null,
   "id": "c80995d9",
   "metadata": {},
   "outputs": [],
   "source": []
  }
 ],
 "metadata": {
  "kernelspec": {
   "display_name": "Python 3 (ipykernel)",
   "language": "python",
   "name": "python3"
  },
  "language_info": {
   "codemirror_mode": {
    "name": "ipython",
    "version": 3
   },
   "file_extension": ".py",
   "mimetype": "text/x-python",
   "name": "python",
   "nbconvert_exporter": "python",
   "pygments_lexer": "ipython3",
   "version": "3.8.10"
  }
 },
 "nbformat": 4,
 "nbformat_minor": 5
}
