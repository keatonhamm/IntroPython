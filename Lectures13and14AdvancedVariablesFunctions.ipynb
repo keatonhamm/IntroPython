{
 "cells": [
  {
   "cell_type": "markdown",
   "id": "a3e0d449",
   "metadata": {},
   "source": [
    "## Advanced Values, Variables, and Types\n",
    "\n",
    "1. Tuples\n",
    "1. More about lists\n",
    "1. Dictionaries\n",
    "1. is and id functions in Python"
   ]
  },
  {
   "cell_type": "code",
   "execution_count": 1,
   "id": "e5675884",
   "metadata": {},
   "outputs": [
    {
     "name": "stdout",
     "output_type": "stream",
     "text": [
      "(1, 2, 3, 4)\n"
     ]
    }
   ],
   "source": [
    "my_tuple = (1,2,3,4)\n",
    "print(my_tuple)"
   ]
  },
  {
   "cell_type": "code",
   "execution_count": 2,
   "id": "8ed4012e",
   "metadata": {},
   "outputs": [
    {
     "data": {
      "text/plain": [
       "1"
      ]
     },
     "execution_count": 2,
     "metadata": {},
     "output_type": "execute_result"
    }
   ],
   "source": [
    "my_tuple[0]"
   ]
  },
  {
   "cell_type": "code",
   "execution_count": 3,
   "id": "8ffbfa47",
   "metadata": {},
   "outputs": [
    {
     "data": {
      "text/plain": [
       "(1, 2, 3)"
      ]
     },
     "execution_count": 3,
     "metadata": {},
     "output_type": "execute_result"
    }
   ],
   "source": [
    "my_tuple[:3]"
   ]
  },
  {
   "cell_type": "code",
   "execution_count": 4,
   "id": "b51fa18f",
   "metadata": {},
   "outputs": [
    {
     "ename": "TypeError",
     "evalue": "'tuple' object does not support item assignment",
     "output_type": "error",
     "traceback": [
      "\u001b[0;31m---------------------------------------------------------------------------\u001b[0m",
      "\u001b[0;31mTypeError\u001b[0m                                 Traceback (most recent call last)",
      "\u001b[0;32m/tmp/ipykernel_151/386330067.py\u001b[0m in \u001b[0;36m<module>\u001b[0;34m\u001b[0m\n\u001b[1;32m      1\u001b[0m \u001b[0;31m# Tuples are immutable\u001b[0m\u001b[0;34m\u001b[0m\u001b[0;34m\u001b[0m\u001b[0;34m\u001b[0m\u001b[0m\n\u001b[0;32m----> 2\u001b[0;31m \u001b[0mmy_tuple\u001b[0m\u001b[0;34m[\u001b[0m\u001b[0;36m0\u001b[0m\u001b[0;34m]\u001b[0m \u001b[0;34m=\u001b[0m \u001b[0;36m5\u001b[0m\u001b[0;34m\u001b[0m\u001b[0;34m\u001b[0m\u001b[0m\n\u001b[0m",
      "\u001b[0;31mTypeError\u001b[0m: 'tuple' object does not support item assignment"
     ]
    }
   ],
   "source": [
    "# Tuples are immutable\n",
    "my_tuple[0] = 5"
   ]
  },
  {
   "cell_type": "code",
   "execution_count": 5,
   "id": "04a52ae0",
   "metadata": {},
   "outputs": [
    {
     "data": {
      "text/plain": [
       "tuple"
      ]
     },
     "execution_count": 5,
     "metadata": {},
     "output_type": "execute_result"
    }
   ],
   "source": [
    "type(my_tuple)"
   ]
  },
  {
   "cell_type": "code",
   "execution_count": 6,
   "id": "22c238b9",
   "metadata": {},
   "outputs": [
    {
     "data": {
      "text/plain": [
       "False"
      ]
     },
     "execution_count": 6,
     "metadata": {},
     "output_type": "execute_result"
    }
   ],
   "source": [
    "(1,2,3,4) == [1,2,3,4]"
   ]
  },
  {
   "cell_type": "code",
   "execution_count": 8,
   "id": "09bc5fb2",
   "metadata": {},
   "outputs": [
    {
     "data": {
      "text/plain": [
       "[1, 2, 3, 4]"
      ]
     },
     "execution_count": 8,
     "metadata": {},
     "output_type": "execute_result"
    }
   ],
   "source": [
    "my_list = list(my_tuple)\n",
    "my_list"
   ]
  },
  {
   "cell_type": "code",
   "execution_count": 10,
   "id": "2a9752d3",
   "metadata": {},
   "outputs": [
    {
     "name": "stdout",
     "output_type": "stream",
     "text": [
      "(1, 2, 3, 4)\n"
     ]
    }
   ],
   "source": [
    "tuple2 = tuple(my_list)\n",
    "print(tuple2)"
   ]
  },
  {
   "cell_type": "code",
   "execution_count": 11,
   "id": "59e46a82",
   "metadata": {},
   "outputs": [
    {
     "name": "stdout",
     "output_type": "stream",
     "text": [
      "1\n",
      "2\n",
      "3\n",
      "4\n"
     ]
    }
   ],
   "source": [
    "w,x,y,z = my_tuple\n",
    "print(w)\n",
    "print(x)\n",
    "print(y)\n",
    "print(z)"
   ]
  },
  {
   "cell_type": "code",
   "execution_count": 12,
   "id": "10f993a5",
   "metadata": {},
   "outputs": [
    {
     "name": "stdout",
     "output_type": "stream",
     "text": [
      "1\n",
      "2\n",
      "3\n",
      "4\n"
     ]
    }
   ],
   "source": [
    "w,x,y,z = my_list\n",
    "print(w)\n",
    "print(x)\n",
    "print(y)\n",
    "print(z)"
   ]
  },
  {
   "cell_type": "code",
   "execution_count": 15,
   "id": "13d7d2e2",
   "metadata": {},
   "outputs": [
    {
     "data": {
      "text/plain": [
       "(1, 2, 3)"
      ]
     },
     "execution_count": 15,
     "metadata": {},
     "output_type": "execute_result"
    }
   ],
   "source": [
    "my_tuple[:3]"
   ]
  },
  {
   "cell_type": "code",
   "execution_count": 16,
   "id": "9fd6fb7a",
   "metadata": {},
   "outputs": [
    {
     "data": {
      "text/plain": [
       "(3, 4)"
      ]
     },
     "execution_count": 16,
     "metadata": {},
     "output_type": "execute_result"
    }
   ],
   "source": [
    "my_tuple[-2:]"
   ]
  },
  {
   "cell_type": "code",
   "execution_count": 17,
   "id": "1fad1786",
   "metadata": {},
   "outputs": [
    {
     "data": {
      "text/plain": [
       "9788960"
      ]
     },
     "execution_count": 17,
     "metadata": {},
     "output_type": "execute_result"
    }
   ],
   "source": [
    "id(0)"
   ]
  },
  {
   "cell_type": "code",
   "execution_count": 18,
   "id": "800b33fc",
   "metadata": {},
   "outputs": [
    {
     "data": {
      "text/plain": [
       "9788992"
      ]
     },
     "execution_count": 18,
     "metadata": {},
     "output_type": "execute_result"
    }
   ],
   "source": [
    "id(1)"
   ]
  },
  {
   "cell_type": "code",
   "execution_count": 19,
   "id": "add7dffd",
   "metadata": {},
   "outputs": [
    {
     "data": {
      "text/plain": [
       "140541334577520"
      ]
     },
     "execution_count": 19,
     "metadata": {},
     "output_type": "execute_result"
    }
   ],
   "source": [
    "id(0.)"
   ]
  },
  {
   "cell_type": "code",
   "execution_count": 20,
   "id": "b378bde6",
   "metadata": {},
   "outputs": [
    {
     "data": {
      "text/plain": [
       "140541390686224"
      ]
     },
     "execution_count": 20,
     "metadata": {},
     "output_type": "execute_result"
    }
   ],
   "source": [
    "id(my_tuple)"
   ]
  },
  {
   "cell_type": "code",
   "execution_count": 21,
   "id": "1f34d257",
   "metadata": {},
   "outputs": [
    {
     "data": {
      "text/plain": [
       "140541334452928"
      ]
     },
     "execution_count": 21,
     "metadata": {},
     "output_type": "execute_result"
    }
   ],
   "source": [
    "id(my_list)"
   ]
  },
  {
   "cell_type": "code",
   "execution_count": 22,
   "id": "b703c352",
   "metadata": {},
   "outputs": [
    {
     "name": "stdout",
     "output_type": "stream",
     "text": [
      "9788992\n",
      "9788992\n"
     ]
    }
   ],
   "source": [
    "a = 1\n",
    "b = a\n",
    "print(id(a))\n",
    "print(id(b))"
   ]
  },
  {
   "cell_type": "code",
   "execution_count": 23,
   "id": "799d2f9c",
   "metadata": {},
   "outputs": [
    {
     "data": {
      "text/plain": [
       "True"
      ]
     },
     "execution_count": 23,
     "metadata": {},
     "output_type": "execute_result"
    }
   ],
   "source": [
    "id([1,2,3]) == id([1,2,3])"
   ]
  },
  {
   "cell_type": "code",
   "execution_count": 24,
   "id": "08eb87eb",
   "metadata": {},
   "outputs": [
    {
     "data": {
      "text/plain": [
       "True"
      ]
     },
     "execution_count": 24,
     "metadata": {},
     "output_type": "execute_result"
    }
   ],
   "source": [
    "True is True"
   ]
  },
  {
   "cell_type": "code",
   "execution_count": 25,
   "id": "582e186a",
   "metadata": {},
   "outputs": [
    {
     "data": {
      "text/plain": [
       "True"
      ]
     },
     "execution_count": 25,
     "metadata": {},
     "output_type": "execute_result"
    }
   ],
   "source": [
    "None is None"
   ]
  },
  {
   "cell_type": "code",
   "execution_count": 26,
   "id": "bca150d9",
   "metadata": {},
   "outputs": [
    {
     "data": {
      "text/plain": [
       "False"
      ]
     },
     "execution_count": 26,
     "metadata": {},
     "output_type": "execute_result"
    }
   ],
   "source": [
    "[1,2,3] is [1,2,3]"
   ]
  },
  {
   "cell_type": "code",
   "execution_count": 28,
   "id": "7d5185d5",
   "metadata": {},
   "outputs": [
    {
     "name": "stdout",
     "output_type": "stream",
     "text": [
      "True\n",
      "True\n",
      "True\n"
     ]
    }
   ],
   "source": [
    "a = [1,2,3,4]\n",
    "b = a\n",
    "print(id(a)==id(b))\n",
    "print(a is b)\n",
    "print(b is a)"
   ]
  },
  {
   "cell_type": "code",
   "execution_count": 29,
   "id": "01e6887c",
   "metadata": {},
   "outputs": [
    {
     "name": "stdout",
     "output_type": "stream",
     "text": [
      "[5, 2, 3, 4]\n"
     ]
    }
   ],
   "source": [
    "b[0] = 5\n",
    "print(a)"
   ]
  },
  {
   "cell_type": "code",
   "execution_count": 30,
   "id": "da0ad0f9",
   "metadata": {},
   "outputs": [
    {
     "data": {
      "text/plain": [
       "True"
      ]
     },
     "execution_count": 30,
     "metadata": {},
     "output_type": "execute_result"
    }
   ],
   "source": [
    "b is a"
   ]
  },
  {
   "cell_type": "code",
   "execution_count": 31,
   "id": "59a04d10",
   "metadata": {},
   "outputs": [
    {
     "name": "stdout",
     "output_type": "stream",
     "text": [
      "False\n"
     ]
    }
   ],
   "source": [
    "a = 1\n",
    "b = a\n",
    "b = 2\n",
    "print(b is a)"
   ]
  },
  {
   "cell_type": "code",
   "execution_count": 32,
   "id": "c7695d04",
   "metadata": {},
   "outputs": [
    {
     "name": "stdout",
     "output_type": "stream",
     "text": [
      "[1, 2, 3, 4]\n",
      "[1, 2, 3, 4]\n"
     ]
    }
   ],
   "source": [
    "a = [1,2,3,4]\n",
    "b = a.copy()\n",
    "print(a)\n",
    "print(b)"
   ]
  },
  {
   "cell_type": "code",
   "execution_count": 33,
   "id": "2748ebb4",
   "metadata": {},
   "outputs": [
    {
     "data": {
      "text/plain": [
       "False"
      ]
     },
     "execution_count": 33,
     "metadata": {},
     "output_type": "execute_result"
    }
   ],
   "source": [
    "b is a"
   ]
  },
  {
   "cell_type": "code",
   "execution_count": 34,
   "id": "0a096eec",
   "metadata": {},
   "outputs": [
    {
     "name": "stdout",
     "output_type": "stream",
     "text": [
      "[1, 2, 3, 4]\n",
      "[6, 2, 3, 4]\n"
     ]
    }
   ],
   "source": [
    "b[0] = 6\n",
    "print(a)\n",
    "print(b)"
   ]
  },
  {
   "cell_type": "code",
   "execution_count": 35,
   "id": "5f11e071",
   "metadata": {},
   "outputs": [
    {
     "name": "stdout",
     "output_type": "stream",
     "text": [
      "[1, 2, 3, 4]\n",
      "[1, 2, 3, 4]\n",
      "True\n",
      "False\n",
      "False\n"
     ]
    }
   ],
   "source": [
    "a = [1,2,3,4]\n",
    "b = a.copy()\n",
    "print(a)\n",
    "print(b)\n",
    "print(a==b)\n",
    "print(id(a)==id(b))\n",
    "print(a is b)"
   ]
  },
  {
   "cell_type": "code",
   "execution_count": 36,
   "id": "4bf68593",
   "metadata": {},
   "outputs": [
    {
     "data": {
      "text/plain": [
       "140541334494144"
      ]
     },
     "execution_count": 36,
     "metadata": {},
     "output_type": "execute_result"
    }
   ],
   "source": [
    "id(a)"
   ]
  },
  {
   "cell_type": "code",
   "execution_count": 37,
   "id": "54cca385",
   "metadata": {},
   "outputs": [
    {
     "data": {
      "text/plain": [
       "140541334493888"
      ]
     },
     "execution_count": 37,
     "metadata": {},
     "output_type": "execute_result"
    }
   ],
   "source": [
    "id(b)"
   ]
  },
  {
   "cell_type": "code",
   "execution_count": 38,
   "id": "5051a535",
   "metadata": {},
   "outputs": [
    {
     "data": {
      "text/plain": [
       "[1, 2, 3, 4]"
      ]
     },
     "execution_count": 38,
     "metadata": {},
     "output_type": "execute_result"
    }
   ],
   "source": [
    "a"
   ]
  },
  {
   "cell_type": "code",
   "execution_count": 39,
   "id": "25b747da",
   "metadata": {},
   "outputs": [
    {
     "data": {
      "text/plain": [
       "[1, 2, 3, 4]"
      ]
     },
     "execution_count": 39,
     "metadata": {},
     "output_type": "execute_result"
    }
   ],
   "source": [
    "b"
   ]
  },
  {
   "cell_type": "markdown",
   "id": "b83605a2",
   "metadata": {},
   "source": [
    "## List comprehensions"
   ]
  },
  {
   "cell_type": "code",
   "execution_count": 40,
   "id": "edec03e7",
   "metadata": {},
   "outputs": [
    {
     "name": "stdout",
     "output_type": "stream",
     "text": [
      "[27, 54, 81, 108, 135, 162, 189, 216, 243, 270]\n"
     ]
    }
   ],
   "source": [
    "out = []\n",
    "for i in range(1,11):\n",
    "    x = 27*i\n",
    "    out.append(x)\n",
    "print(out)"
   ]
  },
  {
   "cell_type": "code",
   "execution_count": 41,
   "id": "c357a138",
   "metadata": {},
   "outputs": [
    {
     "data": {
      "text/plain": [
       "[27, 54, 81, 108, 135, 162, 189, 216, 243, 270]"
      ]
     },
     "execution_count": 41,
     "metadata": {},
     "output_type": "execute_result"
    }
   ],
   "source": [
    "[27*i for i in range(1,11)]"
   ]
  },
  {
   "cell_type": "code",
   "execution_count": 42,
   "id": "c43bd0d8",
   "metadata": {},
   "outputs": [
    {
     "data": {
      "text/plain": [
       "[0, 1, 4, 9, 16]"
      ]
     },
     "execution_count": 42,
     "metadata": {},
     "output_type": "execute_result"
    }
   ],
   "source": [
    "[i**2 for i in range(5)]"
   ]
  },
  {
   "cell_type": "code",
   "execution_count": 43,
   "id": "5aa7d7bd",
   "metadata": {},
   "outputs": [
    {
     "data": {
      "text/plain": [
       "[10, 10, 10, 10]"
      ]
     },
     "execution_count": 43,
     "metadata": {},
     "output_type": "execute_result"
    }
   ],
   "source": [
    "[10 for i in range(4)]"
   ]
  },
  {
   "cell_type": "code",
   "execution_count": 44,
   "id": "0ebf7453",
   "metadata": {},
   "outputs": [
    {
     "data": {
      "text/plain": [
       "[10, 10, 10, 10]"
      ]
     },
     "execution_count": 44,
     "metadata": {},
     "output_type": "execute_result"
    }
   ],
   "source": [
    "[10]*4"
   ]
  },
  {
   "cell_type": "code",
   "execution_count": 46,
   "id": "ba8ccbe1",
   "metadata": {},
   "outputs": [
    {
     "ename": "SyntaxError",
     "evalue": "invalid syntax (2537965538.py, line 1)",
     "output_type": "error",
     "traceback": [
      "\u001b[0;36m  File \u001b[0;32m\"/tmp/ipykernel_151/2537965538.py\"\u001b[0;36m, line \u001b[0;32m1\u001b[0m\n\u001b[0;31m    27*i for i in range(1,11)  ## Must have the brackets!!\u001b[0m\n\u001b[0m         ^\u001b[0m\n\u001b[0;31mSyntaxError\u001b[0m\u001b[0;31m:\u001b[0m invalid syntax\n"
     ]
    }
   ],
   "source": [
    "27*i for i in range(1,11)  ## Must have the brackets!!"
   ]
  },
  {
   "cell_type": "code",
   "execution_count": 47,
   "id": "5089c882",
   "metadata": {},
   "outputs": [
    {
     "data": {
      "text/plain": [
       "[27, 54, 81, 108, 135, 162, 189, 216, 243, 270]"
      ]
     },
     "execution_count": 47,
     "metadata": {},
     "output_type": "execute_result"
    }
   ],
   "source": [
    "[27*i for i in range(1,20) if i<=10]"
   ]
  },
  {
   "cell_type": "code",
   "execution_count": 48,
   "id": "93fd61b3",
   "metadata": {},
   "outputs": [
    {
     "name": "stdout",
     "output_type": "stream",
     "text": [
      "[27, 54, 81, 108, 135, 162, 189, 216, 243, 270]\n"
     ]
    }
   ],
   "source": [
    "out = []\n",
    "for i in range(1,20):\n",
    "    x = 27*i\n",
    "    if i <= 10:\n",
    "        out.append(x)\n",
    "print(out)"
   ]
  },
  {
   "cell_type": "code",
   "execution_count": 50,
   "id": "170ce382",
   "metadata": {},
   "outputs": [
    {
     "data": {
      "text/plain": [
       "[27, 54, 81, 108, 135, 162, 189, 216, 243, 270]"
      ]
     },
     "execution_count": 50,
     "metadata": {},
     "output_type": "execute_result"
    }
   ],
   "source": [
    "[27*x for i in range(30) if i==3 for x in range(1,11)]"
   ]
  },
  {
   "cell_type": "code",
   "execution_count": 51,
   "id": "f784f725",
   "metadata": {},
   "outputs": [
    {
     "name": "stdout",
     "output_type": "stream",
     "text": [
      "[27, 54, 81, 108, 135, 162, 189, 216, 243, 270]\n"
     ]
    }
   ],
   "source": [
    "out = []\n",
    "for i in range(30):\n",
    "    if i == 3:\n",
    "        for x in range(1,11):\n",
    "            out.append(27*x)\n",
    "print(out)"
   ]
  },
  {
   "cell_type": "code",
   "execution_count": 52,
   "id": "34d8d8fe",
   "metadata": {},
   "outputs": [
    {
     "data": {
      "text/plain": [
       "[27,\n",
       " 54,\n",
       " 81,\n",
       " 108,\n",
       " 135,\n",
       " 162,\n",
       " 189,\n",
       " 216,\n",
       " 243,\n",
       " 270,\n",
       " 27,\n",
       " 54,\n",
       " 81,\n",
       " 108,\n",
       " 135,\n",
       " 162,\n",
       " 189,\n",
       " 216,\n",
       " 243,\n",
       " 270,\n",
       " 27,\n",
       " 54,\n",
       " 81,\n",
       " 108,\n",
       " 135,\n",
       " 162,\n",
       " 189,\n",
       " 216,\n",
       " 243,\n",
       " 270,\n",
       " 27,\n",
       " 54,\n",
       " 81,\n",
       " 108,\n",
       " 135,\n",
       " 162,\n",
       " 189,\n",
       " 216,\n",
       " 243,\n",
       " 270]"
      ]
     },
     "execution_count": 52,
     "metadata": {},
     "output_type": "execute_result"
    }
   ],
   "source": [
    "[27*x for i in range(30) if i<=3 for x in range(1,11)]"
   ]
  },
  {
   "cell_type": "code",
   "execution_count": 53,
   "id": "aad2cb80",
   "metadata": {},
   "outputs": [
    {
     "data": {
      "text/plain": [
       "[0,\n",
       " 0,\n",
       " 0,\n",
       " 0,\n",
       " 0,\n",
       " 0,\n",
       " 0,\n",
       " 0,\n",
       " 0,\n",
       " 0,\n",
       " 1,\n",
       " 2,\n",
       " 3,\n",
       " 4,\n",
       " 5,\n",
       " 6,\n",
       " 7,\n",
       " 8,\n",
       " 9,\n",
       " 10,\n",
       " 2,\n",
       " 4,\n",
       " 6,\n",
       " 8,\n",
       " 10,\n",
       " 12,\n",
       " 14,\n",
       " 16,\n",
       " 18,\n",
       " 20,\n",
       " 3,\n",
       " 6,\n",
       " 9,\n",
       " 12,\n",
       " 15,\n",
       " 18,\n",
       " 21,\n",
       " 24,\n",
       " 27,\n",
       " 30]"
      ]
     },
     "execution_count": 53,
     "metadata": {},
     "output_type": "execute_result"
    }
   ],
   "source": [
    "[i*x for i in range(30) if i<=3 for x in range(1,11)]"
   ]
  },
  {
   "cell_type": "markdown",
   "id": "1ac9038e",
   "metadata": {},
   "source": [
    "## String Manipulations"
   ]
  },
  {
   "cell_type": "code",
   "execution_count": 54,
   "id": "f596cf5c",
   "metadata": {},
   "outputs": [],
   "source": [
    "String0 = 'This is DATA 3401: Python for Data Science I'"
   ]
  },
  {
   "cell_type": "code",
   "execution_count": 55,
   "id": "4b7344e8",
   "metadata": {},
   "outputs": [
    {
     "data": {
      "text/plain": [
       "'is DA'"
      ]
     },
     "execution_count": 55,
     "metadata": {},
     "output_type": "execute_result"
    }
   ],
   "source": [
    "String0[5:10]"
   ]
  },
  {
   "cell_type": "code",
   "execution_count": 56,
   "id": "20ea2447",
   "metadata": {},
   "outputs": [
    {
     "name": "stdout",
     "output_type": "stream",
     "text": [
      "0\n"
     ]
    }
   ],
   "source": [
    "print(String0.find('T'))"
   ]
  },
  {
   "cell_type": "code",
   "execution_count": 57,
   "id": "83665771",
   "metadata": {},
   "outputs": [
    {
     "name": "stdout",
     "output_type": "stream",
     "text": [
      "2\n"
     ]
    }
   ],
   "source": [
    "print(String0.find('is'))"
   ]
  },
  {
   "cell_type": "code",
   "execution_count": 58,
   "id": "6ec95b50",
   "metadata": {},
   "outputs": [
    {
     "name": "stdout",
     "output_type": "stream",
     "text": [
      "-1\n"
     ]
    }
   ],
   "source": [
    "print(String0.find('pyth'))"
   ]
  },
  {
   "cell_type": "code",
   "execution_count": 59,
   "id": "6b6ef9c5",
   "metadata": {},
   "outputs": [
    {
     "name": "stdout",
     "output_type": "stream",
     "text": [
      "-1\n"
     ]
    }
   ],
   "source": [
    "print(String0.find('W'))"
   ]
  },
  {
   "cell_type": "code",
   "execution_count": 60,
   "id": "a4307fee",
   "metadata": {},
   "outputs": [
    {
     "name": "stdout",
     "output_type": "stream",
     "text": [
      "5\n"
     ]
    }
   ],
   "source": [
    "print(String0.find('is',3,10))"
   ]
  },
  {
   "cell_type": "code",
   "execution_count": 61,
   "id": "96dee727",
   "metadata": {},
   "outputs": [
    {
     "name": "stdout",
     "output_type": "stream",
     "text": [
      "2\n"
     ]
    }
   ],
   "source": [
    "print(String0[3:].find('is'))"
   ]
  },
  {
   "cell_type": "code",
   "execution_count": 62,
   "id": "6bdf54bf",
   "metadata": {},
   "outputs": [
    {
     "data": {
      "text/plain": [
       "'s is DATA 3401: Python for Data Science I'"
      ]
     },
     "execution_count": 62,
     "metadata": {},
     "output_type": "execute_result"
    }
   ],
   "source": [
    "String0[3:]"
   ]
  },
  {
   "cell_type": "code",
   "execution_count": 63,
   "id": "79cc74c8",
   "metadata": {},
   "outputs": [
    {
     "name": "stdout",
     "output_type": "stream",
     "text": [
      "3\n"
     ]
    }
   ],
   "source": [
    "print(String0.count('i'))"
   ]
  },
  {
   "cell_type": "code",
   "execution_count": 64,
   "id": "bed0e68f",
   "metadata": {},
   "outputs": [
    {
     "name": "stdout",
     "output_type": "stream",
     "text": [
      "2\n"
     ]
    }
   ],
   "source": [
    "print(String0.count('is'))"
   ]
  },
  {
   "cell_type": "code",
   "execution_count": 65,
   "id": "071c42ed",
   "metadata": {},
   "outputs": [
    {
     "name": "stdout",
     "output_type": "stream",
     "text": [
      "0\n"
     ]
    }
   ],
   "source": [
    "print(String0.count('W'))"
   ]
  },
  {
   "cell_type": "code",
   "execution_count": 66,
   "id": "00d92a0d",
   "metadata": {},
   "outputs": [
    {
     "name": "stdout",
     "output_type": "stream",
     "text": [
      "1\n"
     ]
    }
   ],
   "source": [
    "print(String0.count('is',3,10))"
   ]
  },
  {
   "cell_type": "code",
   "execution_count": 67,
   "id": "bce9cba3",
   "metadata": {},
   "outputs": [
    {
     "name": "stdout",
     "output_type": "stream",
     "text": [
      "['T', 'h', 'i', 's', ' ', 'i', 's', ' ', 'D', 'A', 'T', 'A', ' ', '3', '4', '0', '1', ':', ' ', 'P', 'y', 't', 'h', 'o', 'n', ' ', 'f', 'o', 'r', ' ', 'D', 'a', 't', 'a', ' ', 'S', 'c', 'i', 'e', 'n', 'c', 'e', ' ', 'I']\n"
     ]
    }
   ],
   "source": [
    "a = list(String0)\n",
    "print(a)"
   ]
  },
  {
   "cell_type": "code",
   "execution_count": 68,
   "id": "8a66fdf2",
   "metadata": {},
   "outputs": [
    {
     "name": "stdout",
     "output_type": "stream",
     "text": [
      "This is DATA 3401: Python for Data Science I\n"
     ]
    }
   ],
   "source": [
    "b = ''.join(a)\n",
    "print(b)"
   ]
  },
  {
   "cell_type": "code",
   "execution_count": 69,
   "id": "0e02eb39",
   "metadata": {},
   "outputs": [
    {
     "name": "stdout",
     "output_type": "stream",
     "text": [
      "T/h/i/s/ /i/s/ /D/A/T/A/ /3/4/0/1/:/ /P/y/t/h/o/n/ /f/o/r/ /D/a/t/a/ /S/c/i/e/n/c/e/ /I\n"
     ]
    }
   ],
   "source": [
    "c = '/'.join(a)\n",
    "print(c)"
   ]
  },
  {
   "cell_type": "code",
   "execution_count": 70,
   "id": "4e66c41e",
   "metadata": {},
   "outputs": [
    {
     "name": "stdout",
     "output_type": "stream",
     "text": [
      "T h i s   i s   D A T A   3 4 0 1 :   P y t h o n   f o r   D a t a   S c i e n c e   I\n"
     ]
    }
   ],
   "source": [
    "print(' '.join(a))"
   ]
  },
  {
   "cell_type": "code",
   "execution_count": 72,
   "id": "f61c93cb",
   "metadata": {},
   "outputs": [
    {
     "name": "stdout",
     "output_type": "stream",
     "text": [
      "T,h,i,s, ,i,s, ,D,A,T,A, ,3,4,0,1,:, ,P,y,t,h,o,n, ,f,o,r, ,D,a,t,a, ,S,c,i,e,n,c,e, ,I\n"
     ]
    }
   ],
   "source": [
    "d = ','.join(a)\n",
    "print(d)"
   ]
  },
  {
   "cell_type": "code",
   "execution_count": 73,
   "id": "4df2892b",
   "metadata": {},
   "outputs": [
    {
     "name": "stdout",
     "output_type": "stream",
     "text": [
      "['T', 'h', 'i', 's', ' ', 'i', 's', ' ', 'D', 'A', 'T', 'A', ' ', '3', '4', '0', '1', ':', ' ', 'P', 'y', 't', 'h', 'o', 'n', ' ', 'f', 'o', 'r', ' ', 'D', 'a', 't', 'a', ' ', 'S', 'c', 'i', 'e', 'n', 'c', 'e', ' ', 'I']\n"
     ]
    }
   ],
   "source": [
    "x = d.split(',')\n",
    "print(x)"
   ]
  },
  {
   "cell_type": "code",
   "execution_count": 74,
   "id": "52af4a75",
   "metadata": {},
   "outputs": [
    {
     "name": "stdout",
     "output_type": "stream",
     "text": [
      "['T', 'h', 'i', 's', ' ', 'i', 's', ' ', 'D', 'A', 'T', 'A', ' ', '3', '4', '0', '1', ':', ' ', 'P', 'y', 't', 'h', 'o', 'n', ' ', 'f', 'o', 'r', ' ', 'D', 'a', 't', 'a', ' ', 'S', 'c', 'i', 'e', 'n', 'c', 'e', ' ', 'I']\n"
     ]
    }
   ],
   "source": [
    "y = c.split('/')\n",
    "print(y)"
   ]
  },
  {
   "cell_type": "code",
   "execution_count": 75,
   "id": "ef603f0b",
   "metadata": {},
   "outputs": [
    {
     "name": "stdout",
     "output_type": "stream",
     "text": [
      "['1', '14.23', '1.71', '2.43', '15.6', '127', '2.8', '3.06', '.28', '2.29', '5.64', '1.04', '3.92', '1065']\n"
     ]
    }
   ],
   "source": [
    "data = '1,14.23,1.71,2.43,15.6,127,2.8,3.06,.28,2.29,5.64,1.04,3.92,1065'\n",
    "print(data.split(','))"
   ]
  },
  {
   "cell_type": "code",
   "execution_count": 76,
   "id": "f93fce34",
   "metadata": {},
   "outputs": [
    {
     "name": "stdout",
     "output_type": "stream",
     "text": [
      "file_name\n",
      "ipynb\n"
     ]
    }
   ],
   "source": [
    "filename = 'file_name.ipynb'\n",
    "name, extension = filename.split('.')\n",
    "print(name)\n",
    "print(extension)"
   ]
  },
  {
   "cell_type": "code",
   "execution_count": 77,
   "id": "5a66d274",
   "metadata": {},
   "outputs": [
    {
     "name": "stdout",
     "output_type": "stream",
     "text": [
      "['file_name', 'ipynb']\n"
     ]
    }
   ],
   "source": [
    "print(filename.split('.'))"
   ]
  },
  {
   "cell_type": "code",
   "execution_count": 78,
   "id": "7781ae48",
   "metadata": {},
   "outputs": [
    {
     "name": "stdout",
     "output_type": "stream",
     "text": [
      "This is DATA 3401: Python for Data Science I\n"
     ]
    }
   ],
   "source": [
    "print(String0)"
   ]
  },
  {
   "cell_type": "code",
   "execution_count": 79,
   "id": "f5f7daf5",
   "metadata": {},
   "outputs": [
    {
     "data": {
      "text/plain": [
       "'This is DATA 3402: Python for Data Science I'"
      ]
     },
     "execution_count": 79,
     "metadata": {},
     "output_type": "execute_result"
    }
   ],
   "source": [
    "String0.replace('3401','3402')"
   ]
  },
  {
   "cell_type": "code",
   "execution_count": 80,
   "id": "81128b0d",
   "metadata": {},
   "outputs": [
    {
     "name": "stdout",
     "output_type": "stream",
     "text": [
      "This is DATA 3401: Python for Data Science I\n"
     ]
    }
   ],
   "source": [
    "print(String0)"
   ]
  },
  {
   "cell_type": "code",
   "execution_count": 82,
   "id": "da28387d",
   "metadata": {},
   "outputs": [
    {
     "data": {
      "text/plain": [
       "'Th* * DATA 3401: Python for Data Science I'"
      ]
     },
     "execution_count": 82,
     "metadata": {},
     "output_type": "execute_result"
    }
   ],
   "source": [
    "String0.replace('is','*')"
   ]
  },
  {
   "cell_type": "code",
   "execution_count": 86,
   "id": "12f363a3",
   "metadata": {},
   "outputs": [
    {
     "data": {
      "text/plain": [
       "'Hello  World'"
      ]
     },
     "execution_count": 86,
     "metadata": {},
     "output_type": "execute_result"
    }
   ],
   "source": [
    "String1 = '          Hello  World         '\n",
    "String1.strip()"
   ]
  },
  {
   "cell_type": "code",
   "execution_count": 89,
   "id": "2cdf6593",
   "metadata": {},
   "outputs": [
    {
     "data": {
      "text/plain": [
       "'Hello  World'"
      ]
     },
     "execution_count": 89,
     "metadata": {},
     "output_type": "execute_result"
    }
   ],
   "source": [
    "String1 = '****Hello  World****'\n",
    "String1.strip('*')"
   ]
  },
  {
   "cell_type": "code",
   "execution_count": 91,
   "id": "f9beb9b3",
   "metadata": {},
   "outputs": [
    {
     "data": {
      "text/plain": [
       "'    ****Hello  World'"
      ]
     },
     "execution_count": 91,
     "metadata": {},
     "output_type": "execute_result"
    }
   ],
   "source": [
    "String1 = '    ****Hello  World****'\n",
    "String1.strip('*')"
   ]
  },
  {
   "cell_type": "code",
   "execution_count": 92,
   "id": "8e7f9d58",
   "metadata": {},
   "outputs": [
    {
     "data": {
      "text/plain": [
       "'Hello  World'"
      ]
     },
     "execution_count": 92,
     "metadata": {},
     "output_type": "execute_result"
    }
   ],
   "source": [
    "String1 = '    ****Hello  World****'\n",
    "String1.strip(' *')"
   ]
  },
  {
   "cell_type": "code",
   "execution_count": 94,
   "id": "cdfc2e9b",
   "metadata": {},
   "outputs": [
    {
     "data": {
      "text/plain": [
       "'Hello  World'"
      ]
     },
     "execution_count": 94,
     "metadata": {},
     "output_type": "execute_result"
    }
   ],
   "source": [
    "String1 = ' **   ****Hello  World****'\n",
    "String1.strip('* ')"
   ]
  },
  {
   "cell_type": "code",
   "execution_count": 95,
   "id": "33c6c6b7",
   "metadata": {},
   "outputs": [
    {
     "data": {
      "text/plain": [
       "'Hello  World****'"
      ]
     },
     "execution_count": 95,
     "metadata": {},
     "output_type": "execute_result"
    }
   ],
   "source": [
    "String1 = ' **   ****Hello  World****'\n",
    "String1.lstrip('* ')"
   ]
  },
  {
   "cell_type": "code",
   "execution_count": 96,
   "id": "bbeba34f",
   "metadata": {},
   "outputs": [
    {
     "data": {
      "text/plain": [
       "' **   ****Hello  World'"
      ]
     },
     "execution_count": 96,
     "metadata": {},
     "output_type": "execute_result"
    }
   ],
   "source": [
    "String1 = ' **   ****Hello  World****'\n",
    "String1.rstrip('* ')"
   ]
  },
  {
   "cell_type": "code",
   "execution_count": 97,
   "id": "93039a73",
   "metadata": {},
   "outputs": [
    {
     "data": {
      "text/plain": [
       "'   ****Hello  World'"
      ]
     },
     "execution_count": 97,
     "metadata": {},
     "output_type": "execute_result"
    }
   ],
   "source": [
    "String1.strip().strip('*')"
   ]
  },
  {
   "cell_type": "code",
   "execution_count": 98,
   "id": "225a82f9",
   "metadata": {},
   "outputs": [
    {
     "data": {
      "text/plain": [
       "'    Hello World     '"
      ]
     },
     "execution_count": 98,
     "metadata": {},
     "output_type": "execute_result"
    }
   ],
   "source": [
    "String2 = 'Hello World'\n",
    "String2.center(20)"
   ]
  },
  {
   "cell_type": "code",
   "execution_count": 99,
   "id": "0b134b59",
   "metadata": {},
   "outputs": [
    {
     "data": {
      "text/plain": [
       "'              Hello World               '"
      ]
     },
     "execution_count": 99,
     "metadata": {},
     "output_type": "execute_result"
    }
   ],
   "source": [
    "String2.center(40)"
   ]
  },
  {
   "cell_type": "code",
   "execution_count": 100,
   "id": "99ba99e5",
   "metadata": {},
   "outputs": [
    {
     "data": {
      "text/plain": [
       "'--------------Hello World---------------'"
      ]
     },
     "execution_count": 100,
     "metadata": {},
     "output_type": "execute_result"
    }
   ],
   "source": [
    "String2.center(40,'-')"
   ]
  },
  {
   "cell_type": "code",
   "execution_count": 102,
   "id": "5c7e7e83",
   "metadata": {},
   "outputs": [
    {
     "data": {
      "text/plain": [
       "'000000000Hello World'"
      ]
     },
     "execution_count": 102,
     "metadata": {},
     "output_type": "execute_result"
    }
   ],
   "source": [
    "String2.zfill(20)"
   ]
  },
  {
   "cell_type": "markdown",
   "id": "2ae0592a",
   "metadata": {},
   "source": [
    "## More about Dictionaries"
   ]
  },
  {
   "cell_type": "code",
   "execution_count": 1,
   "id": "1755bdc1",
   "metadata": {},
   "outputs": [],
   "source": [
    "my_dictionary = {\"A\": 1, \"B\": [1,2,3], \"Charlie\": \"hello\", 4: 5}"
   ]
  },
  {
   "cell_type": "code",
   "execution_count": 2,
   "id": "fd6b361c",
   "metadata": {},
   "outputs": [
    {
     "data": {
      "text/plain": [
       "1"
      ]
     },
     "execution_count": 2,
     "metadata": {},
     "output_type": "execute_result"
    }
   ],
   "source": [
    "my_dictionary[\"A\"]"
   ]
  },
  {
   "cell_type": "code",
   "execution_count": 3,
   "id": "6e62ad59",
   "metadata": {},
   "outputs": [
    {
     "ename": "NameError",
     "evalue": "name 'A' is not defined",
     "output_type": "error",
     "traceback": [
      "\u001b[0;31m---------------------------------------------------------------------------\u001b[0m",
      "\u001b[0;31mNameError\u001b[0m                                 Traceback (most recent call last)",
      "\u001b[0;32m/tmp/ipykernel_130/603325586.py\u001b[0m in \u001b[0;36m<module>\u001b[0;34m\u001b[0m\n\u001b[0;32m----> 1\u001b[0;31m \u001b[0mmy_dictionary\u001b[0m\u001b[0;34m[\u001b[0m\u001b[0mA\u001b[0m\u001b[0;34m]\u001b[0m\u001b[0;34m\u001b[0m\u001b[0;34m\u001b[0m\u001b[0m\n\u001b[0m",
      "\u001b[0;31mNameError\u001b[0m: name 'A' is not defined"
     ]
    }
   ],
   "source": [
    "my_dictionary[A]"
   ]
  },
  {
   "cell_type": "code",
   "execution_count": 4,
   "id": "3d5a2ef1",
   "metadata": {},
   "outputs": [
    {
     "data": {
      "text/plain": [
       "5"
      ]
     },
     "execution_count": 4,
     "metadata": {},
     "output_type": "execute_result"
    }
   ],
   "source": [
    "my_dictionary[4]"
   ]
  },
  {
   "cell_type": "code",
   "execution_count": 5,
   "id": "63090407",
   "metadata": {},
   "outputs": [
    {
     "ename": "KeyError",
     "evalue": "0",
     "output_type": "error",
     "traceback": [
      "\u001b[0;31m---------------------------------------------------------------------------\u001b[0m",
      "\u001b[0;31mKeyError\u001b[0m                                  Traceback (most recent call last)",
      "\u001b[0;32m/tmp/ipykernel_130/882263651.py\u001b[0m in \u001b[0;36m<module>\u001b[0;34m\u001b[0m\n\u001b[0;32m----> 1\u001b[0;31m \u001b[0mmy_dictionary\u001b[0m\u001b[0;34m[\u001b[0m\u001b[0;36m0\u001b[0m\u001b[0;34m]\u001b[0m\u001b[0;34m\u001b[0m\u001b[0;34m\u001b[0m\u001b[0m\n\u001b[0m",
      "\u001b[0;31mKeyError\u001b[0m: 0"
     ]
    }
   ],
   "source": [
    "my_dictionary[0]"
   ]
  },
  {
   "cell_type": "code",
   "execution_count": 6,
   "id": "285fb46d",
   "metadata": {},
   "outputs": [
    {
     "data": {
      "text/plain": [
       "dict_keys(['A', 'B', 'Charlie', 4])"
      ]
     },
     "execution_count": 6,
     "metadata": {},
     "output_type": "execute_result"
    }
   ],
   "source": [
    "my_dictionary.keys()"
   ]
  },
  {
   "cell_type": "code",
   "execution_count": 7,
   "id": "fe14857d",
   "metadata": {},
   "outputs": [
    {
     "data": {
      "text/plain": [
       "dict_values([1, [1, 2, 3], 'hello', 5])"
      ]
     },
     "execution_count": 7,
     "metadata": {},
     "output_type": "execute_result"
    }
   ],
   "source": [
    "my_dictionary.values()"
   ]
  },
  {
   "cell_type": "code",
   "execution_count": 8,
   "id": "f06385a5",
   "metadata": {},
   "outputs": [
    {
     "data": {
      "text/plain": [
       "dict_items([('A', 1), ('B', [1, 2, 3]), ('Charlie', 'hello'), (4, 5)])"
      ]
     },
     "execution_count": 8,
     "metadata": {},
     "output_type": "execute_result"
    }
   ],
   "source": [
    "my_dictionary.items()"
   ]
  },
  {
   "cell_type": "code",
   "execution_count": 9,
   "id": "27c79738",
   "metadata": {},
   "outputs": [
    {
     "name": "stdout",
     "output_type": "stream",
     "text": [
      "{'A': 1, 'B': [1, 2, 3], 'Charlie': 'hello', 4: 5}\n"
     ]
    }
   ],
   "source": [
    "print(my_dictionary)"
   ]
  },
  {
   "cell_type": "code",
   "execution_count": 10,
   "id": "d150af4f",
   "metadata": {},
   "outputs": [],
   "source": [
    "my_dictionary[42] = \"world\""
   ]
  },
  {
   "cell_type": "code",
   "execution_count": 11,
   "id": "21ec156c",
   "metadata": {},
   "outputs": [
    {
     "name": "stdout",
     "output_type": "stream",
     "text": [
      "{'A': 1, 'B': [1, 2, 3], 'Charlie': 'hello', 4: 5, 42: 'world'}\n"
     ]
    }
   ],
   "source": [
    "print(my_dictionary)"
   ]
  },
  {
   "cell_type": "code",
   "execution_count": 12,
   "id": "19ed1c8d",
   "metadata": {},
   "outputs": [],
   "source": [
    "my_dictionary[42] = 0"
   ]
  },
  {
   "cell_type": "code",
   "execution_count": 13,
   "id": "0a830608",
   "metadata": {},
   "outputs": [
    {
     "name": "stdout",
     "output_type": "stream",
     "text": [
      "{'A': 1, 'B': [1, 2, 3], 'Charlie': 'hello', 4: 5, 42: 0}\n"
     ]
    }
   ],
   "source": [
    "print(my_dictionary)"
   ]
  },
  {
   "cell_type": "code",
   "execution_count": 14,
   "id": "b506a15b",
   "metadata": {},
   "outputs": [
    {
     "name": "stdout",
     "output_type": "stream",
     "text": [
      "{'A': 1, 'B': [1, 2, 3], 'Charlie': 'hello', 4: 5}\n"
     ]
    }
   ],
   "source": [
    "my_dictionary.pop(42)\n",
    "print(my_dictionary)"
   ]
  },
  {
   "cell_type": "code",
   "execution_count": 15,
   "id": "459f9498",
   "metadata": {},
   "outputs": [
    {
     "name": "stdout",
     "output_type": "stream",
     "text": [
      "1\n",
      "{'B': [1, 2, 3], 'Charlie': 'hello', 4: 5}\n"
     ]
    }
   ],
   "source": [
    "var = my_dictionary.pop(\"A\")\n",
    "print(var)\n",
    "print(my_dictionary)"
   ]
  },
  {
   "cell_type": "markdown",
   "id": "57691d37",
   "metadata": {},
   "source": [
    "## More advanced functions\n",
    "1. Recursive functions\n",
    "1. Functions with arbitrary number of variables\n",
    "1. Passing functions as arguments\n",
    "1. Functions that return other functions"
   ]
  },
  {
   "cell_type": "code",
   "execution_count": 16,
   "id": "04fe8c20",
   "metadata": {},
   "outputs": [],
   "source": [
    "# Basic factorial function\n",
    "#  n! = n(n-1)(n-2)...2*1\n",
    "def factorial(n):\n",
    "    out = 1\n",
    "    for i in range(2,n+1):\n",
    "        out *= i\n",
    "    return out"
   ]
  },
  {
   "cell_type": "code",
   "execution_count": 17,
   "id": "a4fa4951",
   "metadata": {},
   "outputs": [
    {
     "data": {
      "text/plain": [
       "6"
      ]
     },
     "execution_count": 17,
     "metadata": {},
     "output_type": "execute_result"
    }
   ],
   "source": [
    "factorial(3)"
   ]
  },
  {
   "cell_type": "code",
   "execution_count": 18,
   "id": "aa06874a",
   "metadata": {},
   "outputs": [
    {
     "data": {
      "text/plain": [
       "120"
      ]
     },
     "execution_count": 18,
     "metadata": {},
     "output_type": "execute_result"
    }
   ],
   "source": [
    "factorial(5)"
   ]
  },
  {
   "cell_type": "code",
   "execution_count": 19,
   "id": "d787ec79",
   "metadata": {},
   "outputs": [],
   "source": [
    "# Recursive function\n",
    "#  n! = n(n-1)(n-2)...2*1 = n(n-1)! = n(n-1)(n-2)!\n",
    "\n",
    "# 2! = 2*1!\n",
    "\n",
    "def factorial2(n):\n",
    "    if n==1:\n",
    "        return n\n",
    "    else:\n",
    "        return n*factorial2(n-1)"
   ]
  },
  {
   "cell_type": "code",
   "execution_count": 20,
   "id": "59961641",
   "metadata": {},
   "outputs": [
    {
     "data": {
      "text/plain": [
       "120"
      ]
     },
     "execution_count": 20,
     "metadata": {},
     "output_type": "execute_result"
    }
   ],
   "source": [
    "factorial2(5)"
   ]
  },
  {
   "cell_type": "code",
   "execution_count": 21,
   "id": "68a74315",
   "metadata": {},
   "outputs": [],
   "source": [
    "## Exercise\n",
    "def exponentiate(base,power):\n",
    "    # return base**power\n",
    "    # x^n = x*x^(n-1)\n",
    "    # non-recursive case: x^1 = x   (or x^0 = 1)\n",
    "    if power == 1:\n",
    "        return base\n",
    "    else:\n",
    "        return base*exponentiate(base,power-1)"
   ]
  },
  {
   "cell_type": "code",
   "execution_count": 22,
   "id": "42335e56",
   "metadata": {},
   "outputs": [
    {
     "data": {
      "text/plain": [
       "1024"
      ]
     },
     "execution_count": 22,
     "metadata": {},
     "output_type": "execute_result"
    }
   ],
   "source": [
    "exponentiate(2,10)"
   ]
  },
  {
   "cell_type": "code",
   "execution_count": 30,
   "id": "38697768",
   "metadata": {},
   "outputs": [],
   "source": [
    "def exponentiate2(base,power):\n",
    "    # return base**power -- allow negative integer powers\n",
    "    if power == 0:\n",
    "        return 1\n",
    "    elif power>0:\n",
    "        return base*exponentiate2(base,power-1)\n",
    "    else:    # x^(-n) = (1/x)^n\n",
    "        return exponentiate2(1/base, -power)"
   ]
  },
  {
   "cell_type": "code",
   "execution_count": 31,
   "id": "bc745784",
   "metadata": {},
   "outputs": [
    {
     "data": {
      "text/plain": [
       "1024"
      ]
     },
     "execution_count": 31,
     "metadata": {},
     "output_type": "execute_result"
    }
   ],
   "source": [
    "exponentiate2(2,10)"
   ]
  },
  {
   "cell_type": "code",
   "execution_count": 33,
   "id": "ff42c228",
   "metadata": {},
   "outputs": [
    {
     "data": {
      "text/plain": [
       "0.25"
      ]
     },
     "execution_count": 33,
     "metadata": {},
     "output_type": "execute_result"
    }
   ],
   "source": [
    "exponentiate2(2,-2)"
   ]
  },
  {
   "cell_type": "code",
   "execution_count": 34,
   "id": "238b9c64",
   "metadata": {},
   "outputs": [],
   "source": [
    "def factorial3(n):\n",
    "    return n if n==1 else n*factorial3(n-1)"
   ]
  },
  {
   "cell_type": "code",
   "execution_count": 35,
   "id": "182de7b1",
   "metadata": {},
   "outputs": [
    {
     "data": {
      "text/plain": [
       "120"
      ]
     },
     "execution_count": 35,
     "metadata": {},
     "output_type": "execute_result"
    }
   ],
   "source": [
    "factorial3(5)"
   ]
  },
  {
   "cell_type": "markdown",
   "id": "5d743061",
   "metadata": {},
   "source": [
    "Functions with arbitrary number of inputs"
   ]
  },
  {
   "cell_type": "code",
   "execution_count": 36,
   "id": "0e6a2489",
   "metadata": {},
   "outputs": [],
   "source": [
    "def add(*args):\n",
    "    out = 0\n",
    "    for a in args:\n",
    "        out+=a\n",
    "    return out"
   ]
  },
  {
   "cell_type": "code",
   "execution_count": 37,
   "id": "691c1e68",
   "metadata": {},
   "outputs": [
    {
     "data": {
      "text/plain": [
       "1"
      ]
     },
     "execution_count": 37,
     "metadata": {},
     "output_type": "execute_result"
    }
   ],
   "source": [
    "add(1)"
   ]
  },
  {
   "cell_type": "code",
   "execution_count": 38,
   "id": "9e14fd6f",
   "metadata": {},
   "outputs": [
    {
     "data": {
      "text/plain": [
       "10"
      ]
     },
     "execution_count": 38,
     "metadata": {},
     "output_type": "execute_result"
    }
   ],
   "source": [
    "add(1,2,3,4)"
   ]
  },
  {
   "cell_type": "code",
   "execution_count": 39,
   "id": "94902073",
   "metadata": {},
   "outputs": [
    {
     "data": {
      "text/plain": [
       "26"
      ]
     },
     "execution_count": 39,
     "metadata": {},
     "output_type": "execute_result"
    }
   ],
   "source": [
    "add(1,4,9,5,7)"
   ]
  },
  {
   "cell_type": "code",
   "execution_count": 40,
   "id": "e289ea3b",
   "metadata": {},
   "outputs": [
    {
     "ename": "TypeError",
     "evalue": "unsupported operand type(s) for +=: 'int' and 'list'",
     "output_type": "error",
     "traceback": [
      "\u001b[0;31m---------------------------------------------------------------------------\u001b[0m",
      "\u001b[0;31mTypeError\u001b[0m                                 Traceback (most recent call last)",
      "\u001b[0;32m/tmp/ipykernel_130/782343935.py\u001b[0m in \u001b[0;36m<module>\u001b[0;34m\u001b[0m\n\u001b[0;32m----> 1\u001b[0;31m \u001b[0madd\u001b[0m\u001b[0;34m(\u001b[0m\u001b[0;36m1\u001b[0m\u001b[0;34m,\u001b[0m\u001b[0;36m2\u001b[0m\u001b[0;34m,\u001b[0m\u001b[0;34m[\u001b[0m\u001b[0;36m1\u001b[0m\u001b[0;34m,\u001b[0m\u001b[0;36m2\u001b[0m\u001b[0;34m,\u001b[0m\u001b[0;36m3\u001b[0m\u001b[0;34m]\u001b[0m\u001b[0;34m)\u001b[0m\u001b[0;34m\u001b[0m\u001b[0;34m\u001b[0m\u001b[0m\n\u001b[0m",
      "\u001b[0;32m/tmp/ipykernel_130/449314752.py\u001b[0m in \u001b[0;36madd\u001b[0;34m(*args)\u001b[0m\n\u001b[1;32m      2\u001b[0m     \u001b[0mout\u001b[0m \u001b[0;34m=\u001b[0m \u001b[0;36m0\u001b[0m\u001b[0;34m\u001b[0m\u001b[0;34m\u001b[0m\u001b[0m\n\u001b[1;32m      3\u001b[0m     \u001b[0;32mfor\u001b[0m \u001b[0ma\u001b[0m \u001b[0;32min\u001b[0m \u001b[0margs\u001b[0m\u001b[0;34m:\u001b[0m\u001b[0;34m\u001b[0m\u001b[0;34m\u001b[0m\u001b[0m\n\u001b[0;32m----> 4\u001b[0;31m         \u001b[0mout\u001b[0m\u001b[0;34m+=\u001b[0m\u001b[0ma\u001b[0m\u001b[0;34m\u001b[0m\u001b[0;34m\u001b[0m\u001b[0m\n\u001b[0m\u001b[1;32m      5\u001b[0m     \u001b[0;32mreturn\u001b[0m \u001b[0mout\u001b[0m\u001b[0;34m\u001b[0m\u001b[0;34m\u001b[0m\u001b[0m\n",
      "\u001b[0;31mTypeError\u001b[0m: unsupported operand type(s) for +=: 'int' and 'list'"
     ]
    }
   ],
   "source": [
    "add(1,2,[1,2,3])"
   ]
  },
  {
   "cell_type": "code",
   "execution_count": 41,
   "id": "ea99153d",
   "metadata": {},
   "outputs": [
    {
     "ename": "TypeError",
     "evalue": "unsupported operand type(s) for +=: 'int' and 'str'",
     "output_type": "error",
     "traceback": [
      "\u001b[0;31m---------------------------------------------------------------------------\u001b[0m",
      "\u001b[0;31mTypeError\u001b[0m                                 Traceback (most recent call last)",
      "\u001b[0;32m/tmp/ipykernel_130/1950927226.py\u001b[0m in \u001b[0;36m<module>\u001b[0;34m\u001b[0m\n\u001b[0;32m----> 1\u001b[0;31m \u001b[0madd\u001b[0m\u001b[0;34m(\u001b[0m\u001b[0;34m\"hello\"\u001b[0m\u001b[0;34m,\u001b[0m\u001b[0;34m\"world\"\u001b[0m\u001b[0;34m)\u001b[0m\u001b[0;34m\u001b[0m\u001b[0;34m\u001b[0m\u001b[0m\n\u001b[0m",
      "\u001b[0;32m/tmp/ipykernel_130/449314752.py\u001b[0m in \u001b[0;36madd\u001b[0;34m(*args)\u001b[0m\n\u001b[1;32m      2\u001b[0m     \u001b[0mout\u001b[0m \u001b[0;34m=\u001b[0m \u001b[0;36m0\u001b[0m\u001b[0;34m\u001b[0m\u001b[0;34m\u001b[0m\u001b[0m\n\u001b[1;32m      3\u001b[0m     \u001b[0;32mfor\u001b[0m \u001b[0ma\u001b[0m \u001b[0;32min\u001b[0m \u001b[0margs\u001b[0m\u001b[0;34m:\u001b[0m\u001b[0;34m\u001b[0m\u001b[0;34m\u001b[0m\u001b[0m\n\u001b[0;32m----> 4\u001b[0;31m         \u001b[0mout\u001b[0m\u001b[0;34m+=\u001b[0m\u001b[0ma\u001b[0m\u001b[0;34m\u001b[0m\u001b[0;34m\u001b[0m\u001b[0m\n\u001b[0m\u001b[1;32m      5\u001b[0m     \u001b[0;32mreturn\u001b[0m \u001b[0mout\u001b[0m\u001b[0;34m\u001b[0m\u001b[0;34m\u001b[0m\u001b[0m\n",
      "\u001b[0;31mTypeError\u001b[0m: unsupported operand type(s) for +=: 'int' and 'str'"
     ]
    }
   ],
   "source": [
    "add(\"hello\",\"world\")"
   ]
  },
  {
   "cell_type": "code",
   "execution_count": 44,
   "id": "5ab32964",
   "metadata": {},
   "outputs": [],
   "source": [
    "def add2(arg1, arg2, *args):\n",
    "    out = arg1+arg2\n",
    "    for a in args:\n",
    "        out += a\n",
    "    return out"
   ]
  },
  {
   "cell_type": "code",
   "execution_count": 45,
   "id": "ee2462d9",
   "metadata": {},
   "outputs": [
    {
     "ename": "TypeError",
     "evalue": "add2() missing 1 required positional argument: 'arg2'",
     "output_type": "error",
     "traceback": [
      "\u001b[0;31m---------------------------------------------------------------------------\u001b[0m",
      "\u001b[0;31mTypeError\u001b[0m                                 Traceback (most recent call last)",
      "\u001b[0;32m/tmp/ipykernel_130/695299768.py\u001b[0m in \u001b[0;36m<module>\u001b[0;34m\u001b[0m\n\u001b[0;32m----> 1\u001b[0;31m \u001b[0madd2\u001b[0m\u001b[0;34m(\u001b[0m\u001b[0;36m1\u001b[0m\u001b[0;34m)\u001b[0m\u001b[0;34m\u001b[0m\u001b[0;34m\u001b[0m\u001b[0m\n\u001b[0m",
      "\u001b[0;31mTypeError\u001b[0m: add2() missing 1 required positional argument: 'arg2'"
     ]
    }
   ],
   "source": [
    "add2(1)"
   ]
  },
  {
   "cell_type": "code",
   "execution_count": 46,
   "id": "e0be43ec",
   "metadata": {},
   "outputs": [
    {
     "data": {
      "text/plain": [
       "3"
      ]
     },
     "execution_count": 46,
     "metadata": {},
     "output_type": "execute_result"
    }
   ],
   "source": [
    "add2(1,2)"
   ]
  },
  {
   "cell_type": "code",
   "execution_count": 47,
   "id": "6668836c",
   "metadata": {},
   "outputs": [
    {
     "data": {
      "text/plain": [
       "45"
      ]
     },
     "execution_count": 47,
     "metadata": {},
     "output_type": "execute_result"
    }
   ],
   "source": [
    "add2(1,2,3,4,5,6,7,8,9)"
   ]
  },
  {
   "cell_type": "code",
   "execution_count": 56,
   "id": "b101d776",
   "metadata": {},
   "outputs": [],
   "source": [
    "# Functions as input arguments to other functions\n",
    "\n",
    "def is_odd(x):\n",
    "    return x%2 == 1\n",
    "\n",
    "def is_even(x):\n",
    "    return x%2 == 0\n",
    "\n",
    "def less_than_10(x):\n",
    "    return x < 10\n",
    "\n",
    "def filter_function(lst, function):\n",
    "    out_list = list()\n",
    "    for x in lst:\n",
    "        if function(x):\n",
    "            out_list.append(x)\n",
    "    return out_list"
   ]
  },
  {
   "cell_type": "code",
   "execution_count": 50,
   "id": "cf03ea66",
   "metadata": {},
   "outputs": [
    {
     "data": {
      "text/plain": [
       "True"
      ]
     },
     "execution_count": 50,
     "metadata": {},
     "output_type": "execute_result"
    }
   ],
   "source": [
    "is_odd(21)"
   ]
  },
  {
   "cell_type": "code",
   "execution_count": 52,
   "id": "b035a98c",
   "metadata": {},
   "outputs": [
    {
     "data": {
      "text/plain": [
       "True"
      ]
     },
     "execution_count": 52,
     "metadata": {},
     "output_type": "execute_result"
    }
   ],
   "source": [
    "is_even(10)"
   ]
  },
  {
   "cell_type": "code",
   "execution_count": 54,
   "id": "f34f3d09",
   "metadata": {},
   "outputs": [
    {
     "data": {
      "text/plain": [
       "False"
      ]
     },
     "execution_count": 54,
     "metadata": {},
     "output_type": "execute_result"
    }
   ],
   "source": [
    "less_than_10(11)"
   ]
  },
  {
   "cell_type": "code",
   "execution_count": 57,
   "id": "2c751ae4",
   "metadata": {},
   "outputs": [
    {
     "data": {
      "text/plain": [
       "[1, 3, 5, 7, 9, 11]"
      ]
     },
     "execution_count": 57,
     "metadata": {},
     "output_type": "execute_result"
    }
   ],
   "source": [
    "filter_function([1,2,3,4,5,6,7,8,9,10,11],is_odd)"
   ]
  },
  {
   "cell_type": "code",
   "execution_count": 58,
   "id": "0cd5b84c",
   "metadata": {},
   "outputs": [
    {
     "data": {
      "text/plain": [
       "[2, 4, 6, 8, 10]"
      ]
     },
     "execution_count": 58,
     "metadata": {},
     "output_type": "execute_result"
    }
   ],
   "source": [
    "filter_function([1,2,3,4,5,6,7,8,9,10,11],is_even)"
   ]
  },
  {
   "cell_type": "code",
   "execution_count": 59,
   "id": "b9561657",
   "metadata": {},
   "outputs": [
    {
     "data": {
      "text/plain": [
       "[1, 2, 3, 4, 5, 6, 7, 8, 9]"
      ]
     },
     "execution_count": 59,
     "metadata": {},
     "output_type": "execute_result"
    }
   ],
   "source": [
    "filter_function([1,2,3,4,5,6,7,8,9,10,11],less_than_10)"
   ]
  },
  {
   "cell_type": "code",
   "execution_count": 60,
   "id": "3acf9f66",
   "metadata": {},
   "outputs": [
    {
     "data": {
      "text/plain": [
       "function"
      ]
     },
     "execution_count": 60,
     "metadata": {},
     "output_type": "execute_result"
    }
   ],
   "source": [
    "type(filter_function)"
   ]
  },
  {
   "cell_type": "code",
   "execution_count": 61,
   "id": "3fb027f1",
   "metadata": {},
   "outputs": [],
   "source": [
    "# Functions that return functions\n",
    "\n",
    "def make_filter(function):\n",
    "    def filter_function(lst):\n",
    "        out_list = list()\n",
    "        for x in lst:\n",
    "            if function(x):\n",
    "                out_list.append(x)\n",
    "        return out_list\n",
    "    \n",
    "    return filter_function"
   ]
  },
  {
   "cell_type": "code",
   "execution_count": 62,
   "id": "b6c5d098",
   "metadata": {},
   "outputs": [],
   "source": [
    "filter_odd = make_filter(is_odd)"
   ]
  },
  {
   "cell_type": "code",
   "execution_count": 63,
   "id": "03afc2fa",
   "metadata": {},
   "outputs": [
    {
     "data": {
      "text/plain": [
       "function"
      ]
     },
     "execution_count": 63,
     "metadata": {},
     "output_type": "execute_result"
    }
   ],
   "source": [
    "type(filter_odd)"
   ]
  },
  {
   "cell_type": "code",
   "execution_count": 64,
   "id": "c3e3e0cd",
   "metadata": {},
   "outputs": [
    {
     "data": {
      "text/plain": [
       "[1, 3, 5, 7]"
      ]
     },
     "execution_count": 64,
     "metadata": {},
     "output_type": "execute_result"
    }
   ],
   "source": [
    "filter_odd([1,2,3,4,5,6,7,8])"
   ]
  },
  {
   "cell_type": "markdown",
   "id": "00539739",
   "metadata": {},
   "source": [
    "## Allowing different kinds of inputs\n"
   ]
  },
  {
   "cell_type": "code",
   "execution_count": 65,
   "id": "181aa022",
   "metadata": {},
   "outputs": [],
   "source": [
    "def scalar_list_multiply(scalar,lst):\n",
    "    out = []\n",
    "    for i in lst:\n",
    "        out.append(scalar*i)\n",
    "    return out"
   ]
  },
  {
   "cell_type": "code",
   "execution_count": 66,
   "id": "51049d40",
   "metadata": {},
   "outputs": [
    {
     "data": {
      "text/plain": [
       "[5, 10, 15]"
      ]
     },
     "execution_count": 66,
     "metadata": {},
     "output_type": "execute_result"
    }
   ],
   "source": [
    "scalar_list_multiply(5,[1,2,3])"
   ]
  },
  {
   "cell_type": "code",
   "execution_count": 69,
   "id": "0bce4841",
   "metadata": {},
   "outputs": [],
   "source": [
    "def list_list_multiply(lst1,lst2):\n",
    "    if len(lst1) != len(lst2):\n",
    "        print(\"Error: lists must be the same length.\")\n",
    "        return None\n",
    "    else:\n",
    "        out = []\n",
    "        for item1,item2 in zip(lst1,lst2):\n",
    "            out.append(item1*item2)\n",
    "        return out"
   ]
  },
  {
   "cell_type": "code",
   "execution_count": 70,
   "id": "45d75fb5",
   "metadata": {},
   "outputs": [
    {
     "data": {
      "text/plain": [
       "[4, 10, 18]"
      ]
     },
     "execution_count": 70,
     "metadata": {},
     "output_type": "execute_result"
    }
   ],
   "source": [
    "list_list_multiply([1,2,3],[4,5,6])"
   ]
  },
  {
   "cell_type": "code",
   "execution_count": 71,
   "id": "5b1014d4",
   "metadata": {},
   "outputs": [],
   "source": [
    "def multiply(a,b):\n",
    "    # allow one or both of these to be scalars, at most one to be a list\n",
    "    if isinstance(a,(float,int)) and isinstance(b,(float, int)):\n",
    "        return a*b\n",
    "    elif isinstance(a,list) and isinstance(b,(float,int)):\n",
    "        return scalar_list_multiply(b,a)\n",
    "    elif isinstance(a,(float,int)) and isinstance(b,list):\n",
    "        return scalar_list_multiply(a,b)\n",
    "    elif isinstance(a,list) and isinstance(b,list):\n",
    "        return list_list_multiply(a,b)\n",
    "    else:\n",
    "        print(\"Invalid input.\")"
   ]
  },
  {
   "cell_type": "code",
   "execution_count": 72,
   "id": "433d894e",
   "metadata": {},
   "outputs": [
    {
     "data": {
      "text/plain": [
       "8"
      ]
     },
     "execution_count": 72,
     "metadata": {},
     "output_type": "execute_result"
    }
   ],
   "source": [
    "multiply(2,4)"
   ]
  },
  {
   "cell_type": "code",
   "execution_count": 73,
   "id": "294eb4bb",
   "metadata": {},
   "outputs": [
    {
     "data": {
      "text/plain": [
       "[2, 4, 6]"
      ]
     },
     "execution_count": 73,
     "metadata": {},
     "output_type": "execute_result"
    }
   ],
   "source": [
    "multiply(2,[1,2,3])"
   ]
  },
  {
   "cell_type": "code",
   "execution_count": 74,
   "id": "2936ae1e",
   "metadata": {},
   "outputs": [
    {
     "data": {
      "text/plain": [
       "[4, 8, 12]"
      ]
     },
     "execution_count": 74,
     "metadata": {},
     "output_type": "execute_result"
    }
   ],
   "source": [
    "multiply([1,2,3],4)"
   ]
  },
  {
   "cell_type": "code",
   "execution_count": 75,
   "id": "27275756",
   "metadata": {},
   "outputs": [
    {
     "data": {
      "text/plain": [
       "[4, 10, 18]"
      ]
     },
     "execution_count": 75,
     "metadata": {},
     "output_type": "execute_result"
    }
   ],
   "source": [
    "multiply([1,2,3],[4,5,6])"
   ]
  },
  {
   "cell_type": "code",
   "execution_count": null,
   "id": "c31ba4a9",
   "metadata": {},
   "outputs": [],
   "source": []
  }
 ],
 "metadata": {
  "kernelspec": {
   "display_name": "Python 3 (ipykernel)",
   "language": "python",
   "name": "python3"
  },
  "language_info": {
   "codemirror_mode": {
    "name": "ipython",
    "version": 3
   },
   "file_extension": ".py",
   "mimetype": "text/x-python",
   "name": "python",
   "nbconvert_exporter": "python",
   "pygments_lexer": "ipython3",
   "version": "3.8.10"
  }
 },
 "nbformat": 4,
 "nbformat_minor": 5
}
