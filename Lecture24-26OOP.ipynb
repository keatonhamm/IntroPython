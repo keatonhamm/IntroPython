{
 "cells": [
  {
   "cell_type": "markdown",
   "id": "399c5f4a",
   "metadata": {},
   "source": [
    "# <center> Lecture 24 &ndash; Object Oriented Programming </center>"
   ]
  },
  {
   "cell_type": "markdown",
   "id": "9ef5f63a",
   "metadata": {},
   "source": [
    "Until now, we have been utilizing functional programming where we pass simple or complex variables to functions that produce a given output. This is a powerful paradigm, but has its limits. Now we will talk about Object Oriented Programming (OOP).\n",
    "\n",
    "In OOP, functions and attributes are combined into a single type of object which is part of a **class**. \n",
    "\n",
    "**Examples:**\n",
    "- We could have a *dog* object that is part of the **class** dog\n",
    "- A = numpy.matrix([\\[1,2,3\\],\\[4,5,6\\]]) is an example of an object of the **ndarray** class in numpy"
   ]
  },
  {
   "cell_type": "code",
   "execution_count": 1,
   "id": "76dc6051",
   "metadata": {},
   "outputs": [
    {
     "name": "stdout",
     "output_type": "stream",
     "text": [
      "[[1 2 3]\n",
      " [4 5 6]]\n",
      "<class 'numpy.ndarray'>\n",
      "[[ 1  4  9]\n",
      " [16 25 36]]\n",
      "[[1 4]\n",
      " [2 5]\n",
      " [3 6]]\n",
      "(2, 3)\n",
      "[[1 4]\n",
      " [2 5]\n",
      " [3 6]]\n"
     ]
    }
   ],
   "source": [
    "import numpy as np\n",
    "A = np.array([[1,2,3],[4,5,6]])\n",
    "print(A)\n",
    "print(type(A))\n",
    "print(A**2)\n",
    "print(A.transpose())\n",
    "print(A.shape)\n",
    "print(A.T)"
   ]
  },
  {
   "cell_type": "markdown",
   "id": "f6615ad4",
   "metadata": {},
   "source": [
    "The concept of Python class, as in almost any other programming language, relates to packing a set of variables together with a set of functions operating on those variables. The goal of writing classes is to achieve more modular code by grouping data and functions into manageable units. One thing to keep in mind for scientific computing is that classes, and more generally, Object Oriented Programming (OOP), are not necessary, and could be a hindrance to efficient computing if used naively. Nevertheless, classes lead to either more elegant solutions to the programming problem or a code that is easier to extend and maintain large scale projects. In the non-mathematical programming world where there are no mathematical concepts and associated algorithms to help structure the programming problem, software development can be very challenging. In those cases, Classes greatly improve the understanding of the problem and simplify the modeling of data. As a consequence, almost all large-scale software systems being developed in the world today are heavily based on classes (but certainly not all scientific projects!).\n",
    "\n",
    "One of the greatest advantages that the OOP brings to programming is code-reusability. Once we define a blueprint class, all objects belonging to that class can be easily instantiated from it and personalized. Therefore, the first step in OOP is to define the class of an object that we want to create and use."
   ]
  },
  {
   "cell_type": "code",
   "execution_count": 1,
   "id": "d733b2c0",
   "metadata": {},
   "outputs": [],
   "source": [
    "class Dog:\n",
    "    pass #placeholder"
   ]
  },
  {
   "cell_type": "code",
   "execution_count": 2,
   "id": "b3c360da",
   "metadata": {},
   "outputs": [
    {
     "name": "stdout",
     "output_type": "stream",
     "text": [
      "<class '__main__.Dog'>\n"
     ]
    }
   ],
   "source": [
    "my_dog = Dog() # !!! Must have parentheses\n",
    "print(type(my_dog))"
   ]
  },
  {
   "cell_type": "code",
   "execution_count": 3,
   "id": "4187f09c",
   "metadata": {},
   "outputs": [
    {
     "name": "stdout",
     "output_type": "stream",
     "text": [
      "<__main__.Dog object at 0x7fb8d06fe280>\n"
     ]
    }
   ],
   "source": [
    "print(my_dog)"
   ]
  },
  {
   "cell_type": "code",
   "execution_count": 4,
   "id": "d749eec3",
   "metadata": {},
   "outputs": [
    {
     "name": "stdout",
     "output_type": "stream",
     "text": [
      "True\n"
     ]
    }
   ],
   "source": [
    "print(isinstance(my_dog,Dog))"
   ]
  },
  {
   "cell_type": "markdown",
   "id": "4c9d844c",
   "metadata": {},
   "source": [
    "## Class Attributes\n",
    "In practice, a dog has color, breed, age, and other attributes, and it can do things like eat, run, sleep, bark, etc."
   ]
  },
  {
   "cell_type": "code",
   "execution_count": 5,
   "id": "3249a659",
   "metadata": {},
   "outputs": [],
   "source": [
    "class Dog:\n",
    "    # Attributes (with corresponding default values)\n",
    "    \n",
    "    age = 0\n",
    "    color = 'nocolor'\n",
    "    breed = 'nobreed'\n",
    "    name = 'noname'"
   ]
  },
  {
   "cell_type": "code",
   "execution_count": 6,
   "id": "8abf6dba",
   "metadata": {},
   "outputs": [
    {
     "name": "stdout",
     "output_type": "stream",
     "text": [
      "noname is a 0-year old nocolor nobreed.\n"
     ]
    }
   ],
   "source": [
    "my_dog = Dog()\n",
    "print(\"{} is a {}-year old {} {}.\".format(my_dog.name,my_dog.age,my_dog.color,my_dog.breed))"
   ]
  },
  {
   "cell_type": "code",
   "execution_count": 7,
   "id": "df5f4e69",
   "metadata": {},
   "outputs": [
    {
     "name": "stdout",
     "output_type": "stream",
     "text": [
      "Spot is a 2-year old blonde Jack Russel Terrier.\n",
      "Fido is a 2-year old brown Labradoodle.\n"
     ]
    }
   ],
   "source": [
    "my_dog = Dog()\n",
    "my_dog.age = 2\n",
    "my_dog.name = \"Spot\"\n",
    "my_dog.breed = 'Jack Russel Terrier'\n",
    "my_dog.color = \"blonde\"\n",
    "print(\"{} is a {}-year old {} {}.\".format(my_dog.name,my_dog.age,my_dog.color,my_dog.breed))\n",
    "my_dog2 = Dog()\n",
    "my_dog2.age = 2\n",
    "my_dog2.name = \"Fido\"\n",
    "my_dog2.breed = 'Labradoodle'\n",
    "my_dog2.color = \"brown\"\n",
    "print(\"{} is a {}-year old {} {}.\".format(my_dog2.name,my_dog2.age,my_dog2.color,my_dog2.breed))"
   ]
  },
  {
   "cell_type": "markdown",
   "id": "6e48339b",
   "metadata": {},
   "source": [
    "## Object Constructor\n",
    "While the above approach to class attribute definition and value assignment works fine, it is verbose and rather tedious. Instead, there is a better way of initializing an instance of a class by defining an object constructor method within the class definition. There is an intrinsic method with the specific name __init__ provided by Python, which can be defined in every class and used for performing tasks that are supposed to be done once (and only once) at the time of object instantiation. This includes the assignment of user-provided values to the attributes or default values in case no value is provided by the user."
   ]
  },
  {
   "cell_type": "code",
   "execution_count": 8,
   "id": "7f7c303f",
   "metadata": {},
   "outputs": [],
   "source": [
    "class Dog:\n",
    "    # Object Constructor\n",
    "    def __init__(self, age, color, breed, name):\n",
    "        self.age = age\n",
    "        self.color = color\n",
    "        self.breed = breed\n",
    "        self.name = name"
   ]
  },
  {
   "cell_type": "code",
   "execution_count": 9,
   "id": "89a3e837",
   "metadata": {},
   "outputs": [
    {
     "name": "stdout",
     "output_type": "stream",
     "text": [
      "Pongo is a 2-year old spotted Dalmatian.\n"
     ]
    }
   ],
   "source": [
    "my_dog = Dog(2,'spotted','Dalmatian','Pongo')\n",
    "print(\"{} is a {}-year old {} {}.\".format(my_dog.name,my_dog.age,my_dog.color,my_dog.breed))"
   ]
  },
  {
   "cell_type": "code",
   "execution_count": 10,
   "id": "18a1d139",
   "metadata": {},
   "outputs": [
    {
     "ename": "TypeError",
     "evalue": "__init__() missing 4 required positional arguments: 'age', 'color', 'breed', and 'name'",
     "output_type": "error",
     "traceback": [
      "\u001b[0;31m---------------------------------------------------------------------------\u001b[0m",
      "\u001b[0;31mTypeError\u001b[0m                                 Traceback (most recent call last)",
      "Input \u001b[0;32mIn [10]\u001b[0m, in \u001b[0;36m<cell line: 1>\u001b[0;34m()\u001b[0m\n\u001b[0;32m----> 1\u001b[0m my_dog \u001b[38;5;241m=\u001b[39m \u001b[43mDog\u001b[49m\u001b[43m(\u001b[49m\u001b[43m)\u001b[49m\n",
      "\u001b[0;31mTypeError\u001b[0m: __init__() missing 4 required positional arguments: 'age', 'color', 'breed', and 'name'"
     ]
    }
   ],
   "source": [
    "my_dog = Dog()"
   ]
  },
  {
   "cell_type": "code",
   "execution_count": null,
   "id": "3d030cc0",
   "metadata": {},
   "outputs": [],
   "source": [
    "class Dog:\n",
    "    # Object Constructor\n",
    "    def __init__(self, age = 0, color = 'nocolor', breed = 'nobreed', name = 'noname'):\n",
    "        self.age = age\n",
    "        self.color = color\n",
    "        self.breed = breed\n",
    "        self.name = name"
   ]
  },
  {
   "cell_type": "code",
   "execution_count": null,
   "id": "fa87308d",
   "metadata": {},
   "outputs": [],
   "source": [
    "my_dog = Dog()\n",
    "print(\"{} is a {}-year old {} {}.\".format(my_dog.name,my_dog.age,my_dog.color,my_dog.breed))"
   ]
  },
  {
   "cell_type": "code",
   "execution_count": null,
   "id": "8e5416f9",
   "metadata": {},
   "outputs": [],
   "source": [
    "class Dog:\n",
    "    # Object Constructor\n",
    "    def __init__(self, age = 0, color = 'nocolor', breed = 'nobreed', name = 'noname'):\n",
    "        self.age = age\n",
    "        self.color = color\n",
    "        self.breed = breed\n",
    "        self.name = name\n",
    "        \n",
    "    def info(self):\n",
    "        print(\"{} is a {}-year old {} {}.\".format(self.name,self.age,self.color,self.breed))"
   ]
  },
  {
   "cell_type": "code",
   "execution_count": null,
   "id": "58cbd3b3",
   "metadata": {},
   "outputs": [],
   "source": [
    "my_dog = Dog()\n",
    "my_dog.age = 4\n",
    "my_dog.color = 'black'\n",
    "my_dog.name = 'Bones'\n",
    "my_dog.breed = 'Dalmatian'\n",
    "\n",
    "my_dog.info()"
   ]
  },
  {
   "cell_type": "code",
   "execution_count": null,
   "id": "77bb520a",
   "metadata": {},
   "outputs": [],
   "source": [
    "class Dog:\n",
    "    # global attributes\n",
    "    species = 'mammal'\n",
    "    \n",
    "    # Object Constructor\n",
    "    def __init__(self, age = 0, color = 'nocolor', breed = 'nobreed', name = 'noname'):\n",
    "        self.age = age\n",
    "        self.color = color\n",
    "        self.breed = breed\n",
    "        self.name = name\n",
    "        \n",
    "    def info(self):\n",
    "        print(\"{} is a {}-year old {} {}.\".format(self.name,self.age,self.color,self.breed))"
   ]
  },
  {
   "cell_type": "code",
   "execution_count": null,
   "id": "f1a4220e",
   "metadata": {},
   "outputs": [],
   "source": [
    "my_dog = Dog()\n",
    "my_dog.species"
   ]
  },
  {
   "cell_type": "markdown",
   "id": "2d0e56f1",
   "metadata": {},
   "source": [
    "## Summary of attributes\n",
    "1. Class attribues are global (like species) and are attributes that apply to **all** instances of the class\n",
    "1. Instance attributes are local and are unique to each instance of the class, and are typically defined in the object constructor"
   ]
  },
  {
   "cell_type": "markdown",
   "id": "88d8fa28",
   "metadata": {},
   "source": [
    "## A basic physics example"
   ]
  },
  {
   "cell_type": "code",
   "execution_count": null,
   "id": "08f417ab",
   "metadata": {},
   "outputs": [],
   "source": [
    "class Projectile:\n",
    "    \n",
    "    gravitational_constant = 9.8 #m/s^2\n",
    "    \n",
    "    def __init__(self,initVelocity = 0):\n",
    "        self.initVelocity = initVelocity\n",
    "        \n",
    "    def getHeight(self, time):\n",
    "        return self.initVelocity*time - .5*self.gravitational_constant*time**2"
   ]
  },
  {
   "cell_type": "code",
   "execution_count": 11,
   "id": "29827f98",
   "metadata": {},
   "outputs": [
    {
     "ename": "NameError",
     "evalue": "name 'Projectile' is not defined",
     "output_type": "error",
     "traceback": [
      "\u001b[0;31m---------------------------------------------------------------------------\u001b[0m",
      "\u001b[0;31mNameError\u001b[0m                                 Traceback (most recent call last)",
      "Input \u001b[0;32mIn [11]\u001b[0m, in \u001b[0;36m<cell line: 1>\u001b[0;34m()\u001b[0m\n\u001b[0;32m----> 1\u001b[0m ball \u001b[38;5;241m=\u001b[39m \u001b[43mProjectile\u001b[49m(initVelocity \u001b[38;5;241m=\u001b[39m \u001b[38;5;241m10\u001b[39m)\n",
      "\u001b[0;31mNameError\u001b[0m: name 'Projectile' is not defined"
     ]
    }
   ],
   "source": [
    "ball = Projectile(initVelocity = 10)"
   ]
  },
  {
   "cell_type": "code",
   "execution_count": 12,
   "id": "04ff6e86",
   "metadata": {},
   "outputs": [
    {
     "ename": "NameError",
     "evalue": "name 'ball' is not defined",
     "output_type": "error",
     "traceback": [
      "\u001b[0;31m---------------------------------------------------------------------------\u001b[0m",
      "\u001b[0;31mNameError\u001b[0m                                 Traceback (most recent call last)",
      "Input \u001b[0;32mIn [12]\u001b[0m, in \u001b[0;36m<cell line: 1>\u001b[0;34m()\u001b[0m\n\u001b[0;32m----> 1\u001b[0m height \u001b[38;5;241m=\u001b[39m \u001b[43mball\u001b[49m\u001b[38;5;241m.\u001b[39mgetHeight(\u001b[38;5;241m.5\u001b[39m)\n\u001b[1;32m      2\u001b[0m \u001b[38;5;28mprint\u001b[39m(height)\n",
      "\u001b[0;31mNameError\u001b[0m: name 'ball' is not defined"
     ]
    }
   ],
   "source": [
    "height = ball.getHeight(.5)\n",
    "print(height)"
   ]
  },
  {
   "cell_type": "code",
   "execution_count": 13,
   "id": "c117b2d1",
   "metadata": {},
   "outputs": [
    {
     "ename": "NameError",
     "evalue": "name 'ball' is not defined",
     "output_type": "error",
     "traceback": [
      "\u001b[0;31m---------------------------------------------------------------------------\u001b[0m",
      "\u001b[0;31mNameError\u001b[0m                                 Traceback (most recent call last)",
      "Input \u001b[0;32mIn [13]\u001b[0m, in \u001b[0;36m<cell line: 1>\u001b[0;34m()\u001b[0m\n\u001b[0;32m----> 1\u001b[0m height \u001b[38;5;241m=\u001b[39m \u001b[43mball\u001b[49m\u001b[38;5;241m.\u001b[39mgetHeight(np\u001b[38;5;241m.\u001b[39mlinspace(\u001b[38;5;241m0\u001b[39m,\u001b[38;5;241m1\u001b[39m,\u001b[38;5;241m10\u001b[39m))\n\u001b[1;32m      2\u001b[0m \u001b[38;5;28mprint\u001b[39m(height)\n",
      "\u001b[0;31mNameError\u001b[0m: name 'ball' is not defined"
     ]
    }
   ],
   "source": [
    "height = ball.getHeight(np.linspace(0,1,10))\n",
    "print(height)"
   ]
  },
  {
   "cell_type": "code",
   "execution_count": null,
   "id": "c382e107",
   "metadata": {},
   "outputs": [],
   "source": []
  },
  {
   "cell_type": "markdown",
   "id": "9c1dfe84",
   "metadata": {},
   "source": [
    "## Callable Objects"
   ]
  },
  {
   "cell_type": "code",
   "execution_count": 14,
   "id": "2b7a205c",
   "metadata": {},
   "outputs": [],
   "source": [
    "class Projectile:\n",
    "    \n",
    "    gravitational_constant = 9.8 #m/s^2\n",
    "    \n",
    "    def __init__(self,initVelocity = 0):\n",
    "        self.initVelocity = initVelocity\n",
    "        \n",
    "    def __call__(self, time):\n",
    "        return self.getHeight(time)\n",
    "        \n",
    "    def getHeight(self, time):\n",
    "        return self.initVelocity*time - .5*self.gravitational_constant*time**2"
   ]
  },
  {
   "cell_type": "code",
   "execution_count": 15,
   "id": "b706a127",
   "metadata": {},
   "outputs": [
    {
     "name": "stdout",
     "output_type": "stream",
     "text": [
      "5.1\n",
      "5.1\n",
      "15.1\n"
     ]
    }
   ],
   "source": [
    "ball2 = Projectile(10)\n",
    "print(ball2.getHeight(1))\n",
    "print(ball2(1))\n",
    "ball3 = Projectile(20)\n",
    "print(ball3(1))"
   ]
  },
  {
   "cell_type": "code",
   "execution_count": 16,
   "id": "9c099e2f",
   "metadata": {},
   "outputs": [
    {
     "ename": "NameError",
     "evalue": "name 'ball' is not defined",
     "output_type": "error",
     "traceback": [
      "\u001b[0;31m---------------------------------------------------------------------------\u001b[0m",
      "\u001b[0;31mNameError\u001b[0m                                 Traceback (most recent call last)",
      "Input \u001b[0;32mIn [16]\u001b[0m, in \u001b[0;36m<cell line: 1>\u001b[0;34m()\u001b[0m\n\u001b[0;32m----> 1\u001b[0m \u001b[38;5;28mprint\u001b[39m(\u001b[43mball\u001b[49m(\u001b[38;5;241m1\u001b[39m))\n",
      "\u001b[0;31mNameError\u001b[0m: name 'ball' is not defined"
     ]
    }
   ],
   "source": [
    "print(ball(1)) #using first Projectile definition"
   ]
  },
  {
   "cell_type": "code",
   "execution_count": 17,
   "id": "a5325719",
   "metadata": {},
   "outputs": [
    {
     "data": {
      "text/plain": [
       "True"
      ]
     },
     "execution_count": 17,
     "metadata": {},
     "output_type": "execute_result"
    }
   ],
   "source": [
    "callable(ball2)"
   ]
  },
  {
   "cell_type": "code",
   "execution_count": 18,
   "id": "0faa32f3",
   "metadata": {},
   "outputs": [
    {
     "ename": "NameError",
     "evalue": "name 'ball' is not defined",
     "output_type": "error",
     "traceback": [
      "\u001b[0;31m---------------------------------------------------------------------------\u001b[0m",
      "\u001b[0;31mNameError\u001b[0m                                 Traceback (most recent call last)",
      "Input \u001b[0;32mIn [18]\u001b[0m, in \u001b[0;36m<cell line: 1>\u001b[0;34m()\u001b[0m\n\u001b[0;32m----> 1\u001b[0m callable(\u001b[43mball\u001b[49m)\n",
      "\u001b[0;31mNameError\u001b[0m: name 'ball' is not defined"
     ]
    }
   ],
   "source": [
    "callable(ball)"
   ]
  },
  {
   "cell_type": "code",
   "execution_count": 19,
   "id": "6469547a",
   "metadata": {},
   "outputs": [
    {
     "ename": "NameError",
     "evalue": "name 'A' is not defined",
     "output_type": "error",
     "traceback": [
      "\u001b[0;31m---------------------------------------------------------------------------\u001b[0m",
      "\u001b[0;31mNameError\u001b[0m                                 Traceback (most recent call last)",
      "Input \u001b[0;32mIn [19]\u001b[0m, in \u001b[0;36m<cell line: 1>\u001b[0;34m()\u001b[0m\n\u001b[0;32m----> 1\u001b[0m callable(\u001b[43mA\u001b[49m)\n",
      "\u001b[0;31mNameError\u001b[0m: name 'A' is not defined"
     ]
    }
   ],
   "source": [
    "callable(A)"
   ]
  },
  {
   "cell_type": "markdown",
   "id": "f75b4971",
   "metadata": {},
   "source": [
    "## Inheritance\n",
    "Consider the example Dog class that we already created in the previous notes. We know that dog is a sub-category, or sub-class, or a child class of another super-class or parent class, for example, the super-class of animals. Therefore, in a broader context, it makes sense to create an animal class which contains and defines the basic properties and methods of the class Animal, and then inherit all the shared properties and methods of the Dog class directly from the Animal class, instead of redefining them from scratch for the Dog class specifically.\n",
    "\n",
    "Initially, this may seem redundant and useless, but consider the case where you need to develop multiple (sub-)classes, for example, Cat, Cow, Goat, …, all of which share many properties and methods. In such scenarios, it is highly advantageous to have a super-class that contains all the shared methods and properties, and then define child-classes that inherit all the shared properties and methods directly from the parent classes.\n",
    "\n",
    "The general syntax for sub-class definition is as simple as the following"
   ]
  },
  {
   "cell_type": "code",
   "execution_count": 20,
   "id": "e08272f5",
   "metadata": {},
   "outputs": [],
   "source": [
    "class Mammal:\n",
    "    def __init__(self, age = 0, weight = 0, animal_is_alive = True):\n",
    "        self.age = age\n",
    "        self.weight = weight\n",
    "        self.animal_is_alive = animal_is_alive\n",
    "    \n",
    "    def eat(self, food = None):\n",
    "        if food == None:\n",
    "            print(\"There is nothing to eat :-(\")\n",
    "        else:\n",
    "            print(\"Eating {} ... yum!\".format(food))\n",
    "    \n",
    "    def sleep(self):\n",
    "        print(\"Sleeping ... ZzZZZzzzZ\")"
   ]
  },
  {
   "cell_type": "code",
   "execution_count": 21,
   "id": "7156707c",
   "metadata": {},
   "outputs": [],
   "source": [
    "class Dog(Mammal):   # ChildClassName(ParentClassName)\n",
    "#     pass\n",
    "    # global attributes\n",
    "    species = 'mammal'\n",
    "    \n",
    "    # Object Constructor\n",
    "    def __init__(self, age = 0, color = 'nocolor', breed = 'nobreed', name = 'noname'):\n",
    "        self.age = age\n",
    "        self.color = color\n",
    "        self.breed = breed\n",
    "        self.name = name\n",
    "        \n",
    "    def info(self):\n",
    "        print(\"{} is a {}-year old {} {}.\".format(self.name,self.age,self.color,self.breed))"
   ]
  },
  {
   "cell_type": "code",
   "execution_count": 22,
   "id": "c24e5017",
   "metadata": {},
   "outputs": [
    {
     "name": "stdout",
     "output_type": "stream",
     "text": [
      "0\n",
      "Eating fruit ... yum!\n",
      "None\n"
     ]
    }
   ],
   "source": [
    "Coco = Dog()\n",
    "print(Coco.age)\n",
    "print(Coco.eat('fruit'))"
   ]
  },
  {
   "cell_type": "code",
   "execution_count": 23,
   "id": "3d0ed8ee",
   "metadata": {},
   "outputs": [],
   "source": [
    "class Dog(Mammal):   # ChildClassName(ParentClassName) \n",
    "    # Object Constructor\n",
    "    def __init__(self, age = 0, weight = 0, color = 'nocolor', breed = 'nobreed', name = 'noname', animal_is_alive = True):\n",
    "        self.color = color\n",
    "        self.breed = breed\n",
    "        self.name = name\n",
    "        Mammal.__init__(self, age, weight, animal_is_alive) \n",
    "        \n",
    "    def info(self):\n",
    "        print(\"{} is a {}-year old {} {}.\".format(self.name,self.age,self.color,self.breed))"
   ]
  },
  {
   "cell_type": "code",
   "execution_count": 24,
   "id": "106af93a",
   "metadata": {},
   "outputs": [],
   "source": [
    "Fido = Dog(1,20,'white','husky','Fido',True)"
   ]
  },
  {
   "cell_type": "code",
   "execution_count": 25,
   "id": "b2e1484a",
   "metadata": {},
   "outputs": [
    {
     "name": "stdout",
     "output_type": "stream",
     "text": [
      "Sleeping ... ZzZZZzzzZ\n"
     ]
    }
   ],
   "source": [
    "Fido.sleep()"
   ]
  },
  {
   "cell_type": "code",
   "execution_count": 26,
   "id": "01b34c2a",
   "metadata": {},
   "outputs": [
    {
     "data": {
      "text/plain": [
       "1"
      ]
     },
     "execution_count": 26,
     "metadata": {},
     "output_type": "execute_result"
    }
   ],
   "source": [
    "Fido.age"
   ]
  },
  {
   "cell_type": "code",
   "execution_count": 27,
   "id": "c8301c02",
   "metadata": {},
   "outputs": [
    {
     "name": "stdout",
     "output_type": "stream",
     "text": [
      "Fido is a 1-year old white husky.\n"
     ]
    }
   ],
   "source": [
    "Fido.info()"
   ]
  },
  {
   "cell_type": "markdown",
   "id": "9424fc08",
   "metadata": {},
   "source": [
    "## Overloading and Multiple Inheritances"
   ]
  },
  {
   "cell_type": "code",
   "execution_count": 28,
   "id": "95e80403",
   "metadata": {},
   "outputs": [],
   "source": [
    "class MotherDog(Mammal):\n",
    "    \n",
    "    # Object Constructor\n",
    "    def __init__(self, age = 0, weight = 0, color = 'nocolor', breed = 'nobreed', name = 'noname', animal_is_alive = True):\n",
    "        self.color = color\n",
    "        self.breed = breed\n",
    "        self.name = name\n",
    "        Mammal.__init__(self, age, weight, animal_is_alive) \n",
    "        \n",
    "    def bark(self, num_barks = 3):\n",
    "        for i in range(num_barks):\n",
    "            print('arf', end=' ')\n",
    "        print()\n",
    "    \n",
    "    def run(self, time = 2):\n",
    "        print(\"Running for {} minutes\".format(time))\n",
    "\n",
    "class FatherDog(Mammal):\n",
    "    \n",
    "    # Object Constructor\n",
    "    def __init__(self, age = 0, weight = 0, color = 'nocolor', breed = 'nobreed', name = 'noname', animal_is_alive = True):\n",
    "        self.color = color\n",
    "        self.breed = breed\n",
    "        self.name = name\n",
    "        Mammal.__init__(self, age, weight, animal_is_alive) \n",
    "        \n",
    "    def bark(self, num_barks = 3):\n",
    "        for i in range(num_barks):\n",
    "            print('ruff', end=' ')\n",
    "        print()\n",
    "    \n",
    "    def fetch(self, num = 10):\n",
    "        print(\"Fetching {} times\".format(num))"
   ]
  },
  {
   "cell_type": "code",
   "execution_count": 29,
   "id": "ac5494f4",
   "metadata": {},
   "outputs": [],
   "source": [
    "class ChildDog(FatherDog, MotherDog):\n",
    "    \n",
    "     # Object Constructor\n",
    "    def __init__(self, age = 0, weight = 0, color = 'nocolor', breed = 'nobreed', name = 'noname', animal_is_alive = True):\n",
    "        self.color = color\n",
    "        self.breed = breed\n",
    "        self.name = name\n",
    "        Mammal.__init__(self, age, weight, animal_is_alive) "
   ]
  },
  {
   "cell_type": "code",
   "execution_count": 30,
   "id": "97d393c1",
   "metadata": {},
   "outputs": [],
   "source": [
    "Lola = MotherDog(5,40,'brown','Australian Shepherd', 'Lola')\n",
    "Pongo = FatherDog(6, 50, 'white and black', 'Dalmatian', 'Pongo')\n",
    "Coco = ChildDog()"
   ]
  },
  {
   "cell_type": "code",
   "execution_count": 31,
   "id": "d83f8a8e",
   "metadata": {},
   "outputs": [
    {
     "name": "stdout",
     "output_type": "stream",
     "text": [
      "arf arf arf \n"
     ]
    }
   ],
   "source": [
    "Lola.bark()"
   ]
  },
  {
   "cell_type": "code",
   "execution_count": 32,
   "id": "a043d1e2",
   "metadata": {},
   "outputs": [
    {
     "name": "stdout",
     "output_type": "stream",
     "text": [
      "ruff ruff ruff \n"
     ]
    }
   ],
   "source": [
    "Pongo.bark()"
   ]
  },
  {
   "cell_type": "code",
   "execution_count": 33,
   "id": "a7d6aced",
   "metadata": {},
   "outputs": [
    {
     "name": "stdout",
     "output_type": "stream",
     "text": [
      "ruff ruff ruff \n"
     ]
    }
   ],
   "source": [
    "Coco.bark()"
   ]
  },
  {
   "cell_type": "code",
   "execution_count": 34,
   "id": "48143d8a",
   "metadata": {},
   "outputs": [
    {
     "name": "stdout",
     "output_type": "stream",
     "text": [
      "Eating Dog food ... yum!\n"
     ]
    }
   ],
   "source": [
    "Coco.eat(\"Dog food\")"
   ]
  },
  {
   "cell_type": "code",
   "execution_count": 35,
   "id": "2adc8286",
   "metadata": {},
   "outputs": [
    {
     "name": "stdout",
     "output_type": "stream",
     "text": [
      "Fetching 10 times\n"
     ]
    }
   ],
   "source": [
    "Coco.fetch()"
   ]
  },
  {
   "cell_type": "code",
   "execution_count": 36,
   "id": "fc47d34e",
   "metadata": {},
   "outputs": [
    {
     "name": "stdout",
     "output_type": "stream",
     "text": [
      "Running for 2 minutes\n"
     ]
    }
   ],
   "source": [
    "Coco.run()"
   ]
  },
  {
   "cell_type": "code",
   "execution_count": 37,
   "id": "3a82a43f",
   "metadata": {},
   "outputs": [],
   "source": [
    "import copy\n",
    "Ralph = copy.copy(Coco)"
   ]
  },
  {
   "cell_type": "code",
   "execution_count": 38,
   "id": "d64709a0",
   "metadata": {},
   "outputs": [
    {
     "data": {
      "text/plain": [
       "False"
      ]
     },
     "execution_count": 38,
     "metadata": {},
     "output_type": "execute_result"
    }
   ],
   "source": [
    "Ralph is Coco"
   ]
  },
  {
   "cell_type": "code",
   "execution_count": 39,
   "id": "96427496",
   "metadata": {},
   "outputs": [
    {
     "name": "stdout",
     "output_type": "stream",
     "text": [
      "ruff ruff ruff \n"
     ]
    }
   ],
   "source": [
    "Ralph.bark()"
   ]
  },
  {
   "cell_type": "code",
   "execution_count": 40,
   "id": "3aac2319",
   "metadata": {},
   "outputs": [
    {
     "name": "stdout",
     "output_type": "stream",
     "text": [
      "<class '__main__.ChildDog'>\n"
     ]
    }
   ],
   "source": [
    "print(type(Coco))"
   ]
  },
  {
   "cell_type": "markdown",
   "id": "fe3fd0bf",
   "metadata": {},
   "source": [
    "## Polymorphism"
   ]
  },
  {
   "cell_type": "code",
   "execution_count": 41,
   "id": "08ef8a2b",
   "metadata": {},
   "outputs": [
    {
     "ename": "NameError",
     "evalue": "name 'np' is not defined",
     "output_type": "error",
     "traceback": [
      "\u001b[0;31m---------------------------------------------------------------------------\u001b[0m",
      "\u001b[0;31mNameError\u001b[0m                                 Traceback (most recent call last)",
      "Input \u001b[0;32mIn [41]\u001b[0m, in \u001b[0;36m<cell line: 1>\u001b[0;34m()\u001b[0m\n\u001b[0;32m----> 1\u001b[0m lst \u001b[38;5;241m=\u001b[39m [\u001b[38;5;241m1\u001b[39m,\u001b[38;5;241m2\u001b[39m, \u001b[38;5;124m'\u001b[39m\u001b[38;5;124mhello \u001b[39m\u001b[38;5;124m'\u001b[39m, \u001b[43mnp\u001b[49m\u001b[38;5;241m.\u001b[39marray([\u001b[38;5;241m1\u001b[39m,\u001b[38;5;241m2\u001b[39m,\u001b[38;5;241m3\u001b[39m]), [\u001b[38;5;241m1\u001b[39m,\u001b[38;5;241m2\u001b[39m,\u001b[38;5;241m3\u001b[39m]]\n",
      "\u001b[0;31mNameError\u001b[0m: name 'np' is not defined"
     ]
    }
   ],
   "source": [
    "lst = [1,2, 'hello ', np.array([1,2,3]), [1,2,3]]"
   ]
  },
  {
   "cell_type": "code",
   "execution_count": 42,
   "id": "1ef21dac",
   "metadata": {},
   "outputs": [
    {
     "ename": "NameError",
     "evalue": "name 'lst' is not defined",
     "output_type": "error",
     "traceback": [
      "\u001b[0;31m---------------------------------------------------------------------------\u001b[0m",
      "\u001b[0;31mNameError\u001b[0m                                 Traceback (most recent call last)",
      "Input \u001b[0;32mIn [42]\u001b[0m, in \u001b[0;36m<cell line: 1>\u001b[0;34m()\u001b[0m\n\u001b[0;32m----> 1\u001b[0m \u001b[38;5;28;01mfor\u001b[39;00m item \u001b[38;5;129;01min\u001b[39;00m \u001b[43mlst\u001b[49m:\n\u001b[1;32m      2\u001b[0m     \u001b[38;5;28mprint\u001b[39m(item\u001b[38;5;241m*\u001b[39m\u001b[38;5;241m2\u001b[39m)\n",
      "\u001b[0;31mNameError\u001b[0m: name 'lst' is not defined"
     ]
    }
   ],
   "source": [
    "for item in lst:\n",
    "    print(item*2)"
   ]
  },
  {
   "cell_type": "code",
   "execution_count": 43,
   "id": "a9ea9702",
   "metadata": {},
   "outputs": [],
   "source": [
    "Lola = MotherDog(5,40,'brown','Australian Shepherd', 'Lola')\n",
    "Pongo = FatherDog(6, 50, 'white and black', 'Dalmatian', 'Pongo')\n",
    "Coco = ChildDog(Pongo,Lola)"
   ]
  },
  {
   "cell_type": "code",
   "execution_count": 44,
   "id": "8f9f3ffc",
   "metadata": {},
   "outputs": [
    {
     "name": "stdout",
     "output_type": "stream",
     "text": [
      "arf arf arf \n",
      "ruff ruff ruff \n",
      "ruff ruff ruff \n"
     ]
    }
   ],
   "source": [
    "dogs = [Lola, Pongo, Coco]\n",
    "for dog in dogs:\n",
    "    dog.bark()"
   ]
  },
  {
   "cell_type": "markdown",
   "id": "fbe0fcf3",
   "metadata": {},
   "source": [
    "## Overloading Operations and Functions"
   ]
  },
  {
   "cell_type": "code",
   "execution_count": 45,
   "id": "89568ba8",
   "metadata": {},
   "outputs": [],
   "source": [
    "class Vector:\n",
    "    \n",
    "    def __init__(self, x_comp, y_comp):\n",
    "        self.x_comp = x_comp\n",
    "        self.y_comp = y_comp\n",
    "    \n",
    "    def magnitude(self):\n",
    "        return (self.x_comp**2+self.y_comp**2)**.5"
   ]
  },
  {
   "cell_type": "code",
   "execution_count": 46,
   "id": "fc1b78dc",
   "metadata": {},
   "outputs": [
    {
     "name": "stdout",
     "output_type": "stream",
     "text": [
      "2.23606797749979\n"
     ]
    }
   ],
   "source": [
    "my_vec = Vector(1,2)\n",
    "print(my_vec.magnitude())"
   ]
  },
  {
   "cell_type": "code",
   "execution_count": 47,
   "id": "f47d9e6b",
   "metadata": {},
   "outputs": [
    {
     "ename": "TypeError",
     "evalue": "bad operand type for abs(): 'Vector'",
     "output_type": "error",
     "traceback": [
      "\u001b[0;31m---------------------------------------------------------------------------\u001b[0m",
      "\u001b[0;31mTypeError\u001b[0m                                 Traceback (most recent call last)",
      "Input \u001b[0;32mIn [47]\u001b[0m, in \u001b[0;36m<cell line: 1>\u001b[0;34m()\u001b[0m\n\u001b[0;32m----> 1\u001b[0m \u001b[38;5;28;43mabs\u001b[39;49m\u001b[43m(\u001b[49m\u001b[43mmy_vec\u001b[49m\u001b[43m)\u001b[49m\n",
      "\u001b[0;31mTypeError\u001b[0m: bad operand type for abs(): 'Vector'"
     ]
    }
   ],
   "source": [
    "abs(my_vec)"
   ]
  },
  {
   "cell_type": "code",
   "execution_count": 48,
   "id": "d993c97a",
   "metadata": {},
   "outputs": [
    {
     "data": {
      "text/plain": [
       "1"
      ]
     },
     "execution_count": 48,
     "metadata": {},
     "output_type": "execute_result"
    }
   ],
   "source": [
    "abs(-1)"
   ]
  },
  {
   "cell_type": "code",
   "execution_count": 49,
   "id": "e4761fa3",
   "metadata": {},
   "outputs": [],
   "source": [
    "class Vector:\n",
    "    \n",
    "    def __init__(self, x_comp, y_comp):\n",
    "        self.x_comp = x_comp\n",
    "        self.y_comp = y_comp\n",
    "    \n",
    "    def magnitude(self):\n",
    "        return (self.x_comp**2+self.y_comp**2)**.5\n",
    "    \n",
    "    def __abs__(self):\n",
    "        return (self.x_comp**2+self.y_comp**2)**.5"
   ]
  },
  {
   "cell_type": "code",
   "execution_count": 50,
   "id": "cf8cf728",
   "metadata": {},
   "outputs": [
    {
     "name": "stdout",
     "output_type": "stream",
     "text": [
      "2.23606797749979\n",
      "2.23606797749979\n"
     ]
    }
   ],
   "source": [
    "my_vec = Vector(1,2)\n",
    "print(my_vec.magnitude())\n",
    "print(abs(my_vec))"
   ]
  },
  {
   "cell_type": "code",
   "execution_count": 51,
   "id": "bcaf8f90",
   "metadata": {},
   "outputs": [
    {
     "ename": "TypeError",
     "evalue": "object of type 'Vector' has no len()",
     "output_type": "error",
     "traceback": [
      "\u001b[0;31m---------------------------------------------------------------------------\u001b[0m",
      "\u001b[0;31mTypeError\u001b[0m                                 Traceback (most recent call last)",
      "Input \u001b[0;32mIn [51]\u001b[0m, in \u001b[0;36m<cell line: 1>\u001b[0;34m()\u001b[0m\n\u001b[0;32m----> 1\u001b[0m \u001b[38;5;28;43mlen\u001b[39;49m\u001b[43m(\u001b[49m\u001b[43mmy_vec\u001b[49m\u001b[43m)\u001b[49m\n",
      "\u001b[0;31mTypeError\u001b[0m: object of type 'Vector' has no len()"
     ]
    }
   ],
   "source": [
    "len(my_vec)"
   ]
  },
  {
   "cell_type": "code",
   "execution_count": 52,
   "id": "0234df69",
   "metadata": {},
   "outputs": [],
   "source": [
    "class Vector:\n",
    "    \n",
    "    def __init__(self, x_comp, y_comp):\n",
    "        self.x_comp = x_comp\n",
    "        self.y_comp = y_comp\n",
    "    \n",
    "    def magnitude(self):\n",
    "        return (self.x_comp**2+self.y_comp**2)**.5\n",
    "    \n",
    "    def __abs__(self):\n",
    "        return (self.x_comp**2+self.y_comp**2)**.5\n",
    "    \n",
    "    def __len__(self):\n",
    "        return 2"
   ]
  },
  {
   "cell_type": "code",
   "execution_count": 53,
   "id": "32ca284f",
   "metadata": {},
   "outputs": [
    {
     "name": "stdout",
     "output_type": "stream",
     "text": [
      "2\n"
     ]
    }
   ],
   "source": [
    "my_vec = Vector(1,2)\n",
    "print(len(my_vec))"
   ]
  },
  {
   "cell_type": "code",
   "execution_count": 54,
   "id": "c1fccc19",
   "metadata": {},
   "outputs": [
    {
     "ename": "TypeError",
     "evalue": "unsupported operand type(s) for +: 'Vector' and 'Vector'",
     "output_type": "error",
     "traceback": [
      "\u001b[0;31m---------------------------------------------------------------------------\u001b[0m",
      "\u001b[0;31mTypeError\u001b[0m                                 Traceback (most recent call last)",
      "Input \u001b[0;32mIn [54]\u001b[0m, in \u001b[0;36m<cell line: 3>\u001b[0;34m()\u001b[0m\n\u001b[1;32m      1\u001b[0m my_vec \u001b[38;5;241m=\u001b[39m Vector(\u001b[38;5;241m1\u001b[39m,\u001b[38;5;241m2\u001b[39m)\n\u001b[1;32m      2\u001b[0m my_vec2 \u001b[38;5;241m=\u001b[39m Vector(\u001b[38;5;241m1\u001b[39m,\u001b[38;5;241m1\u001b[39m)\n\u001b[0;32m----> 3\u001b[0m \u001b[43mmy_vec\u001b[49m\u001b[38;5;241;43m+\u001b[39;49m\u001b[43mmy_vec2\u001b[49m\n",
      "\u001b[0;31mTypeError\u001b[0m: unsupported operand type(s) for +: 'Vector' and 'Vector'"
     ]
    }
   ],
   "source": [
    "my_vec = Vector(1,2)\n",
    "my_vec2 = Vector(1,1)\n",
    "my_vec+my_vec2"
   ]
  },
  {
   "cell_type": "code",
   "execution_count": 55,
   "id": "ef24f2f3",
   "metadata": {},
   "outputs": [],
   "source": [
    "class Vector:\n",
    "    \n",
    "    def __init__(self, x_comp, y_comp):\n",
    "        self.x_comp = x_comp\n",
    "        self.y_comp = y_comp\n",
    "    \n",
    "    def magnitude(self):\n",
    "        return (self.x_comp**2+self.y_comp**2)**.5\n",
    "    \n",
    "    def __abs__(self):\n",
    "        return (self.x_comp**2+self.y_comp**2)**.5\n",
    "    \n",
    "    def __len__(self):\n",
    "        return 2\n",
    "    \n",
    "    def add(self, other):\n",
    "        return Vector(self.x_comp+other.x_comp, self.y_comp+other.y_comp)\n",
    "    \n",
    "    def __add__(self, other):\n",
    "        return Vector(self.x_comp+other.x_comp, self.y_comp+other.y_comp)\n",
    "    \n",
    "    def __str__(self):\n",
    "        return  '({},{})'.format(self.x_comp,self.y_comp)\n",
    "    "
   ]
  },
  {
   "cell_type": "code",
   "execution_count": 56,
   "id": "0e62710c",
   "metadata": {},
   "outputs": [
    {
     "name": "stdout",
     "output_type": "stream",
     "text": [
      "2 3\n"
     ]
    }
   ],
   "source": [
    "my_vec = Vector(1,2)\n",
    "my_vec2 = Vector(1,1)\n",
    "sum_vec = my_vec.add(my_vec2)\n",
    "print(sum_vec.x_comp, sum_vec.y_comp)"
   ]
  },
  {
   "cell_type": "code",
   "execution_count": 57,
   "id": "6f37c8da",
   "metadata": {},
   "outputs": [
    {
     "name": "stdout",
     "output_type": "stream",
     "text": [
      "2 3\n"
     ]
    }
   ],
   "source": [
    "sum2 = my_vec+my_vec2\n",
    "print(sum2.x_comp, sum2.y_comp)"
   ]
  },
  {
   "cell_type": "code",
   "execution_count": 58,
   "id": "2783a293",
   "metadata": {},
   "outputs": [
    {
     "name": "stdout",
     "output_type": "stream",
     "text": [
      "(1,2)\n"
     ]
    }
   ],
   "source": [
    "print(my_vec)"
   ]
  },
  {
   "cell_type": "code",
   "execution_count": 59,
   "id": "fb79906e",
   "metadata": {},
   "outputs": [],
   "source": [
    "class Vector:\n",
    "    \n",
    "    def __init__(self, x_comp, y_comp):\n",
    "        self.x_comp = x_comp\n",
    "        self.y_comp = y_comp\n",
    "    \n",
    "    def magnitude(self):\n",
    "        return (self.x_comp**2+self.y_comp**2)**.5\n",
    "    \n",
    "    def __abs__(self):\n",
    "        return (self.x_comp**2+self.y_comp**2)**.5\n",
    "    \n",
    "    def __len__(self):\n",
    "        return 2\n",
    "    \n",
    "    def add(self, other):\n",
    "        return Vector(self.x_comp+other.x_comp, self.y_comp+other.y_comp)\n",
    "    \n",
    "    def __add__(self, other):\n",
    "        return Vector(self.x_comp+other.x_comp, self.y_comp+other.y_comp)\n",
    "    \n",
    "    def __str__(self):\n",
    "        return  '({},{})'.format(self.x_comp,self.y_comp)\n",
    "    \n",
    "    def __mul__(a,b):\n",
    "        if isinstance(a,Vector) and isinstance(b,(int,float)):\n",
    "            return Vector(b*a.x_comp, b*a.y_comp)\n",
    "#         elif isinstance(a,(int,float)) and isinstance(b,Vector):\n",
    "#             return Vector(a*b.x_comp, a*b.y_comp)\n",
    "        elif isinstance(a,Vector) and isinstance(b, Vector):\n",
    "            # dot product\n",
    "            return a.x_comp*b.x_comp+a.y_comp*b.y_comp\n",
    "        else:\n",
    "            return False"
   ]
  },
  {
   "cell_type": "code",
   "execution_count": 60,
   "id": "0ac8cd5d",
   "metadata": {},
   "outputs": [
    {
     "data": {
      "text/plain": [
       "3"
      ]
     },
     "execution_count": 60,
     "metadata": {},
     "output_type": "execute_result"
    }
   ],
   "source": [
    "my_vec = Vector(1,2)\n",
    "my_vec2 = Vector(1,1)\n",
    "my_vec*my_vec2"
   ]
  },
  {
   "cell_type": "code",
   "execution_count": 61,
   "id": "6de7beb4",
   "metadata": {},
   "outputs": [
    {
     "name": "stdout",
     "output_type": "stream",
     "text": [
      "(2,4)\n"
     ]
    },
    {
     "ename": "TypeError",
     "evalue": "unsupported operand type(s) for *: 'int' and 'Vector'",
     "output_type": "error",
     "traceback": [
      "\u001b[0;31m---------------------------------------------------------------------------\u001b[0m",
      "\u001b[0;31mTypeError\u001b[0m                                 Traceback (most recent call last)",
      "Input \u001b[0;32mIn [61]\u001b[0m, in \u001b[0;36m<cell line: 2>\u001b[0;34m()\u001b[0m\n\u001b[1;32m      1\u001b[0m \u001b[38;5;28mprint\u001b[39m(my_vec\u001b[38;5;241m*\u001b[39m\u001b[38;5;241m2\u001b[39m)\n\u001b[0;32m----> 2\u001b[0m \u001b[38;5;28mprint\u001b[39m(\u001b[38;5;241;43m2\u001b[39;49m\u001b[38;5;241;43m*\u001b[39;49m\u001b[43mmy_vec\u001b[49m)\n",
      "\u001b[0;31mTypeError\u001b[0m: unsupported operand type(s) for *: 'int' and 'Vector'"
     ]
    }
   ],
   "source": [
    "print(my_vec*2)\n",
    "print(2*my_vec)"
   ]
  },
  {
   "cell_type": "code",
   "execution_count": 62,
   "id": "00217f6d",
   "metadata": {},
   "outputs": [],
   "source": [
    "class Vector:\n",
    "    \n",
    "    def __init__(self, x_comp, y_comp):\n",
    "        self.x_comp = x_comp\n",
    "        self.y_comp = y_comp\n",
    "    \n",
    "    def magnitude(self):\n",
    "        return (self.x_comp**2+self.y_comp**2)**.5\n",
    "    \n",
    "    def __abs__(self):\n",
    "        return (self.x_comp**2+self.y_comp**2)**.5\n",
    "    \n",
    "    def __len__(self):\n",
    "        return 2\n",
    "    \n",
    "    def add(self, other):\n",
    "        return Vector(self.x_comp+other.x_comp, self.y_comp+other.y_comp)\n",
    "    \n",
    "    def __add__(self, other):\n",
    "        return Vector(self.x_comp+other.x_comp, self.y_comp+other.y_comp)\n",
    "    \n",
    "    def __str__(self):\n",
    "        return  '({},{})'.format(self.x_comp,self.y_comp)\n",
    "    \n",
    "    def __mul__(a,b):\n",
    "        if isinstance(a,Vector) and isinstance(b,(int,float)):\n",
    "            return Vector(b*a.x_comp, b*a.y_comp)\n",
    "#         elif isinstance(a,(int,float)) and isinstance(b,Vector):\n",
    "#             return Vector(a*b.x_comp, a*b.y_comp)\n",
    "        elif isinstance(a,Vector) and isinstance(b, Vector):\n",
    "            # dot product\n",
    "            return a.x_comp*b.x_comp+a.y_comp*b.y_comp\n",
    "        else:\n",
    "            return False\n",
    "    \n",
    "    def __rmul__(vector,scalar):\n",
    "        return Vector(scalar*vector.x_comp, scalar*vector.y_comp)"
   ]
  },
  {
   "cell_type": "code",
   "execution_count": 63,
   "id": "78e82afc",
   "metadata": {},
   "outputs": [
    {
     "name": "stdout",
     "output_type": "stream",
     "text": [
      "(2,4)\n",
      "(2,4)\n"
     ]
    }
   ],
   "source": [
    "my_vec = Vector(1,2)\n",
    "my_vec2 = Vector(1,1)\n",
    "print(2*my_vec)\n",
    "print(my_vec*2)"
   ]
  },
  {
   "cell_type": "code",
   "execution_count": 64,
   "id": "b795743f",
   "metadata": {},
   "outputs": [],
   "source": [
    "class Vector:\n",
    "    \n",
    "    def __init__(self, x_comp, y_comp):\n",
    "        self.x_comp = x_comp\n",
    "        self.y_comp = y_comp\n",
    "    \n",
    "    def magnitude(self):\n",
    "        return (self.x_comp**2+self.y_comp**2)**.5\n",
    "    \n",
    "    def __abs__(self):\n",
    "        return (self.x_comp**2+self.y_comp**2)**.5\n",
    "    \n",
    "    def __len__(self):\n",
    "        return 2\n",
    "    \n",
    "    def add(self, other):\n",
    "        return Vector(self.x_comp+other.x_comp, self.y_comp+other.y_comp)\n",
    "    \n",
    "    def __add__(self, other):\n",
    "        return Vector(self.x_comp+other.x_comp, self.y_comp+other.y_comp)\n",
    "    \n",
    "    def __str__(self):\n",
    "        return  '({},{})'.format(self.x_comp,self.y_comp)\n",
    "    \n",
    "    def __mul__(a,b):\n",
    "        if isinstance(a,Vector) and isinstance(b,(int,float)):\n",
    "            return Vector(b*a.x_comp, b*a.y_comp)\n",
    "#         elif isinstance(a,(int,float)) and isinstance(b,Vector):\n",
    "#             return Vector(a*b.x_comp, a*b.y_comp)\n",
    "        elif isinstance(a,Vector) and isinstance(b, Vector):\n",
    "            # dot product\n",
    "            return a.x_comp*b.x_comp+a.y_comp*b.y_comp\n",
    "        else:\n",
    "            return False\n",
    "    \n",
    "    def __rmul__(vector,scalar):\n",
    "        return Vector(scalar*vector.x_comp, scalar*vector.y_comp)\n",
    "    \n",
    "    def __iadd__(self,other):\n",
    "        return Vector(self.x_comp+other.x_comp, self.y_comp+other.y_comp)\n",
    "    \n",
    "    def __imul__(self,other):\n",
    "        return self.__mul__(other)"
   ]
  },
  {
   "cell_type": "code",
   "execution_count": 65,
   "id": "b4ca2fdc",
   "metadata": {},
   "outputs": [
    {
     "name": "stdout",
     "output_type": "stream",
     "text": [
      "3\n"
     ]
    }
   ],
   "source": [
    "my_vec = Vector(1,2)\n",
    "my_vec2 = Vector(1,1)\n",
    "my_vec*=my_vec2\n",
    "print(my_vec)"
   ]
  },
  {
   "cell_type": "code",
   "execution_count": 76,
   "id": "41052da8",
   "metadata": {},
   "outputs": [],
   "source": [
    "class Vector:\n",
    "    \n",
    "    # Multiple initialization options\n",
    "    def __init__(self, *args):\n",
    "        print(len(args))\n",
    "        print(args)\n",
    "        print(type(args))\n",
    "        print(args[0])\n",
    "        if len(args)==2:\n",
    "            self.x_comp = args[0]\n",
    "            self.y_comp = args[1]\n",
    "        elif len(args)>2:\n",
    "            self.x_comp = args[0]\n",
    "            self.y_comp = args[1]\n",
    "        elif len(args)<=1:\n",
    "            self.x_comp = 0\n",
    "            self.y_comp = 0\n",
    "            self.vector = args[0]\n",
    "    \n",
    "    def magnitude(self):\n",
    "        return (self.x_comp**2+self.y_comp**2)**.5\n",
    "    \n",
    "    def __abs__(self):\n",
    "        return (self.x_comp**2+self.y_comp**2)**.5\n",
    "    \n",
    "    def __len__(self):\n",
    "        return 2\n",
    "    \n",
    "    def add(self, other):\n",
    "        return Vector(self.x_comp+other.x_comp, self.y_comp+other.y_comp)\n",
    "    \n",
    "    def __add__(self, other):\n",
    "        return Vector(self.x_comp+other.x_comp, self.y_comp+other.y_comp)\n",
    "    \n",
    "    def __str__(self):\n",
    "        return  '({},{})'.format(self.x_comp,self.y_comp)\n",
    "    \n",
    "    def __mul__(a,b):\n",
    "        if isinstance(a,Vector) and isinstance(b,(int,float)):\n",
    "            return Vector(b*a.x_comp, b*a.y_comp)\n",
    "#         elif isinstance(a,(int,float)) and isinstance(b,Vector):\n",
    "#             return Vector(a*b.x_comp, a*b.y_comp)\n",
    "        elif isinstance(a,Vector) and isinstance(b, Vector):\n",
    "            # dot product\n",
    "            return a.x_comp*b.x_comp+a.y_comp*b.y_comp\n",
    "        else:\n",
    "            return False\n",
    "    \n",
    "    def __rmul__(vector,scalar):\n",
    "        return Vector(scalar*vector.x_comp, scalar*vector.y_comp)\n",
    "    \n",
    "    def __iadd__(self,other):\n",
    "        return Vector(self.x_comp+other.x_comp, self.y_comp+other.y_comp)\n",
    "    \n",
    "    def __imul__(self,other):\n",
    "        return self.__mul__(other)"
   ]
  },
  {
   "cell_type": "code",
   "execution_count": 91,
   "id": "d1b94057",
   "metadata": {},
   "outputs": [],
   "source": [
    "   class Vector:\n",
    "    \n",
    "    # Multiple initialization options\n",
    "    def __init__(self, *args):\n",
    "#         print(len(args))\n",
    "#         print(args)\n",
    "#         print(type(args))\n",
    "#         print(args[0])\n",
    "        if len(args)==2:\n",
    "            self.x_comp = args[0]\n",
    "            self.y_comp = args[1]\n",
    "            #self.vector = [args[0],args[1]]\n",
    "        elif len(args)>2:\n",
    "            self.x_comp = args[0]\n",
    "            self.y_comp = args[1]\n",
    "        elif len(args)==1:\n",
    "            self.x_comp = 0\n",
    "            self.y_comp = 0\n",
    "        self.vector = [self.x_comp,self.y_comp]\n",
    "    \n",
    "    def magnitude(self):\n",
    "        return (self.x_comp**2+self.y_comp**2)**.5\n",
    "    \n",
    "    def __abs__(self):\n",
    "        return (self.x_comp**2+self.y_comp**2)**.5\n",
    "    \n",
    "    def __len__(self):\n",
    "        return 2\n",
    "    \n",
    "    def add(self, other):\n",
    "        return Vector(self.x_comp+other.x_comp, self.y_comp+other.y_comp)\n",
    "    \n",
    "    def __call__(self,ind):\n",
    "        return self[ind[0]][ind[1]]\n",
    "    \n",
    "    def __add__(self, other):\n",
    "        return Vector(vec_add(self.vector,other.vector))   #Vector(self.x_comp+other.x_comp, self.y_comp+other.y_comp)\n",
    "    \n",
    "    def __str__(self):\n",
    "        return  '({},{})'.format(self.x_comp,self.y_comp)\n",
    "    \n",
    "    def __mul__(a,b):\n",
    "        if isinstance(a,Vector) and isinstance(b,(int,float)):\n",
    "            return Vector(b*a.x_comp, b*a.y_comp)\n",
    "#         elif isinstance(a,(int,float)) and isinstance(b,Vector):\n",
    "#             return Vector(a*b.x_comp, a*b.y_comp)\n",
    "        elif isinstance(a,Vector) and isinstance(b, Vector):\n",
    "            # dot product\n",
    "            return a.x_comp*b.x_comp+a.y_comp*b.y_comp\n",
    "        else:\n",
    "            return False\n",
    "    \n",
    "    def __rmul__(vector,scalar):\n",
    "        return Vector(scalar*vector.x_comp, scalar*vector.y_comp)\n",
    "    \n",
    "    def __iadd__(self,other):\n",
    "        return Vector(self.x_comp+other.x_comp, self.y_comp+other.y_comp)\n",
    "    \n",
    "    def __imul__(self,other):\n",
    "        return self.__mul__(other)"
   ]
  },
  {
   "cell_type": "code",
   "execution_count": 93,
   "id": "5b7105dc",
   "metadata": {},
   "outputs": [],
   "source": [
    "def vec_add(a,b):\n",
    "    return (a[0]+b[0],a[1]+b[1])"
   ]
  },
  {
   "cell_type": "code",
   "execution_count": 94,
   "id": "6d4f29bb",
   "metadata": {},
   "outputs": [
    {
     "name": "stdout",
     "output_type": "stream",
     "text": [
      "(0,0)\n"
     ]
    }
   ],
   "source": [
    "a = Vector([1,2])\n",
    "b = Vector(3,4)\n",
    "print(a+b)"
   ]
  },
  {
   "cell_type": "code",
   "execution_count": 67,
   "id": "cf42223b",
   "metadata": {},
   "outputs": [
    {
     "name": "stdout",
     "output_type": "stream",
     "text": [
      "0\n",
      "(0,0)\n"
     ]
    }
   ],
   "source": [
    "a = Vector()\n",
    "print(a)"
   ]
  },
  {
   "cell_type": "code",
   "execution_count": 68,
   "id": "0632f6a8",
   "metadata": {},
   "outputs": [
    {
     "name": "stdout",
     "output_type": "stream",
     "text": [
      "2\n",
      "(2,4)\n"
     ]
    }
   ],
   "source": [
    "b = Vector(2,4)\n",
    "print(b)"
   ]
  },
  {
   "cell_type": "code",
   "execution_count": 69,
   "id": "b971881d",
   "metadata": {},
   "outputs": [
    {
     "name": "stdout",
     "output_type": "stream",
     "text": [
      "4\n",
      "(2,4)\n"
     ]
    }
   ],
   "source": [
    "d = Vector(2,4,5,6)\n",
    "print(d)"
   ]
  },
  {
   "cell_type": "code",
   "execution_count": 72,
   "id": "43f8986e",
   "metadata": {},
   "outputs": [
    {
     "name": "stdout",
     "output_type": "stream",
     "text": [
      "2\n",
      "([1, 2], [1, 2, 3, 4])\n"
     ]
    }
   ],
   "source": [
    "e = Vector([1,2],[1,2,3,4])\n"
   ]
  },
  {
   "cell_type": "code",
   "execution_count": 77,
   "id": "47ca4b3c",
   "metadata": {},
   "outputs": [
    {
     "name": "stdout",
     "output_type": "stream",
     "text": [
      "1\n",
      "([[1, 2, 3], [4, 5, 6]],)\n",
      "<class 'tuple'>\n",
      "[[1, 2, 3], [4, 5, 6]]\n"
     ]
    },
    {
     "data": {
      "text/plain": [
       "<__main__.Vector at 0x7fb8b9aa5430>"
      ]
     },
     "execution_count": 77,
     "metadata": {},
     "output_type": "execute_result"
    }
   ],
   "source": [
    "Vector([[1,2,3],[4,5,6]])"
   ]
  },
  {
   "cell_type": "code",
   "execution_count": null,
   "id": "8b56cb65",
   "metadata": {},
   "outputs": [],
   "source": []
  },
  {
   "cell_type": "code",
   "execution_count": null,
   "id": "33ea3364",
   "metadata": {},
   "outputs": [],
   "source": []
  },
  {
   "cell_type": "code",
   "execution_count": null,
   "id": "f1e7f263",
   "metadata": {},
   "outputs": [],
   "source": []
  },
  {
   "cell_type": "code",
   "execution_count": null,
   "id": "7f0ac47c",
   "metadata": {},
   "outputs": [],
   "source": []
  }
 ],
 "metadata": {
  "kernelspec": {
   "display_name": "Python 3 (ipykernel)",
   "language": "python",
   "name": "python3"
  },
  "language_info": {
   "codemirror_mode": {
    "name": "ipython",
    "version": 3
   },
   "file_extension": ".py",
   "mimetype": "text/x-python",
   "name": "python",
   "nbconvert_exporter": "python",
   "pygments_lexer": "ipython3",
   "version": "3.8.10"
  }
 },
 "nbformat": 4,
 "nbformat_minor": 5
}
