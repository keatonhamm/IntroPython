{
 "cells": [
  {
   "cell_type": "markdown",
   "id": "5090c1f2",
   "metadata": {},
   "source": [
    "# File I/O (Input/Output)\n",
    "There are 2 types of files we should be aware of related to Python I/O:\n",
    "1. Text Files: consists of sequences of text characters followed by an End of Line (EOL) character\n",
    "1. Binary files: everything else\n",
    "\n",
    "There are built in functions to read/write files"
   ]
  },
  {
   "cell_type": "code",
   "execution_count": 1,
   "id": "c57427d3",
   "metadata": {},
   "outputs": [
    {
     "name": "stdout",
     "output_type": "stream",
     "text": [
      "<_io.TextIOWrapper name='a_file.txt' mode='w' encoding='UTF-8'>\n"
     ]
    }
   ],
   "source": [
    "file_obj = open(\"a_file.txt\",\"w\")\n",
    "print(file_obj)\n",
    "file_obj.close()"
   ]
  },
  {
   "cell_type": "markdown",
   "id": "8ed6a35c",
   "metadata": {},
   "source": [
    "Syntax: open(filename, mode).  Mode options are:\n",
    "1. \"w\" -- write mode; used to edit and write new information to the file (any existing files with the same filename will be erased when this mode is used\n",
    "1. \"r\" -- read mode; used to read (only) contents of the file\n",
    "1. \"a\" -- append mode; used to add new data to the *end* of the file\n",
    "1. \"r+\" -- special read/write mode; handles both reading and writing commands"
   ]
  },
  {
   "cell_type": "code",
   "execution_count": 5,
   "id": "d00f481d",
   "metadata": {},
   "outputs": [],
   "source": [
    "file_obj = open(\"a_file.txt\",\"w\")\n",
    "file_obj.write(\"This is our first line\\n\")\n",
    "file_obj.write(\"This is our second line\\n\")\n",
    "file_obj.write(\"This is our third line\\n\")\n",
    "\n",
    "file_obj.close()"
   ]
  },
  {
   "cell_type": "code",
   "execution_count": 3,
   "id": "475293ad",
   "metadata": {},
   "outputs": [],
   "source": [
    "file_obj = open(\"a_file.txt\",\"w\")\n",
    "file_obj.write(\"This is our first line\")\n",
    "file_obj.write(\"This is our second line\")\n",
    "file_obj.write(\"This is our third line\")\n",
    "\n",
    "file_obj.close()"
   ]
  },
  {
   "cell_type": "code",
   "execution_count": 6,
   "id": "7718ca9d",
   "metadata": {},
   "outputs": [
    {
     "name": "stdout",
     "output_type": "stream",
     "text": [
      "This is our first line\r\n",
      "This is our second line\r\n",
      "This is our third line\r\n"
     ]
    }
   ],
   "source": [
    "!cat a_file.txt"
   ]
  },
  {
   "cell_type": "code",
   "execution_count": 7,
   "id": "eb3c91f9",
   "metadata": {},
   "outputs": [
    {
     "name": "stdout",
     "output_type": "stream",
     "text": [
      "This is our first line\n",
      "This is our second line\n",
      "This is our third line\n",
      "\n"
     ]
    }
   ],
   "source": [
    "file_obj = open(\"a_file.txt\",'r')\n",
    "contents = file_obj.read()\n",
    "print(contents)\n",
    "file_obj.close()"
   ]
  },
  {
   "cell_type": "code",
   "execution_count": 8,
   "id": "49b0a392",
   "metadata": {},
   "outputs": [
    {
     "data": {
      "text/plain": [
       "_io.TextIOWrapper"
      ]
     },
     "execution_count": 8,
     "metadata": {},
     "output_type": "execute_result"
    }
   ],
   "source": [
    "type(file_obj)"
   ]
  },
  {
   "cell_type": "code",
   "execution_count": 9,
   "id": "413bafa3",
   "metadata": {},
   "outputs": [
    {
     "name": "stdout",
     "output_type": "stream",
     "text": [
      "This is ou\n"
     ]
    }
   ],
   "source": [
    "file_obj = open(\"a_file.txt\",'r')\n",
    "contents = file_obj.read(10)\n",
    "print(contents)\n",
    "file_obj.close()"
   ]
  },
  {
   "cell_type": "code",
   "execution_count": 10,
   "id": "d1c4b58c",
   "metadata": {},
   "outputs": [
    {
     "name": "stdout",
     "output_type": "stream",
     "text": [
      "This is our first line\n",
      "\n"
     ]
    }
   ],
   "source": [
    "file_obj = open(\"a_file.txt\",'r')\n",
    "contents = file_obj.readline()\n",
    "print(contents)\n",
    "file_obj.close()"
   ]
  },
  {
   "cell_type": "code",
   "execution_count": 11,
   "id": "e822d9b3",
   "metadata": {},
   "outputs": [
    {
     "name": "stdout",
     "output_type": "stream",
     "text": [
      "This is our first line\n",
      "\n",
      "This is our second line\n",
      "\n"
     ]
    }
   ],
   "source": [
    "file_obj = open(\"a_file.txt\",'r')\n",
    "print(file_obj.readline())\n",
    "print(file_obj.readline())\n",
    "file_obj.close()"
   ]
  },
  {
   "cell_type": "code",
   "execution_count": 12,
   "id": "264fa00e",
   "metadata": {},
   "outputs": [
    {
     "name": "stdout",
     "output_type": "stream",
     "text": [
      "This is our first line\n",
      "\n"
     ]
    }
   ],
   "source": [
    "file_obj = open(\"a_file.txt\",'r')\n",
    "a = file_obj.readline()\n",
    "b = file_obj.readline()\n",
    "print(a)\n",
    "file_obj.close()"
   ]
  },
  {
   "cell_type": "code",
   "execution_count": 13,
   "id": "e9e51e4a",
   "metadata": {},
   "outputs": [
    {
     "name": "stdout",
     "output_type": "stream",
     "text": [
      "['This is our first line\\n', 'This is our second line\\n', 'This is our third line\\n']\n"
     ]
    }
   ],
   "source": [
    "file_obj = open(\"a_file.txt\",'r')\n",
    "lines = file_obj.readlines()\n",
    "print(lines)\n",
    "file_obj.close()"
   ]
  },
  {
   "cell_type": "code",
   "execution_count": 15,
   "id": "baef8dfa",
   "metadata": {},
   "outputs": [
    {
     "name": "stdout",
     "output_type": "stream",
     "text": [
      "This is our first line\n",
      "This is our second line\n",
      "This is our third line\n"
     ]
    }
   ],
   "source": [
    "# Read all lines without knowing beforehand how many there are\n",
    "file_obj = open('a_file.txt','r')\n",
    "for line in file_obj:\n",
    "    print(line, end = \"\")\n",
    "file_obj.close()"
   ]
  },
  {
   "cell_type": "code",
   "execution_count": 16,
   "id": "299daf1c",
   "metadata": {},
   "outputs": [
    {
     "name": "stdout",
     "output_type": "stream",
     "text": [
      "1234"
     ]
    }
   ],
   "source": [
    "# Storing numerical data\n",
    "numbers = [1,2,3,4]\n",
    "\n",
    "file_obj = open(\"a_file_with_numbers.txt\",\"w\")\n",
    "for number in numbers:\n",
    "    file_obj.write(str(number))\n",
    "\n",
    "file_obj.close()\n",
    "!cat a_file_with_numbers.txt"
   ]
  },
  {
   "cell_type": "markdown",
   "id": "3c4890e3",
   "metadata": {},
   "source": [
    "This is not useful because we don't know if this is 1,2,3,4 or 12,34 or 123,4 ?"
   ]
  },
  {
   "cell_type": "code",
   "execution_count": 23,
   "id": "934d75a6",
   "metadata": {},
   "outputs": [
    {
     "name": "stdout",
     "output_type": "stream",
     "text": [
      "1,2,3,4"
     ]
    }
   ],
   "source": [
    "# Numbers separated by commas\n",
    "numbers = [1,2,3,4]\n",
    "\n",
    "file_obj = open(\"a_file_with_numbers.txt\",\"w\")\n",
    "for i in range(len(numbers)):\n",
    "    if i != len(numbers)-1:\n",
    "        file_obj.write(str(numbers[i])+\",\")\n",
    "    else:\n",
    "        file_obj.write(str(numbers[i]))\n",
    "\n",
    "file_obj.close()\n",
    "!cat a_file_with_numbers.txt"
   ]
  },
  {
   "cell_type": "markdown",
   "id": "95766a87",
   "metadata": {},
   "source": [
    "We just created a simple CSV (comma-separated-value) file. Let's read it back"
   ]
  },
  {
   "cell_type": "code",
   "execution_count": 24,
   "id": "cce5a7a6",
   "metadata": {},
   "outputs": [
    {
     "name": "stdout",
     "output_type": "stream",
     "text": [
      "[1, 2, 3, 4]\n"
     ]
    }
   ],
   "source": [
    "file_obj = open(\"a_file_with_numbers.txt\",\"r\")\n",
    "\n",
    "number_list = list()\n",
    "\n",
    "for line in file_obj:\n",
    "    number_list.extend(map(int, line.split(\",\")))\n",
    "\n",
    "file_obj.close()\n",
    "print(number_list)"
   ]
  },
  {
   "cell_type": "code",
   "execution_count": 25,
   "id": "f55e7d35",
   "metadata": {},
   "outputs": [
    {
     "data": {
      "text/plain": [
       "'1,2,3,4'"
      ]
     },
     "execution_count": 25,
     "metadata": {},
     "output_type": "execute_result"
    }
   ],
   "source": [
    "file_obj = open(\"a_file_with_numbers.txt\",\"r\")\n",
    "\n",
    "a_line = file_obj.readline()\n",
    "a_line"
   ]
  },
  {
   "cell_type": "code",
   "execution_count": 26,
   "id": "b12dfc2a",
   "metadata": {},
   "outputs": [
    {
     "data": {
      "text/plain": [
       "['1', '2', '3', '4']"
      ]
     },
     "execution_count": 26,
     "metadata": {},
     "output_type": "execute_result"
    }
   ],
   "source": [
    "a_line.split(\",\")"
   ]
  },
  {
   "cell_type": "code",
   "execution_count": 29,
   "id": "10e94d5f",
   "metadata": {},
   "outputs": [
    {
     "data": {
      "text/plain": [
       "[1, 2, 3, 4]"
      ]
     },
     "execution_count": 29,
     "metadata": {},
     "output_type": "execute_result"
    }
   ],
   "source": [
    "lst = list(map(int, line.split(\",\")))\n",
    "lst"
   ]
  },
  {
   "cell_type": "code",
   "execution_count": 30,
   "id": "a88b7433",
   "metadata": {},
   "outputs": [
    {
     "data": {
      "text/plain": [
       "int"
      ]
     },
     "execution_count": 30,
     "metadata": {},
     "output_type": "execute_result"
    }
   ],
   "source": [
    "type(lst[0])"
   ]
  },
  {
   "cell_type": "code",
   "execution_count": 31,
   "id": "28409da8",
   "metadata": {},
   "outputs": [],
   "source": [
    "file_obj.close()"
   ]
  },
  {
   "cell_type": "code",
   "execution_count": 32,
   "id": "4c658454",
   "metadata": {},
   "outputs": [
    {
     "ename": "ValueError",
     "evalue": "invalid literal for int() with base 10: 'A'",
     "output_type": "error",
     "traceback": [
      "\u001b[0;31m---------------------------------------------------------------------------\u001b[0m",
      "\u001b[0;31mValueError\u001b[0m                                Traceback (most recent call last)",
      "\u001b[0;32m/tmp/ipykernel_108/3277516810.py\u001b[0m in \u001b[0;36m<module>\u001b[0;34m\u001b[0m\n\u001b[1;32m      6\u001b[0m \u001b[0;34m\u001b[0m\u001b[0m\n\u001b[1;32m      7\u001b[0m \u001b[0;32mfor\u001b[0m \u001b[0mline\u001b[0m \u001b[0;32min\u001b[0m \u001b[0mfile_obj\u001b[0m\u001b[0;34m:\u001b[0m\u001b[0;34m\u001b[0m\u001b[0;34m\u001b[0m\u001b[0m\n\u001b[0;32m----> 8\u001b[0;31m     \u001b[0mnumber_list\u001b[0m\u001b[0;34m.\u001b[0m\u001b[0mextend\u001b[0m\u001b[0;34m(\u001b[0m\u001b[0mmap\u001b[0m\u001b[0;34m(\u001b[0m\u001b[0mint\u001b[0m\u001b[0;34m,\u001b[0m \u001b[0mline\u001b[0m\u001b[0;34m.\u001b[0m\u001b[0msplit\u001b[0m\u001b[0;34m(\u001b[0m\u001b[0;34m\",\"\u001b[0m\u001b[0;34m)\u001b[0m\u001b[0;34m)\u001b[0m\u001b[0;34m)\u001b[0m\u001b[0;34m\u001b[0m\u001b[0;34m\u001b[0m\u001b[0m\n\u001b[0m\u001b[1;32m      9\u001b[0m \u001b[0;34m\u001b[0m\u001b[0m\n\u001b[1;32m     10\u001b[0m \u001b[0mfile_obj\u001b[0m\u001b[0;34m.\u001b[0m\u001b[0mclose\u001b[0m\u001b[0;34m(\u001b[0m\u001b[0;34m)\u001b[0m\u001b[0;34m\u001b[0m\u001b[0;34m\u001b[0m\u001b[0m\n",
      "\u001b[0;31mValueError\u001b[0m: invalid literal for int() with base 10: 'A'"
     ]
    }
   ],
   "source": [
    "file_obj = open(\"test.txt\",\"w\")\n",
    "file_obj.write(\"A,1,2,3\")\n",
    "file_obj.close()\n",
    "file_obj = open('test.txt','r')\n",
    "number_list = list()\n",
    "\n",
    "for line in file_obj:\n",
    "    number_list.extend(map(int, line.split(\",\")))\n",
    "\n",
    "file_obj.close()\n",
    "print(number_list)"
   ]
  },
  {
   "cell_type": "code",
   "execution_count": null,
   "id": "98f3503b",
   "metadata": {},
   "outputs": [],
   "source": []
  }
 ],
 "metadata": {
  "kernelspec": {
   "display_name": "Python 3 (ipykernel)",
   "language": "python",
   "name": "python3"
  },
  "language_info": {
   "codemirror_mode": {
    "name": "ipython",
    "version": 3
   },
   "file_extension": ".py",
   "mimetype": "text/x-python",
   "name": "python",
   "nbconvert_exporter": "python",
   "pygments_lexer": "ipython3",
   "version": "3.8.10"
  }
 },
 "nbformat": 4,
 "nbformat_minor": 5
}
