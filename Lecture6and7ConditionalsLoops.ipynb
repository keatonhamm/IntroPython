{
 "cells": [
  {
   "cell_type": "markdown",
   "id": "948cd02b",
   "metadata": {},
   "source": [
    "# Conditionals"
   ]
  },
  {
   "cell_type": "code",
   "execution_count": 1,
   "id": "1cebb013",
   "metadata": {},
   "outputs": [
    {
     "ename": "SyntaxError",
     "evalue": "invalid syntax (2451011523.py, line 3)",
     "output_type": "error",
     "traceback": [
      "\u001b[0;36m  File \u001b[0;32m\"/tmp/ipykernel_74/2451011523.py\"\u001b[0;36m, line \u001b[0;32m3\u001b[0m\n\u001b[0;31m    if statement1\u001b[0m\n\u001b[0m                 ^\u001b[0m\n\u001b[0;31mSyntaxError\u001b[0m\u001b[0;31m:\u001b[0m invalid syntax\n"
     ]
    }
   ],
   "source": [
    "# General syntax:\n",
    "\n",
    "if statement1:\n",
    "    this code runs when statement1 is true\n",
    "elif statement2:\n",
    "    this code runs if statement 1 is false but statement2 is true\n",
    "elif statement3:\n",
    "    ...\n",
    "else:\n",
    "    this code runs if all above statements are false  "
   ]
  },
  {
   "cell_type": "code",
   "execution_count": 3,
   "id": "650b3039",
   "metadata": {},
   "outputs": [
    {
     "name": "stdout",
     "output_type": "stream",
     "text": [
      "Oh good, math works in Python\n",
      "2\n",
      "2\n"
     ]
    }
   ],
   "source": [
    "if 1+1 == 2:\n",
    "    print('Oh good, math works in Python')\n",
    "    print(1+1)\n",
    "    print(2)"
   ]
  },
  {
   "cell_type": "code",
   "execution_count": 4,
   "id": "16d58faa",
   "metadata": {},
   "outputs": [],
   "source": [
    "if 1+1 == 1:\n",
    "    print(\"what kind of mathematician are you??\")"
   ]
  },
  {
   "cell_type": "code",
   "execution_count": 5,
   "id": "b0d844a7",
   "metadata": {},
   "outputs": [
    {
     "name": "stdout",
     "output_type": "stream",
     "text": [
      "Hello world\n"
     ]
    }
   ],
   "source": [
    "if 1+1 == 1:\n",
    "    print(\"what kind of mathematician are you??\")\n",
    "else:\n",
    "    print(\"Hello world\")"
   ]
  },
  {
   "cell_type": "code",
   "execution_count": 6,
   "id": "5258ebd8",
   "metadata": {},
   "outputs": [
    {
     "name": "stdout",
     "output_type": "stream",
     "text": [
      "hi\n"
     ]
    }
   ],
   "source": [
    "if (1+1==2) and (1-1==0):\n",
    "    print(\"hi\")\n",
    "elif 1 != 2:\n",
    "    print('oops')"
   ]
  },
  {
   "cell_type": "code",
   "execution_count": 10,
   "id": "8ff0a790",
   "metadata": {},
   "outputs": [
    {
     "name": "stdout",
     "output_type": "stream",
     "text": [
      "Failed\n"
     ]
    }
   ],
   "source": [
    "a = 8\n",
    "b = 10\n",
    "\n",
    "if (a < 5) and (b>5):\n",
    "    c = a*b\n",
    "elif (a<5) and (b<=5):\n",
    "    c = a-b\n",
    "else:\n",
    "    c = \"Failed\"\n",
    "    \n",
    "print(c)"
   ]
  },
  {
   "cell_type": "code",
   "execution_count": 11,
   "id": "207a9772",
   "metadata": {},
   "outputs": [
    {
     "data": {
      "text/plain": [
       "True"
      ]
     },
     "execution_count": 11,
     "metadata": {},
     "output_type": "execute_result"
    }
   ],
   "source": [
    "\"Hello\" == \"Hello\""
   ]
  },
  {
   "cell_type": "code",
   "execution_count": 12,
   "id": "85e4e682",
   "metadata": {},
   "outputs": [
    {
     "data": {
      "text/plain": [
       "False"
      ]
     },
     "execution_count": 12,
     "metadata": {},
     "output_type": "execute_result"
    }
   ],
   "source": [
    "\"Hello\" == \"hello\""
   ]
  },
  {
   "cell_type": "code",
   "execution_count": 13,
   "id": "7f71113f",
   "metadata": {},
   "outputs": [
    {
     "data": {
      "text/plain": [
       "True"
      ]
     },
     "execution_count": 13,
     "metadata": {},
     "output_type": "execute_result"
    }
   ],
   "source": [
    "\"Hello\" != \"hello\""
   ]
  },
  {
   "cell_type": "code",
   "execution_count": 14,
   "id": "a3ed14e1",
   "metadata": {},
   "outputs": [
    {
     "name": "stdout",
     "output_type": "stream",
     "text": [
      "hi\n"
     ]
    }
   ],
   "source": [
    "if 5:\n",
    "    print(\"hi\")"
   ]
  },
  {
   "cell_type": "code",
   "execution_count": 15,
   "id": "c77010fc",
   "metadata": {},
   "outputs": [
    {
     "data": {
      "text/plain": [
       "False"
      ]
     },
     "execution_count": 15,
     "metadata": {},
     "output_type": "execute_result"
    }
   ],
   "source": [
    "bool(0)"
   ]
  },
  {
   "cell_type": "code",
   "execution_count": 16,
   "id": "62faf81c",
   "metadata": {},
   "outputs": [
    {
     "data": {
      "text/plain": [
       "False"
      ]
     },
     "execution_count": 16,
     "metadata": {},
     "output_type": "execute_result"
    }
   ],
   "source": [
    "bool(0.0)"
   ]
  },
  {
   "cell_type": "code",
   "execution_count": 17,
   "id": "9d2ba6d1",
   "metadata": {},
   "outputs": [
    {
     "data": {
      "text/plain": [
       "True"
      ]
     },
     "execution_count": 17,
     "metadata": {},
     "output_type": "execute_result"
    }
   ],
   "source": [
    "bool(-.2)"
   ]
  },
  {
   "cell_type": "code",
   "execution_count": 1,
   "id": "a70a0f3e",
   "metadata": {},
   "outputs": [
    {
     "name": "stdout",
     "output_type": "stream",
     "text": [
      "2 is less than 3\n"
     ]
    }
   ],
   "source": [
    "if not (2 > 3):\n",
    "    print(\"2 is less than 3\")"
   ]
  },
  {
   "cell_type": "code",
   "execution_count": null,
   "id": "49eb7355",
   "metadata": {},
   "outputs": [],
   "source": []
  },
  {
   "cell_type": "markdown",
   "id": "01c29f2a",
   "metadata": {},
   "source": [
    "## Exercise\n",
    "\n",
    "Write code where you define a list, and check \n",
    "1. if the first list element is 0, print the last list element\n",
    "2. else if the second list element is \"Hello World\", print \"You won the prize\"\n",
    "3. else if the last list element is not 0, print \"You lost\"\n",
    "4. if none of the above is true, print \":-(\""
   ]
  },
  {
   "cell_type": "code",
   "execution_count": 3,
   "id": "ca155cdd",
   "metadata": {},
   "outputs": [
    {
     "name": "stdout",
     "output_type": "stream",
     "text": [
      "5\n"
     ]
    }
   ],
   "source": [
    "lst = [0,1,2,3,4,5]\n",
    "\n",
    "if lst[0] == 0:\n",
    "    print(lst[-1])\n",
    "elif lst[1] == 'Hello World':\n",
    "    print(\"You won the prize\")\n",
    "elif lst[-1] != 0:\n",
    "    print(\"You lost\")\n",
    "else:\n",
    "    print(\":-(\")"
   ]
  },
  {
   "cell_type": "code",
   "execution_count": 4,
   "id": "1afde076",
   "metadata": {},
   "outputs": [
    {
     "name": "stdout",
     "output_type": "stream",
     "text": [
      "5\n"
     ]
    }
   ],
   "source": [
    "lst = [0,\"Hello World\",2,3,4,5]\n",
    "\n",
    "if lst[0] == 0:\n",
    "    print(lst[-1])\n",
    "elif lst[1] == 'Hello World':\n",
    "    print(\"You won the prize\")\n",
    "elif lst[-1] != 0:\n",
    "    print(\"You lost\")\n",
    "else:\n",
    "    print(\":-(\")"
   ]
  },
  {
   "cell_type": "code",
   "execution_count": 5,
   "id": "c43d41d9",
   "metadata": {},
   "outputs": [
    {
     "name": "stdout",
     "output_type": "stream",
     "text": [
      "You won the prize\n"
     ]
    }
   ],
   "source": [
    "lst = ['a',\"Hello World\",2,3,4,5]\n",
    "\n",
    "if lst[0] == 0:\n",
    "    print(lst[-1])\n",
    "elif lst[1] == 'Hello World':\n",
    "    print(\"You won the prize\")\n",
    "elif lst[-1] != 0:\n",
    "    print(\"You lost\")\n",
    "else:\n",
    "    print(\":-(\")"
   ]
  },
  {
   "cell_type": "code",
   "execution_count": 6,
   "id": "c2cf6d6b",
   "metadata": {},
   "outputs": [
    {
     "name": "stdout",
     "output_type": "stream",
     "text": [
      "You lost\n"
     ]
    }
   ],
   "source": [
    "lst = ['a',2,3,4,5]\n",
    "\n",
    "if lst[0] == 0:\n",
    "    print(lst[-1])\n",
    "elif lst[1] == 'Hello World':\n",
    "    print(\"You won the prize\")\n",
    "elif lst[-1] != 0:\n",
    "    print(\"You lost\")\n",
    "else:\n",
    "    print(\":-(\")"
   ]
  },
  {
   "cell_type": "code",
   "execution_count": 8,
   "id": "bcf13963",
   "metadata": {},
   "outputs": [
    {
     "name": "stdout",
     "output_type": "stream",
     "text": [
      ":-(\n"
     ]
    }
   ],
   "source": [
    "lst = ['a',2,3,4,0]\n",
    "\n",
    "if lst[0] == 0:\n",
    "    print(lst[-1])\n",
    "elif lst[1] == 'Hello World':\n",
    "    print(\"You won the prize\")\n",
    "elif lst[-1] != 0:\n",
    "    print(\"You lost\")\n",
    "else:\n",
    "    print(\":-(\")"
   ]
  },
  {
   "cell_type": "code",
   "execution_count": 9,
   "id": "d44dfdfa",
   "metadata": {},
   "outputs": [
    {
     "name": "stdout",
     "output_type": "stream",
     "text": [
      ":-(\n"
     ]
    }
   ],
   "source": [
    "def list_function(lst):\n",
    "    if lst[0] == 0:\n",
    "        print(lst[-1])\n",
    "    elif lst[1] == 'Hello World':\n",
    "        print(\"You won the prize\")\n",
    "    elif lst[-1] != 0:\n",
    "        print(\"You lost\")\n",
    "    else:\n",
    "        print(\":-(\")\n",
    "        \n",
    "my_list = ['a',2,3,4,0]\n",
    "list_function(my_list)"
   ]
  },
  {
   "cell_type": "markdown",
   "id": "e27b7244",
   "metadata": {},
   "source": [
    "## Loops\n",
    "- for loops\n",
    "- while loops"
   ]
  },
  {
   "cell_type": "code",
   "execution_count": null,
   "id": "5d5253aa",
   "metadata": {},
   "outputs": [],
   "source": [
    "## Syntax\n",
    "\n",
    "for some_condition:\n",
    "    code line 1\n",
    "    code line 2\n",
    "    ...\n",
    "    "
   ]
  },
  {
   "cell_type": "code",
   "execution_count": 10,
   "id": "d3343762",
   "metadata": {},
   "outputs": [
    {
     "name": "stdout",
     "output_type": "stream",
     "text": [
      "Hello\n",
      "Hello\n",
      "Hello\n",
      "Hello\n",
      "Hello\n"
     ]
    }
   ],
   "source": [
    "for i in range(5):\n",
    "    print(\"Hello\")"
   ]
  },
  {
   "cell_type": "code",
   "execution_count": 11,
   "id": "0dc24b48",
   "metadata": {},
   "outputs": [
    {
     "name": "stdout",
     "output_type": "stream",
     "text": [
      "0\n",
      "1\n",
      "2\n",
      "3\n",
      "4\n"
     ]
    }
   ],
   "source": [
    "for i in range(5):\n",
    "    print(i)"
   ]
  },
  {
   "cell_type": "code",
   "execution_count": 12,
   "id": "d5ce7d4b",
   "metadata": {},
   "outputs": [
    {
     "name": "stdout",
     "output_type": "stream",
     "text": [
      "6\n"
     ]
    }
   ],
   "source": [
    "lst = [1, 5, \"a\", \"b\", 2, 3.14159]\n",
    "\n",
    "print(len(lst))"
   ]
  },
  {
   "cell_type": "code",
   "execution_count": 13,
   "id": "ae120f40",
   "metadata": {},
   "outputs": [
    {
     "name": "stdout",
     "output_type": "stream",
     "text": [
      "1\n",
      "5\n",
      "a\n",
      "b\n",
      "2\n",
      "3.14159\n"
     ]
    }
   ],
   "source": [
    "lst = [1, 5, \"a\", \"b\", 2, 3.14159]\n",
    "\n",
    "for i in range(len(lst)):\n",
    "    print(lst[i])"
   ]
  },
  {
   "cell_type": "code",
   "execution_count": 14,
   "id": "f621826a",
   "metadata": {},
   "outputs": [
    {
     "name": "stdout",
     "output_type": "stream",
     "text": [
      "1\n",
      "5\n",
      "a\n",
      "b\n",
      "2\n",
      "3.14159\n"
     ]
    }
   ],
   "source": [
    "for i in lst:\n",
    "    print(i)"
   ]
  },
  {
   "cell_type": "code",
   "execution_count": null,
   "id": "3a811644",
   "metadata": {},
   "outputs": [],
   "source": [
    "### while loops syntax\n",
    "\n",
    "while condition:\n",
    "    repeated code line 1\n",
    "    repeated code line 2\n",
    "    ..."
   ]
  },
  {
   "cell_type": "code",
   "execution_count": 16,
   "id": "a0b20119",
   "metadata": {},
   "outputs": [
    {
     "name": "stdout",
     "output_type": "stream",
     "text": [
      "The value of n is 10\n",
      "The value of n is 9\n",
      "The value of n is 8\n",
      "The value of n is 7\n",
      "The value of n is 6\n",
      "The value of n is 5\n",
      "The value of n is 4\n",
      "The value of n is 3\n",
      "The value of n is 2\n",
      "The value of n is 1\n"
     ]
    }
   ],
   "source": [
    "n = 10\n",
    "while n>0:\n",
    "    print(\"The value of n is\",n)\n",
    "    n = n-1"
   ]
  },
  {
   "cell_type": "code",
   "execution_count": 17,
   "id": "ff713566",
   "metadata": {},
   "outputs": [
    {
     "name": "stdout",
     "output_type": "stream",
     "text": [
      "The value of n is 10\n",
      "The value of n is 9\n",
      "The value of n is 8\n",
      "The value of n is 7\n",
      "The value of n is 6\n",
      "The value of n is 5\n",
      "The value of n is 4\n",
      "The value of n is 3\n",
      "The value of n is 2\n",
      "The value of n is 1\n"
     ]
    }
   ],
   "source": [
    "for n in range(10,0,-1):\n",
    "    print(\"The value of n is\",n)"
   ]
  },
  {
   "cell_type": "code",
   "execution_count": 18,
   "id": "da413430",
   "metadata": {},
   "outputs": [
    {
     "name": "stdout",
     "output_type": "stream",
     "text": [
      "The value of n is 10\n",
      "The value of n is 9\n",
      "The value of n is 8\n",
      "The value of n is 7\n",
      "The value of n is 6\n",
      "The value of n is 5\n",
      "The value of n is 4\n",
      "The value of n is 3\n",
      "The value of n is 2\n",
      "The value of n is 1\n"
     ]
    }
   ],
   "source": [
    "n = 10\n",
    "while n<20:\n",
    "    print(\"The value of n is\",n)\n",
    "    n = n-1\n",
    "    if n<1:\n",
    "        break"
   ]
  },
  {
   "cell_type": "code",
   "execution_count": 19,
   "id": "8a42cf2c",
   "metadata": {},
   "outputs": [
    {
     "data": {
      "text/plain": [
       "range(0, 5)"
      ]
     },
     "execution_count": 19,
     "metadata": {},
     "output_type": "execute_result"
    }
   ],
   "source": [
    "range(5)"
   ]
  },
  {
   "cell_type": "code",
   "execution_count": 20,
   "id": "142bbeeb",
   "metadata": {},
   "outputs": [
    {
     "data": {
      "text/plain": [
       "[0, 1, 2, 3, 4]"
      ]
     },
     "execution_count": 20,
     "metadata": {},
     "output_type": "execute_result"
    }
   ],
   "source": [
    "list(range(5))"
   ]
  },
  {
   "cell_type": "code",
   "execution_count": 21,
   "id": "56359218",
   "metadata": {},
   "outputs": [
    {
     "name": "stdout",
     "output_type": "stream",
     "text": [
      "[0.0, 0.1, 0.2, 0.30000000000000004, 0.4, 0.5, 0.6000000000000001, 0.7000000000000001, 0.8, 0.9]\n"
     ]
    }
   ],
   "source": [
    "lst = []\n",
    "for i in range(10):\n",
    "    lst.append(i*.1)\n",
    "print(lst)"
   ]
  },
  {
   "cell_type": "markdown",
   "id": "b10ba301",
   "metadata": {},
   "source": [
    "## Exercise\n",
    "1. Create a list of integers\n",
    "1. print all the even integers in the list\n",
    "1. print the indices of the location of all even integers in the list"
   ]
  },
  {
   "cell_type": "code",
   "execution_count": 22,
   "id": "6a41b1cd",
   "metadata": {},
   "outputs": [],
   "source": [
    "#[1,2,3,4,6,8]\n",
    "#2: 2, 4, 6, 8\n",
    "#3: 1, 3, 4, 5    "
   ]
  },
  {
   "cell_type": "code",
   "execution_count": 24,
   "id": "369be24d",
   "metadata": {},
   "outputs": [
    {
     "name": "stdout",
     "output_type": "stream",
     "text": [
      "[2, 4, 6, 8]\n",
      "[1, 3, 4, 5]\n"
     ]
    }
   ],
   "source": [
    "lst = [1,2,3,4,6,8]\n",
    "\n",
    "lst1 = []\n",
    "lst2 = []\n",
    "for i in range(len(lst)):\n",
    "    if lst[i]%2 == 0:\n",
    "        lst1.append(lst[i])\n",
    "        lst2.append(i)\n",
    "\n",
    "print(lst1)\n",
    "print(lst2)"
   ]
  },
  {
   "cell_type": "code",
   "execution_count": 26,
   "id": "633f8879",
   "metadata": {},
   "outputs": [
    {
     "name": "stdout",
     "output_type": "stream",
     "text": [
      "2\n",
      "Location: 1\n",
      "4\n",
      "Location: 3\n",
      "4\n",
      "Location: 3\n",
      "6\n",
      "Location: 5\n",
      "8\n",
      "Location: 7\n"
     ]
    }
   ],
   "source": [
    "lst = [1,2,3,4,4,6,7,8]\n",
    "\n",
    "for i in lst:\n",
    "    if i%2==0:\n",
    "        print(i)\n",
    "        print(\"Location:\",lst.index(i))"
   ]
  },
  {
   "cell_type": "code",
   "execution_count": 27,
   "id": "a0025f06",
   "metadata": {},
   "outputs": [
    {
     "name": "stdout",
     "output_type": "stream",
     "text": [
      "2\n",
      "4\n",
      "4\n",
      "6\n",
      "8\n"
     ]
    }
   ],
   "source": [
    "lst = [1,2,3,4,4,6,7,8]\n",
    "\n",
    "for i in lst:\n",
    "    if i%2==0:\n",
    "        print(i)\n",
    "        #print(\"Location:\",lst.index(i))"
   ]
  },
  {
   "cell_type": "code",
   "execution_count": 29,
   "id": "4f906330",
   "metadata": {},
   "outputs": [
    {
     "name": "stdout",
     "output_type": "stream",
     "text": [
      "2\n",
      "Location: 1\n",
      "4\n",
      "Location: 3\n",
      "4\n",
      "Location: 4\n",
      "6\n",
      "Location: 5\n",
      "8\n",
      "Location: 7\n"
     ]
    }
   ],
   "source": [
    "lst = [1,2,3,4,4,6,7,8]\n",
    "\n",
    "for i in range(len(lst)):\n",
    "    if lst[i]%2==0:\n",
    "        print(lst[i])\n",
    "        print(\"Location:\",i)"
   ]
  },
  {
   "cell_type": "code",
   "execution_count": 30,
   "id": "72dec578",
   "metadata": {},
   "outputs": [
    {
     "name": "stdout",
     "output_type": "stream",
     "text": [
      "[2, 4, 6, 8]\n",
      "[1, 3, 4, 5]\n"
     ]
    }
   ],
   "source": [
    "lst = [1,2,3,4,6,8]\n",
    "\n",
    "lst1 = []\n",
    "lst2 = []\n",
    "l = len(lst)\n",
    "i = 0\n",
    "while i<l:\n",
    "    if lst[i]%2 == 0:\n",
    "        lst1.append(lst[i])\n",
    "        lst2.append(i)\n",
    "    i += 1 # means i = i + 1\n",
    "        \n",
    "print(lst1)\n",
    "print(lst2)"
   ]
  },
  {
   "cell_type": "code",
   "execution_count": 31,
   "id": "959d1df7",
   "metadata": {},
   "outputs": [
    {
     "name": "stdout",
     "output_type": "stream",
     "text": [
      "1\n",
      "2\n",
      "3\n",
      "4\n",
      "5\n",
      "6\n"
     ]
    }
   ],
   "source": [
    "n = 0\n",
    "\n",
    "for i in range(6):\n",
    "    n += 1\n",
    "    print(n)"
   ]
  },
  {
   "cell_type": "code",
   "execution_count": 32,
   "id": "1282ce91",
   "metadata": {},
   "outputs": [
    {
     "name": "stdout",
     "output_type": "stream",
     "text": [
      "-1\n",
      "-2\n",
      "-3\n",
      "-4\n",
      "-5\n",
      "-6\n"
     ]
    }
   ],
   "source": [
    "n = 0\n",
    "\n",
    "for i in range(6):\n",
    "    n -= 1\n",
    "    print(n)"
   ]
  },
  {
   "cell_type": "code",
   "execution_count": 33,
   "id": "90224311",
   "metadata": {},
   "outputs": [
    {
     "name": "stdout",
     "output_type": "stream",
     "text": [
      "1024\n"
     ]
    }
   ],
   "source": [
    "## Goal: for loop to compute 2**n for some n\n",
    "n = 10\n",
    "a = 1\n",
    "for i in range(n):\n",
    "    a *= 2 # a = a*2\n",
    "print(a)"
   ]
  },
  {
   "cell_type": "code",
   "execution_count": 34,
   "id": "e367647e",
   "metadata": {},
   "outputs": [
    {
     "name": "stdout",
     "output_type": "stream",
     "text": [
      "1024\n"
     ]
    }
   ],
   "source": [
    "## Goal: for loop to compute 2**n for some n\n",
    "n = 10\n",
    "a = 2\n",
    "for i in range(n-1):\n",
    "    a *= 2 # a = a*2\n",
    "print(a)"
   ]
  },
  {
   "cell_type": "code",
   "execution_count": 38,
   "id": "b40330a3",
   "metadata": {},
   "outputs": [
    {
     "name": "stdout",
     "output_type": "stream",
     "text": [
      "[5, 4, 3, 2, 1]\n"
     ]
    }
   ],
   "source": [
    "lst = [1,4,2,3,5]\n",
    "\n",
    "lst.sort(reverse=True)\n",
    "print(lst)"
   ]
  },
  {
   "cell_type": "code",
   "execution_count": 39,
   "id": "18515c9b",
   "metadata": {},
   "outputs": [],
   "source": [
    "## Exercise: generate the nth Fibonacci number"
   ]
  },
  {
   "cell_type": "code",
   "execution_count": null,
   "id": "070a4d24",
   "metadata": {},
   "outputs": [],
   "source": []
  }
 ],
 "metadata": {
  "kernelspec": {
   "display_name": "Python 3 (ipykernel)",
   "language": "python",
   "name": "python3"
  },
  "language_info": {
   "codemirror_mode": {
    "name": "ipython",
    "version": 3
   },
   "file_extension": ".py",
   "mimetype": "text/x-python",
   "name": "python",
   "nbconvert_exporter": "python",
   "pygments_lexer": "ipython3",
   "version": "3.8.10"
  }
 },
 "nbformat": 4,
 "nbformat_minor": 5
}
