{
 "cells": [
  {
   "cell_type": "markdown",
   "id": "3936aa4f",
   "metadata": {},
   "source": [
    "# Functions in Python"
   ]
  },
  {
   "cell_type": "code",
   "execution_count": null,
   "id": "a641f205",
   "metadata": {},
   "outputs": [],
   "source": [
    "## Syntax\n",
    "def function_name(input_arg_1, input_arg_2, ..., input_arg_N):\n",
    "    Python statements\n",
    "    return return_variable # optional"
   ]
  },
  {
   "cell_type": "code",
   "execution_count": 1,
   "id": "e8763211",
   "metadata": {},
   "outputs": [],
   "source": [
    "def hello_world():\n",
    "    print('Hello World')"
   ]
  },
  {
   "cell_type": "code",
   "execution_count": 2,
   "id": "a9139987",
   "metadata": {},
   "outputs": [
    {
     "name": "stdout",
     "output_type": "stream",
     "text": [
      "Hello World\n"
     ]
    }
   ],
   "source": [
    "hello_world()"
   ]
  },
  {
   "cell_type": "code",
   "execution_count": 3,
   "id": "d422282c",
   "metadata": {},
   "outputs": [],
   "source": [
    "def C2F(C):\n",
    "    F = 9/5*C+32\n",
    "    print(\"{} degrees Celsius is {} degrees Fahrenheit\".format(C,F))"
   ]
  },
  {
   "cell_type": "code",
   "execution_count": 4,
   "id": "a397b57a",
   "metadata": {},
   "outputs": [
    {
     "name": "stdout",
     "output_type": "stream",
     "text": [
      "40 degrees Celsius is 104.0 degrees Fahrenheit\n"
     ]
    }
   ],
   "source": [
    "C2F(40)"
   ]
  },
  {
   "cell_type": "code",
   "execution_count": 5,
   "id": "2ea4d0f4",
   "metadata": {},
   "outputs": [
    {
     "name": "stdout",
     "output_type": "stream",
     "text": [
      "40 degrees Celsius is 104.0 degrees Fahrenheit\n"
     ]
    }
   ],
   "source": [
    "deg_f = C2F(40)"
   ]
  },
  {
   "cell_type": "code",
   "execution_count": 6,
   "id": "23ae600d",
   "metadata": {},
   "outputs": [
    {
     "name": "stdout",
     "output_type": "stream",
     "text": [
      "None\n"
     ]
    }
   ],
   "source": [
    "print(deg_f)"
   ]
  },
  {
   "cell_type": "code",
   "execution_count": 8,
   "id": "49d84c25",
   "metadata": {},
   "outputs": [],
   "source": [
    "def C2F(C):\n",
    "    F = 9/5*C+32\n",
    "    return F"
   ]
  },
  {
   "cell_type": "code",
   "execution_count": 9,
   "id": "eb219d50",
   "metadata": {},
   "outputs": [
    {
     "name": "stdout",
     "output_type": "stream",
     "text": [
      "68.0\n"
     ]
    }
   ],
   "source": [
    "deg_f = C2F(20)\n",
    "print(deg_f)"
   ]
  },
  {
   "cell_type": "code",
   "execution_count": 10,
   "id": "f5291384",
   "metadata": {},
   "outputs": [],
   "source": [
    "def C2F(C):\n",
    "    return 9/5*C+32"
   ]
  },
  {
   "cell_type": "code",
   "execution_count": 11,
   "id": "38697d5e",
   "metadata": {},
   "outputs": [
    {
     "name": "stdout",
     "output_type": "stream",
     "text": [
      "68.0\n"
     ]
    }
   ],
   "source": [
    "deg_f = C2F(20)\n",
    "print(deg_f)"
   ]
  },
  {
   "cell_type": "code",
   "execution_count": 12,
   "id": "8a1e134b",
   "metadata": {},
   "outputs": [
    {
     "ename": "TypeError",
     "evalue": "can't multiply sequence by non-int of type 'float'",
     "output_type": "error",
     "traceback": [
      "\u001b[0;31m---------------------------------------------------------------------------\u001b[0m",
      "\u001b[0;31mTypeError\u001b[0m                                 Traceback (most recent call last)",
      "\u001b[0;32m/tmp/ipykernel_200/3827190741.py\u001b[0m in \u001b[0;36m<module>\u001b[0;34m\u001b[0m\n\u001b[0;32m----> 1\u001b[0;31m \u001b[0mC2F\u001b[0m\u001b[0;34m(\u001b[0m\u001b[0;34m'Hello'\u001b[0m\u001b[0;34m)\u001b[0m\u001b[0;34m\u001b[0m\u001b[0;34m\u001b[0m\u001b[0m\n\u001b[0m",
      "\u001b[0;32m/tmp/ipykernel_200/2271963608.py\u001b[0m in \u001b[0;36mC2F\u001b[0;34m(C)\u001b[0m\n\u001b[1;32m      1\u001b[0m \u001b[0;32mdef\u001b[0m \u001b[0mC2F\u001b[0m\u001b[0;34m(\u001b[0m\u001b[0mC\u001b[0m\u001b[0;34m)\u001b[0m\u001b[0;34m:\u001b[0m\u001b[0;34m\u001b[0m\u001b[0;34m\u001b[0m\u001b[0m\n\u001b[0;32m----> 2\u001b[0;31m     \u001b[0;32mreturn\u001b[0m \u001b[0;36m9\u001b[0m\u001b[0;34m/\u001b[0m\u001b[0;36m5\u001b[0m\u001b[0;34m*\u001b[0m\u001b[0mC\u001b[0m\u001b[0;34m+\u001b[0m\u001b[0;36m32\u001b[0m\u001b[0;34m\u001b[0m\u001b[0;34m\u001b[0m\u001b[0m\n\u001b[0m",
      "\u001b[0;31mTypeError\u001b[0m: can't multiply sequence by non-int of type 'float'"
     ]
    }
   ],
   "source": [
    "C2F('Hello')"
   ]
  },
  {
   "cell_type": "code",
   "execution_count": 24,
   "id": "1181ef1f",
   "metadata": {},
   "outputs": [],
   "source": [
    "def C2F(C):\n",
    "    if isinstance(C, (int,float)):\n",
    "        return 9/5*C+32\n",
    "    else:\n",
    "        print(\"Error: invalid input\")"
   ]
  },
  {
   "cell_type": "code",
   "execution_count": 25,
   "id": "75e1f8a5",
   "metadata": {},
   "outputs": [
    {
     "data": {
      "text/plain": [
       "36.14"
      ]
     },
     "execution_count": 25,
     "metadata": {},
     "output_type": "execute_result"
    }
   ],
   "source": [
    "C2F(2.3)"
   ]
  },
  {
   "cell_type": "code",
   "execution_count": 26,
   "id": "fb7b69c0",
   "metadata": {},
   "outputs": [],
   "source": [
    "def C2F(C):\n",
    "    return 9/5*C+32"
   ]
  },
  {
   "cell_type": "code",
   "execution_count": 27,
   "id": "5a8bda14",
   "metadata": {},
   "outputs": [
    {
     "ename": "TypeError",
     "evalue": "can't multiply sequence by non-int of type 'float'",
     "output_type": "error",
     "traceback": [
      "\u001b[0;31m---------------------------------------------------------------------------\u001b[0m",
      "\u001b[0;31mTypeError\u001b[0m                                 Traceback (most recent call last)",
      "\u001b[0;32m/tmp/ipykernel_200/3422990158.py\u001b[0m in \u001b[0;36m<module>\u001b[0;34m\u001b[0m\n\u001b[0;32m----> 1\u001b[0;31m \u001b[0mC2F\u001b[0m\u001b[0;34m(\u001b[0m\u001b[0;34m[\u001b[0m\u001b[0;36m0\u001b[0m\u001b[0;34m,\u001b[0m\u001b[0;36m10\u001b[0m\u001b[0;34m,\u001b[0m\u001b[0;36m20\u001b[0m\u001b[0;34m]\u001b[0m\u001b[0;34m)\u001b[0m\u001b[0;34m\u001b[0m\u001b[0;34m\u001b[0m\u001b[0m\n\u001b[0m",
      "\u001b[0;32m/tmp/ipykernel_200/2271963608.py\u001b[0m in \u001b[0;36mC2F\u001b[0;34m(C)\u001b[0m\n\u001b[1;32m      1\u001b[0m \u001b[0;32mdef\u001b[0m \u001b[0mC2F\u001b[0m\u001b[0;34m(\u001b[0m\u001b[0mC\u001b[0m\u001b[0;34m)\u001b[0m\u001b[0;34m:\u001b[0m\u001b[0;34m\u001b[0m\u001b[0;34m\u001b[0m\u001b[0m\n\u001b[0;32m----> 2\u001b[0;31m     \u001b[0;32mreturn\u001b[0m \u001b[0;36m9\u001b[0m\u001b[0;34m/\u001b[0m\u001b[0;36m5\u001b[0m\u001b[0;34m*\u001b[0m\u001b[0mC\u001b[0m\u001b[0;34m+\u001b[0m\u001b[0;36m32\u001b[0m\u001b[0;34m\u001b[0m\u001b[0;34m\u001b[0m\u001b[0m\n\u001b[0m",
      "\u001b[0;31mTypeError\u001b[0m: can't multiply sequence by non-int of type 'float'"
     ]
    }
   ],
   "source": [
    "C2F([0,10,20])"
   ]
  },
  {
   "cell_type": "code",
   "execution_count": 28,
   "id": "259808f0",
   "metadata": {},
   "outputs": [
    {
     "data": {
      "text/plain": [
       "[0, 10, 20, 0, 10, 20]"
      ]
     },
     "execution_count": 28,
     "metadata": {},
     "output_type": "execute_result"
    }
   ],
   "source": [
    "2*[0,10,20]"
   ]
  },
  {
   "cell_type": "code",
   "execution_count": 29,
   "id": "771e1710",
   "metadata": {},
   "outputs": [
    {
     "data": {
      "text/plain": [
       "array([32., 50., 68.])"
      ]
     },
     "execution_count": 29,
     "metadata": {},
     "output_type": "execute_result"
    }
   ],
   "source": [
    "import numpy as np\n",
    "C2F(np.array([0,10,20]))"
   ]
  },
  {
   "cell_type": "code",
   "execution_count": 34,
   "id": "1ffae353",
   "metadata": {},
   "outputs": [
    {
     "name": "stdout",
     "output_type": "stream",
     "text": [
      "-17.22222222222222\n"
     ]
    }
   ],
   "source": [
    "## Exercise: create a function F2C that takes an int or float and converts from Fahrenheit to Celsius\n",
    "def F2C(F):\n",
    "    if isinstance(F, (int,float)):\n",
    "        return (F-32)*5/9\n",
    "    else:\n",
    "        print(\"Error: invalid input\")\n",
    "        \n",
    "C = F2C(True)\n",
    "print(C)"
   ]
  },
  {
   "cell_type": "markdown",
   "id": "8cf5dbaf",
   "metadata": {},
   "source": [
    "## Multiple input arguments"
   ]
  },
  {
   "cell_type": "code",
   "execution_count": 40,
   "id": "f70be9c0",
   "metadata": {},
   "outputs": [],
   "source": [
    "def power(base,exponent):\n",
    "    return base**exponent"
   ]
  },
  {
   "cell_type": "code",
   "execution_count": 41,
   "id": "6b888ada",
   "metadata": {},
   "outputs": [
    {
     "data": {
      "text/plain": [
       "1024"
      ]
     },
     "execution_count": 41,
     "metadata": {},
     "output_type": "execute_result"
    }
   ],
   "source": [
    "power(2,10)"
   ]
  },
  {
   "cell_type": "code",
   "execution_count": 42,
   "id": "89ead625",
   "metadata": {},
   "outputs": [],
   "source": [
    "def power2(base,exponent):\n",
    "    x = 1\n",
    "    for i in range(exponent):\n",
    "        x *= base\n",
    "    return x"
   ]
  },
  {
   "cell_type": "code",
   "execution_count": 44,
   "id": "19670d6a",
   "metadata": {},
   "outputs": [
    {
     "data": {
      "text/plain": [
       "81"
      ]
     },
     "execution_count": 44,
     "metadata": {},
     "output_type": "execute_result"
    }
   ],
   "source": [
    "power2(3,4)"
   ]
  },
  {
   "cell_type": "code",
   "execution_count": 45,
   "id": "5c645fde",
   "metadata": {},
   "outputs": [],
   "source": [
    "def power3(base,exponent):\n",
    "    x = base\n",
    "    for i in range(exponent-1):\n",
    "        x *= base\n",
    "    return x"
   ]
  },
  {
   "cell_type": "code",
   "execution_count": 46,
   "id": "116e24ba",
   "metadata": {},
   "outputs": [
    {
     "data": {
      "text/plain": [
       "256"
      ]
     },
     "execution_count": 46,
     "metadata": {},
     "output_type": "execute_result"
    }
   ],
   "source": [
    "power3(2,8)"
   ]
  },
  {
   "cell_type": "code",
   "execution_count": 51,
   "id": "d9f1c068",
   "metadata": {},
   "outputs": [],
   "source": [
    "def power4(base, exponent):\n",
    "    x = 1\n",
    "    counter = 1\n",
    "    while counter <= exponent:\n",
    "        x *= base\n",
    "        counter += 1\n",
    "    return x"
   ]
  },
  {
   "cell_type": "code",
   "execution_count": 52,
   "id": "1d57dd9f",
   "metadata": {},
   "outputs": [
    {
     "data": {
      "text/plain": [
       "1024"
      ]
     },
     "execution_count": 52,
     "metadata": {},
     "output_type": "execute_result"
    }
   ],
   "source": [
    "power4(2,10)"
   ]
  },
  {
   "cell_type": "code",
   "execution_count": 53,
   "id": "77ee932d",
   "metadata": {},
   "outputs": [],
   "source": [
    "def ball_height(v_0,t,g):\n",
    "    return -.5*g*t**2 + v_0*t"
   ]
  },
  {
   "cell_type": "code",
   "execution_count": 55,
   "id": "a83602a2",
   "metadata": {},
   "outputs": [
    {
     "data": {
      "text/plain": [
       "5.1"
      ]
     },
     "execution_count": 55,
     "metadata": {},
     "output_type": "execute_result"
    }
   ],
   "source": [
    "ball_height(10,1,9.8)"
   ]
  },
  {
   "cell_type": "code",
   "execution_count": 56,
   "id": "39a6805c",
   "metadata": {},
   "outputs": [
    {
     "ename": "TypeError",
     "evalue": "ball_height() missing 1 required positional argument: 'g'",
     "output_type": "error",
     "traceback": [
      "\u001b[0;31m---------------------------------------------------------------------------\u001b[0m",
      "\u001b[0;31mTypeError\u001b[0m                                 Traceback (most recent call last)",
      "\u001b[0;32m/tmp/ipykernel_200/3961055446.py\u001b[0m in \u001b[0;36m<module>\u001b[0;34m\u001b[0m\n\u001b[0;32m----> 1\u001b[0;31m \u001b[0mball_height\u001b[0m\u001b[0;34m(\u001b[0m\u001b[0;36m10\u001b[0m\u001b[0;34m,\u001b[0m\u001b[0;36m1\u001b[0m\u001b[0;34m)\u001b[0m\u001b[0;34m\u001b[0m\u001b[0;34m\u001b[0m\u001b[0m\n\u001b[0m",
      "\u001b[0;31mTypeError\u001b[0m: ball_height() missing 1 required positional argument: 'g'"
     ]
    }
   ],
   "source": [
    "ball_height(10,1)"
   ]
  },
  {
   "cell_type": "code",
   "execution_count": 60,
   "id": "ecb1eaaf",
   "metadata": {},
   "outputs": [],
   "source": [
    "def ball_height(v_0,t,g = 9.8):\n",
    "    return -.5*g*t**2 + v_0*t"
   ]
  },
  {
   "cell_type": "code",
   "execution_count": 61,
   "id": "e89b79c5",
   "metadata": {},
   "outputs": [
    {
     "data": {
      "text/plain": [
       "5.1"
      ]
     },
     "execution_count": 61,
     "metadata": {},
     "output_type": "execute_result"
    }
   ],
   "source": [
    "ball_height(10,1)"
   ]
  },
  {
   "cell_type": "code",
   "execution_count": 62,
   "id": "803bedaa",
   "metadata": {},
   "outputs": [
    {
     "data": {
      "text/plain": [
       "8.4"
      ]
     },
     "execution_count": 62,
     "metadata": {},
     "output_type": "execute_result"
    }
   ],
   "source": [
    "ball_height(10,1,3.2)"
   ]
  },
  {
   "cell_type": "code",
   "execution_count": 63,
   "id": "f9e3d413",
   "metadata": {},
   "outputs": [
    {
     "data": {
      "text/plain": [
       "-9.600000000000001"
      ]
     },
     "execution_count": 63,
     "metadata": {},
     "output_type": "execute_result"
    }
   ],
   "source": [
    "ball_height(5)"
   ]
  },
  {
   "cell_type": "code",
   "execution_count": 64,
   "id": "a6a4bc15",
   "metadata": {},
   "outputs": [
    {
     "ename": "SyntaxError",
     "evalue": "non-default argument follows default argument (767617417.py, line 1)",
     "output_type": "error",
     "traceback": [
      "\u001b[0;36m  File \u001b[0;32m\"/tmp/ipykernel_200/767617417.py\"\u001b[0;36m, line \u001b[0;32m1\u001b[0m\n\u001b[0;31m    def ball_height(v_0 = 10,t,g = 9.8):\u001b[0m\n\u001b[0m                    ^\u001b[0m\n\u001b[0;31mSyntaxError\u001b[0m\u001b[0;31m:\u001b[0m non-default argument follows default argument\n"
     ]
    }
   ],
   "source": [
    "def ball_height(v_0 = 10,t,g = 9.8):\n",
    "    return -.5*g*t**2 + v_0*t"
   ]
  },
  {
   "cell_type": "code",
   "execution_count": 65,
   "id": "9897b7a5",
   "metadata": {},
   "outputs": [],
   "source": [
    "def ball_height(v_0,t,g = 9.8):\n",
    "    return -.5*g*t**2 + v_0*t"
   ]
  },
  {
   "cell_type": "code",
   "execution_count": 66,
   "id": "7d0d639a",
   "metadata": {},
   "outputs": [
    {
     "data": {
      "text/plain": [
       "20.0"
      ]
     },
     "execution_count": 66,
     "metadata": {},
     "output_type": "execute_result"
    }
   ],
   "source": [
    "ball_height(t = 2, g = 10, v_0 = 20)"
   ]
  },
  {
   "cell_type": "code",
   "execution_count": 67,
   "id": "84ad5df9",
   "metadata": {},
   "outputs": [
    {
     "data": {
      "text/plain": [
       "20.0"
      ]
     },
     "execution_count": 67,
     "metadata": {},
     "output_type": "execute_result"
    }
   ],
   "source": [
    "ball_height(20,2,10)"
   ]
  },
  {
   "cell_type": "code",
   "execution_count": 68,
   "id": "a1c1a336",
   "metadata": {},
   "outputs": [],
   "source": [
    "def ball_height(init_velocity,time,gravitational_constant = 9.8):\n",
    "    return -.5*gravitational_constant*time**2 + init_velocity*time"
   ]
  },
  {
   "cell_type": "markdown",
   "id": "bd96f166",
   "metadata": {},
   "source": [
    "## Multiple outputs"
   ]
  },
  {
   "cell_type": "code",
   "execution_count": 69,
   "id": "e87846aa",
   "metadata": {},
   "outputs": [],
   "source": [
    "def quotient_remainder(dividend,divisor):\n",
    "    return divmod(dividend,divisor)"
   ]
  },
  {
   "cell_type": "code",
   "execution_count": 70,
   "id": "dfb0eb07",
   "metadata": {},
   "outputs": [
    {
     "data": {
      "text/plain": [
       "(5, 0)"
      ]
     },
     "execution_count": 70,
     "metadata": {},
     "output_type": "execute_result"
    }
   ],
   "source": [
    "quotient_remainder(10,2)"
   ]
  },
  {
   "cell_type": "code",
   "execution_count": 71,
   "id": "64cc17d6",
   "metadata": {},
   "outputs": [
    {
     "data": {
      "text/plain": [
       "(3, 1)"
      ]
     },
     "execution_count": 71,
     "metadata": {},
     "output_type": "execute_result"
    }
   ],
   "source": [
    "quotient_remainder(10,3)"
   ]
  },
  {
   "cell_type": "code",
   "execution_count": 72,
   "id": "87bf7991",
   "metadata": {},
   "outputs": [
    {
     "data": {
      "text/plain": [
       "tuple"
      ]
     },
     "execution_count": 72,
     "metadata": {},
     "output_type": "execute_result"
    }
   ],
   "source": [
    "type(quotient_remainder(10,3))"
   ]
  },
  {
   "cell_type": "code",
   "execution_count": 73,
   "id": "57fd0a43",
   "metadata": {},
   "outputs": [],
   "source": [
    "a = quotient_remainder(10,3)"
   ]
  },
  {
   "cell_type": "code",
   "execution_count": 74,
   "id": "8b57e1e5",
   "metadata": {},
   "outputs": [
    {
     "name": "stdout",
     "output_type": "stream",
     "text": [
      "(3, 1)\n"
     ]
    }
   ],
   "source": [
    "print(a)"
   ]
  },
  {
   "cell_type": "code",
   "execution_count": 75,
   "id": "918c0106",
   "metadata": {},
   "outputs": [
    {
     "data": {
      "text/plain": [
       "tuple"
      ]
     },
     "execution_count": 75,
     "metadata": {},
     "output_type": "execute_result"
    }
   ],
   "source": [
    "type(a)"
   ]
  },
  {
   "cell_type": "code",
   "execution_count": 76,
   "id": "c09da89e",
   "metadata": {},
   "outputs": [],
   "source": [
    "[a, b] = quotient_remainder(10,3)"
   ]
  },
  {
   "cell_type": "code",
   "execution_count": 77,
   "id": "ef70f6fc",
   "metadata": {},
   "outputs": [
    {
     "name": "stdout",
     "output_type": "stream",
     "text": [
      "3\n",
      "1\n"
     ]
    }
   ],
   "source": [
    "print(a)\n",
    "print(b)"
   ]
  },
  {
   "cell_type": "markdown",
   "id": "f85ab1ba",
   "metadata": {},
   "source": [
    "## Lab 3 tips"
   ]
  },
  {
   "cell_type": "code",
   "execution_count": 1,
   "id": "f5792308",
   "metadata": {},
   "outputs": [],
   "source": [
    "def list_element(lst,i):\n",
    "    return lst[i]"
   ]
  },
  {
   "cell_type": "code",
   "execution_count": 2,
   "id": "b90cdd55",
   "metadata": {},
   "outputs": [
    {
     "name": "stdout",
     "output_type": "stream",
     "text": [
      "3\n"
     ]
    }
   ],
   "source": [
    "my_list = [1,2,3,4,5]\n",
    "print(list_element(my_list,2))"
   ]
  },
  {
   "cell_type": "code",
   "execution_count": 3,
   "id": "a4d5d7aa",
   "metadata": {},
   "outputs": [
    {
     "name": "stdout",
     "output_type": "stream",
     "text": [
      "Give me a number:2\n"
     ]
    },
    {
     "data": {
      "text/plain": [
       "'2'"
      ]
     },
     "execution_count": 3,
     "metadata": {},
     "output_type": "execute_result"
    }
   ],
   "source": [
    "input(\"Give me a number:\")"
   ]
  },
  {
   "cell_type": "code",
   "execution_count": 4,
   "id": "e48cf47f",
   "metadata": {},
   "outputs": [
    {
     "name": "stdout",
     "output_type": "stream",
     "text": [
      "Give me a number:3\n",
      "3\n"
     ]
    }
   ],
   "source": [
    "a = input(\"Give me a number:\")\n",
    "print(a)"
   ]
  },
  {
   "cell_type": "code",
   "execution_count": 5,
   "id": "64676eea",
   "metadata": {},
   "outputs": [
    {
     "data": {
      "text/plain": [
       "str"
      ]
     },
     "execution_count": 5,
     "metadata": {},
     "output_type": "execute_result"
    }
   ],
   "source": [
    "type(a)"
   ]
  },
  {
   "cell_type": "code",
   "execution_count": 7,
   "id": "68fd13ef",
   "metadata": {},
   "outputs": [
    {
     "name": "stdout",
     "output_type": "stream",
     "text": [
      "Give me a number:4\n",
      "4\n",
      "<class 'int'>\n"
     ]
    }
   ],
   "source": [
    "a = int(input(\"Give me a number:\"))\n",
    "print(a)\n",
    "print(type(a))"
   ]
  },
  {
   "cell_type": "code",
   "execution_count": 8,
   "id": "479eea6d",
   "metadata": {},
   "outputs": [
    {
     "name": "stdout",
     "output_type": "stream",
     "text": [
      "Give me a number:hello\n"
     ]
    },
    {
     "ename": "ValueError",
     "evalue": "invalid literal for int() with base 10: 'hello'",
     "output_type": "error",
     "traceback": [
      "\u001b[0;31m---------------------------------------------------------------------------\u001b[0m",
      "\u001b[0;31mValueError\u001b[0m                                Traceback (most recent call last)",
      "\u001b[0;32m/tmp/ipykernel_177/2001019537.py\u001b[0m in \u001b[0;36m<module>\u001b[0;34m\u001b[0m\n\u001b[0;32m----> 1\u001b[0;31m \u001b[0ma\u001b[0m \u001b[0;34m=\u001b[0m \u001b[0mint\u001b[0m\u001b[0;34m(\u001b[0m\u001b[0minput\u001b[0m\u001b[0;34m(\u001b[0m\u001b[0;34m\"Give me a number:\"\u001b[0m\u001b[0;34m)\u001b[0m\u001b[0;34m)\u001b[0m\u001b[0;34m\u001b[0m\u001b[0;34m\u001b[0m\u001b[0m\n\u001b[0m\u001b[1;32m      2\u001b[0m \u001b[0mprint\u001b[0m\u001b[0;34m(\u001b[0m\u001b[0ma\u001b[0m\u001b[0;34m)\u001b[0m\u001b[0;34m\u001b[0m\u001b[0;34m\u001b[0m\u001b[0m\n\u001b[1;32m      3\u001b[0m \u001b[0mprint\u001b[0m\u001b[0;34m(\u001b[0m\u001b[0mtype\u001b[0m\u001b[0;34m(\u001b[0m\u001b[0ma\u001b[0m\u001b[0;34m)\u001b[0m\u001b[0;34m)\u001b[0m\u001b[0;34m\u001b[0m\u001b[0;34m\u001b[0m\u001b[0m\n",
      "\u001b[0;31mValueError\u001b[0m: invalid literal for int() with base 10: 'hello'"
     ]
    }
   ],
   "source": [
    "a = int(input(\"Give me a number:\"))\n",
    "print(a)\n",
    "print(type(a))"
   ]
  },
  {
   "cell_type": "code",
   "execution_count": 9,
   "id": "26637910",
   "metadata": {},
   "outputs": [
    {
     "name": "stdout",
     "output_type": "stream",
     "text": [
      "Give me a number:'hi'\n",
      "Error: invalid input. You must give me a number!\n",
      "Give me a number:hello\n",
      "Error: invalid input. You must give me a number!\n",
      "Give me a number:42\n"
     ]
    }
   ],
   "source": [
    "while True:\n",
    "    try:\n",
    "        a = int(input(\"Give me a number:\"))\n",
    "        break\n",
    "    except ValueError:\n",
    "        print(\"Error: invalid input. You must give me a number!\")"
   ]
  },
  {
   "cell_type": "code",
   "execution_count": 10,
   "id": "7a9c011f",
   "metadata": {},
   "outputs": [
    {
     "name": "stdout",
     "output_type": "stream",
     "text": [
      "Give me a number:a\n",
      "Error: invalid input. You must give me a number!\n",
      "Give me a number:b\n",
      "Error: invalid input. You must give me a number!\n",
      "Give me a number:c\n",
      "Error: invalid input. You must give me a number!\n",
      "Give me a number:d\n",
      "Error: invalid input. You must give me a number!\n",
      "Give me a number:e\n",
      "Error: invalid input. You must give me a number!\n",
      "Time out: user failed to give valid input.\n"
     ]
    }
   ],
   "source": [
    "for i in range(5):\n",
    "    try:\n",
    "        a = int(input(\"Give me a number:\"))\n",
    "        break\n",
    "    except ValueError:\n",
    "        print(\"Error: invalid input. You must give me a number!\")\n",
    "    if i==4:\n",
    "        print(\"Time out: user failed to give valid input.\")       "
   ]
  },
  {
   "cell_type": "code",
   "execution_count": 11,
   "id": "308cee06",
   "metadata": {},
   "outputs": [
    {
     "name": "stdout",
     "output_type": "stream",
     "text": [
      "Rock, Paper, or Scissors?Rock\n",
      "Player 1 chose Rock\n"
     ]
    }
   ],
   "source": [
    "player_1 = input(\"Rock, Paper, or Scissors?\")\n",
    "\n",
    "if player_1 == \"Rock\":\n",
    "    print(\"Player 1 chose\", player_1)"
   ]
  },
  {
   "cell_type": "code",
   "execution_count": 12,
   "id": "113c7471",
   "metadata": {},
   "outputs": [
    {
     "name": "stdout",
     "output_type": "stream",
     "text": [
      "Rock, Paper, or Scissors?rock\n",
      "Invalid input.\n"
     ]
    }
   ],
   "source": [
    "player_1 = input(\"Rock, Paper, or Scissors?\")\n",
    "\n",
    "if player_1 == \"Rock\":\n",
    "    print(\"Player 1 chose\", player_1)\n",
    "else:\n",
    "    print(\"Invalid input.\")"
   ]
  },
  {
   "cell_type": "code",
   "execution_count": 14,
   "id": "234d08c6",
   "metadata": {},
   "outputs": [
    {
     "name": "stdout",
     "output_type": "stream",
     "text": [
      "Rock, Paper, or Scissors?ROCK\n",
      "Player 1 chose rock\n"
     ]
    }
   ],
   "source": [
    "player_1 = input(\"Rock, Paper, or Scissors?\").lower()\n",
    "\n",
    "if player_1 == \"rock\":\n",
    "    print(\"Player 1 chose\", player_1)\n",
    "else:\n",
    "    print(\"Invalid input.\")"
   ]
  },
  {
   "cell_type": "code",
   "execution_count": 15,
   "id": "cb92bd9e",
   "metadata": {},
   "outputs": [
    {
     "data": {
      "text/plain": [
       "'hell0'"
      ]
     },
     "execution_count": 15,
     "metadata": {},
     "output_type": "execute_result"
    }
   ],
   "source": [
    "'HeLl0'.lower()"
   ]
  },
  {
   "cell_type": "markdown",
   "id": "e5725ab5",
   "metadata": {},
   "source": [
    "## Nested Functions"
   ]
  },
  {
   "cell_type": "code",
   "execution_count": 20,
   "id": "ac45092d",
   "metadata": {},
   "outputs": [],
   "source": [
    "## Function with inputs base, exponent, translation, and returns output base^exponent - translation\n",
    "def my_fun(base, exponent, translation):\n",
    "    def inner_fun(base,exponent):\n",
    "        return base**exponent\n",
    "    \n",
    "    power = inner_fun(base,exponent)\n",
    "    return power - translation        "
   ]
  },
  {
   "cell_type": "code",
   "execution_count": 21,
   "id": "c7c2b72a",
   "metadata": {},
   "outputs": [
    {
     "data": {
      "text/plain": [
       "1000"
      ]
     },
     "execution_count": 21,
     "metadata": {},
     "output_type": "execute_result"
    }
   ],
   "source": [
    "my_fun(2,10,24)"
   ]
  },
  {
   "cell_type": "code",
   "execution_count": 18,
   "id": "918bff4b",
   "metadata": {},
   "outputs": [
    {
     "ename": "NameError",
     "evalue": "name 'inner_fun' is not defined",
     "output_type": "error",
     "traceback": [
      "\u001b[0;31m---------------------------------------------------------------------------\u001b[0m",
      "\u001b[0;31mNameError\u001b[0m                                 Traceback (most recent call last)",
      "\u001b[0;32m/tmp/ipykernel_177/462642786.py\u001b[0m in \u001b[0;36m<module>\u001b[0;34m\u001b[0m\n\u001b[0;32m----> 1\u001b[0;31m \u001b[0minner_fun\u001b[0m\u001b[0;34m(\u001b[0m\u001b[0;36m2\u001b[0m\u001b[0;34m,\u001b[0m\u001b[0;36m10\u001b[0m\u001b[0;34m)\u001b[0m\u001b[0;34m\u001b[0m\u001b[0;34m\u001b[0m\u001b[0m\n\u001b[0m",
      "\u001b[0;31mNameError\u001b[0m: name 'inner_fun' is not defined"
     ]
    }
   ],
   "source": [
    "inner_fun(2,10)"
   ]
  },
  {
   "cell_type": "code",
   "execution_count": 23,
   "id": "29628115",
   "metadata": {},
   "outputs": [],
   "source": [
    "## Function with inputs base, exponent, translation, and returns output base^exponent - translation\n",
    "def my_fun2(base, exponent, translation):\n",
    "    def inner_fun(power,translation):\n",
    "        return power-translation\n",
    "    \n",
    "    power = base**exponent\n",
    "    return inner_fun(power,translation)  "
   ]
  },
  {
   "cell_type": "code",
   "execution_count": 24,
   "id": "5d044d1b",
   "metadata": {},
   "outputs": [
    {
     "data": {
      "text/plain": [
       "1000"
      ]
     },
     "execution_count": 24,
     "metadata": {},
     "output_type": "execute_result"
    }
   ],
   "source": [
    "my_fun2(2,10,24)"
   ]
  },
  {
   "cell_type": "code",
   "execution_count": 27,
   "id": "d7674a5a",
   "metadata": {},
   "outputs": [],
   "source": [
    "## Function with inputs base, exponent, translation, and returns output base^exponent - translation\n",
    "def my_fun2(base, exponent, translation):\n",
    "    power = base**exponent\n",
    "    output = inner_fun(power,translation)\n",
    "    \n",
    "    def inner_fun(power,translation):\n",
    "        return power-translation\n",
    "    return output   "
   ]
  },
  {
   "cell_type": "code",
   "execution_count": 28,
   "id": "7c74f711",
   "metadata": {},
   "outputs": [
    {
     "ename": "UnboundLocalError",
     "evalue": "local variable 'inner_fun' referenced before assignment",
     "output_type": "error",
     "traceback": [
      "\u001b[0;31m---------------------------------------------------------------------------\u001b[0m",
      "\u001b[0;31mUnboundLocalError\u001b[0m                         Traceback (most recent call last)",
      "\u001b[0;32m/tmp/ipykernel_177/3432511026.py\u001b[0m in \u001b[0;36m<module>\u001b[0;34m\u001b[0m\n\u001b[0;32m----> 1\u001b[0;31m \u001b[0mmy_fun2\u001b[0m\u001b[0;34m(\u001b[0m\u001b[0;36m2\u001b[0m\u001b[0;34m,\u001b[0m\u001b[0;36m2\u001b[0m\u001b[0;34m,\u001b[0m\u001b[0;36m2\u001b[0m\u001b[0;34m)\u001b[0m\u001b[0;34m\u001b[0m\u001b[0;34m\u001b[0m\u001b[0m\n\u001b[0m",
      "\u001b[0;32m/tmp/ipykernel_177/1294170884.py\u001b[0m in \u001b[0;36mmy_fun2\u001b[0;34m(base, exponent, translation)\u001b[0m\n\u001b[1;32m      2\u001b[0m \u001b[0;32mdef\u001b[0m \u001b[0mmy_fun2\u001b[0m\u001b[0;34m(\u001b[0m\u001b[0mbase\u001b[0m\u001b[0;34m,\u001b[0m \u001b[0mexponent\u001b[0m\u001b[0;34m,\u001b[0m \u001b[0mtranslation\u001b[0m\u001b[0;34m)\u001b[0m\u001b[0;34m:\u001b[0m\u001b[0;34m\u001b[0m\u001b[0;34m\u001b[0m\u001b[0m\n\u001b[1;32m      3\u001b[0m     \u001b[0mpower\u001b[0m \u001b[0;34m=\u001b[0m \u001b[0mbase\u001b[0m\u001b[0;34m**\u001b[0m\u001b[0mexponent\u001b[0m\u001b[0;34m\u001b[0m\u001b[0;34m\u001b[0m\u001b[0m\n\u001b[0;32m----> 4\u001b[0;31m     \u001b[0moutput\u001b[0m \u001b[0;34m=\u001b[0m \u001b[0minner_fun\u001b[0m\u001b[0;34m(\u001b[0m\u001b[0mpower\u001b[0m\u001b[0;34m,\u001b[0m\u001b[0mtranslation\u001b[0m\u001b[0;34m)\u001b[0m\u001b[0;34m\u001b[0m\u001b[0;34m\u001b[0m\u001b[0m\n\u001b[0m\u001b[1;32m      5\u001b[0m \u001b[0;34m\u001b[0m\u001b[0m\n\u001b[1;32m      6\u001b[0m     \u001b[0;32mdef\u001b[0m \u001b[0minner_fun\u001b[0m\u001b[0;34m(\u001b[0m\u001b[0mpower\u001b[0m\u001b[0;34m,\u001b[0m\u001b[0mtranslation\u001b[0m\u001b[0;34m)\u001b[0m\u001b[0;34m:\u001b[0m\u001b[0;34m\u001b[0m\u001b[0;34m\u001b[0m\u001b[0m\n",
      "\u001b[0;31mUnboundLocalError\u001b[0m: local variable 'inner_fun' referenced before assignment"
     ]
    }
   ],
   "source": [
    "my_fun2(2,2,2)"
   ]
  },
  {
   "cell_type": "code",
   "execution_count": 33,
   "id": "f939202b",
   "metadata": {},
   "outputs": [],
   "source": [
    "CC = 40"
   ]
  },
  {
   "cell_type": "code",
   "execution_count": 34,
   "id": "5e4189bf",
   "metadata": {},
   "outputs": [
    {
     "name": "stdout",
     "output_type": "stream",
     "text": [
      "40\n"
     ]
    }
   ],
   "source": [
    "print(CC)"
   ]
  },
  {
   "cell_type": "code",
   "execution_count": 38,
   "id": "e52ed1eb",
   "metadata": {},
   "outputs": [],
   "source": [
    "def C2F(deg_C):\n",
    "    return 9/5*CC+32"
   ]
  },
  {
   "cell_type": "code",
   "execution_count": 39,
   "id": "f0c5d812",
   "metadata": {},
   "outputs": [
    {
     "data": {
      "text/plain": [
       "104.0"
      ]
     },
     "execution_count": 39,
     "metadata": {},
     "output_type": "execute_result"
    }
   ],
   "source": [
    "C2F(32)"
   ]
  },
  {
   "cell_type": "code",
   "execution_count": 41,
   "id": "9b21f4f4",
   "metadata": {},
   "outputs": [
    {
     "name": "stdout",
     "output_type": "stream",
     "text": [
      "Value of deg_C inside the function C2F: 50\n",
      "Value of deg_C outside the function C2F: 50\n"
     ]
    }
   ],
   "source": [
    "def C2F(deg_C):\n",
    "    converted_value = 9/5*deg_C+32\n",
    "    print('Value of deg_C inside the function C2F: {}'.format(deg_C))\n",
    "    \n",
    "    return converted_value\n",
    "\n",
    "deg_C = 50\n",
    "C2F(deg_C)\n",
    "print('Value of deg_C outside the function C2F: {}'.format(deg_C))"
   ]
  },
  {
   "cell_type": "code",
   "execution_count": 42,
   "id": "8203a6bf",
   "metadata": {},
   "outputs": [
    {
     "name": "stdout",
     "output_type": "stream",
     "text": [
      "Value of deg_C inside the function C2F: 20\n",
      "Value of deg_C outside the function C2F: 50\n"
     ]
    }
   ],
   "source": [
    "def C2F(deg_C):\n",
    "    converted_value = 9/5*deg_C+32\n",
    "    print('Value of deg_C inside the function C2F: {}'.format(deg_C))\n",
    "    \n",
    "    return converted_value\n",
    "\n",
    "deg_C = 50\n",
    "C2F(20)\n",
    "print('Value of deg_C outside the function C2F: {}'.format(deg_C))"
   ]
  },
  {
   "cell_type": "code",
   "execution_count": 43,
   "id": "bce1cb54",
   "metadata": {},
   "outputs": [
    {
     "name": "stdout",
     "output_type": "stream",
     "text": [
      "Value of deg_C inside the function C2F: 20\n",
      "Value of deg_C after reassignment inside the function C2F: 10\n",
      "Value of deg_C outside the function C2F: 50\n"
     ]
    }
   ],
   "source": [
    "def C2F(deg_C):\n",
    "    converted_value = 9/5*deg_C+32\n",
    "    print('Value of deg_C inside the function C2F: {}'.format(deg_C))\n",
    "    deg_C = 10\n",
    "    print('Value of deg_C after reassignment inside the function C2F: {}'.format(deg_C))\n",
    "    return converted_value\n",
    "\n",
    "deg_C = 50\n",
    "C2F(20)\n",
    "print('Value of deg_C outside the function C2F: {}'.format(deg_C))"
   ]
  },
  {
   "cell_type": "code",
   "execution_count": 44,
   "id": "979f51c7",
   "metadata": {},
   "outputs": [
    {
     "name": "stdout",
     "output_type": "stream",
     "text": [
      "Value of deg_C inside the function C2F: 50\n",
      "Value of deg_C after reassignment inside the function C2F: 10\n",
      "Value of deg_C outside the function C2F: 10\n"
     ]
    }
   ],
   "source": [
    "def C2F():\n",
    "    global deg_C\n",
    "    converted_value = 9/5*deg_C+32\n",
    "    print('Value of deg_C inside the function C2F: {}'.format(deg_C))\n",
    "    deg_C = 10\n",
    "    print('Value of deg_C after reassignment inside the function C2F: {}'.format(deg_C))\n",
    "    return converted_value\n",
    "\n",
    "deg_C = 50\n",
    "C2F()\n",
    "print('Value of deg_C outside the function C2F: {}'.format(deg_C))"
   ]
  },
  {
   "cell_type": "code",
   "execution_count": 45,
   "id": "0e3277a2",
   "metadata": {},
   "outputs": [
    {
     "data": {
      "text/plain": [
       "{'__name__': '__main__',\n",
       " '__doc__': 'Automatically created module for IPython interactive environment',\n",
       " '__package__': None,\n",
       " '__loader__': None,\n",
       " '__spec__': None,\n",
       " '__builtin__': <module 'builtins' (built-in)>,\n",
       " '__builtins__': <module 'builtins' (built-in)>,\n",
       " '_ih': ['',\n",
       "  'def list_element(lst,i):\\n    return lst[i]',\n",
       "  'my_list = [1,2,3,4,5]\\nprint(list_element(my_list,2))',\n",
       "  'input(\"Give me a number:\")',\n",
       "  'a = input(\"Give me a number:\")\\nprint(a)',\n",
       "  'type(a)',\n",
       "  'a = int(input(\"Give me a number:\"))',\n",
       "  'a = int(input(\"Give me a number:\"))\\nprint(a)\\nprint(type(a))',\n",
       "  'a = int(input(\"Give me a number:\"))\\nprint(a)\\nprint(type(a))',\n",
       "  'while True:\\n    try:\\n        a = int(input(\"Give me a number:\"))\\n        break\\n    except ValueError:\\n        print(\"Error: invalid input. You must give me a number!\")',\n",
       "  'for i in range(5):\\n    try:\\n        a = int(input(\"Give me a number:\"))\\n        break\\n    except ValueError:\\n        print(\"Error: invalid input. You must give me a number!\")\\n    if i==4:\\n        print(\"Time out: user failed to give valid input.\")       ',\n",
       "  'player_1 = input(\"Rock, Paper, or Scissors?\")\\n\\nif player_1 == \"Rock\":\\n    print(\"Player 1 chose\", player_1)',\n",
       "  'player_1 = input(\"Rock, Paper, or Scissors?\")\\n\\nif player_1 == \"Rock\":\\n    print(\"Player 1 chose\", player_1)\\nelse:\\n    print(\"Invalid input.\")',\n",
       "  'player_1 = input(\"Rock, Paper, or Scissors?\").lower()\\n\\nif player_1 == \"Rock\":\\n    print(\"Player 1 chose\", player_1)\\nelse:\\n    print(\"Invalid input.\")',\n",
       "  'player_1 = input(\"Rock, Paper, or Scissors?\").lower()\\n\\nif player_1 == \"rock\":\\n    print(\"Player 1 chose\", player_1)\\nelse:\\n    print(\"Invalid input.\")',\n",
       "  \"'HeLl0'.lower()\",\n",
       "  '## Function with inputs base, exponent, translation, and returns output base^exponent - translation\\ndef my_fun(base, exponent, translation):\\n    def inner_fun(base,exponent):\\n        return base**exponent\\n    \\n    power = inner_fun(base,exponent)\\n    return power - translation        ',\n",
       "  'my_fun(2,10,24)',\n",
       "  'inner_fun(2,10)',\n",
       "  '## Function with inputs base, exponent, translation, and returns output base^exponent - translation\\ndef my_fun(base, exponent, translation):\\n    def inner_fun(power,translation):\\n        return power-translation\\n    \\n    power = base**exponent\\n    return innerf=_fun(power,translation)  ',\n",
       "  '## Function with inputs base, exponent, translation, and returns output base^exponent - translation\\ndef my_fun(base, exponent, translation):\\n    def inner_fun(base,exponent):\\n        return base**exponent\\n    \\n    power = inner_fun(base,exponent)\\n    return power - translation        ',\n",
       "  'my_fun(2,10,24)',\n",
       "  '## Function with inputs base, exponent, translation, and returns output base^exponent - translation\\ndef my_fun2(base, exponent, translation):\\n    def inner_fun(power,translation):\\n        return power-translation\\n    \\n    power = base**exponent\\n    return innerf=_fun(power,translation)  ',\n",
       "  '## Function with inputs base, exponent, translation, and returns output base^exponent - translation\\ndef my_fun2(base, exponent, translation):\\n    def inner_fun(power,translation):\\n        return power-translation\\n    \\n    power = base**exponent\\n    return inner_fun(power,translation)  ',\n",
       "  'my_fun2(2,10,24)',\n",
       "  '## Function with inputs base, exponent, translation, and returns output base^exponent - translation\\ndef my_fun2(base, exponent, translation):\\n        \\n    power = base**exponent\\n    output = inner_fun(power,translation)\\n    \\n     def inner_fun(power,translation):\\n        return power-translation\\n    return output   ',\n",
       "  '## Function with inputs base, exponent, translation, and returns output base^exponent - translation\\ndef my_fun2(base, exponent, translation):\\n        \\n    power = base**exponent\\n    output = inner_fun(power,translation)\\n    \\n    def inner_fun(power,translation):\\n        return power-translation\\n    return output   ',\n",
       "  '## Function with inputs base, exponent, translation, and returns output base^exponent - translation\\ndef my_fun2(base, exponent, translation):\\n    power = base**exponent\\n    output = inner_fun(power,translation)\\n    \\n    def inner_fun(power,translation):\\n        return power-translation\\n    return output   ',\n",
       "  'my_fun2(2,2,2)',\n",
       "  '## Function with inputs base, exponent, translation, and returns output base^exponent - translation\\ndef my_fun2(base, exponent, translation):\\n    def inner_fun():\\n        \\n    power = base**exponent\\n    output = inner_fun(power,translation)\\n    \\n    def inner_fun(power,translation):\\n        return power-translation\\n    return output   ',\n",
       "  '## Function with inputs base, exponent, translation, and returns output base^exponent - translation\\ndef my_fun2(base, exponent, translation):\\n    def inner_fun():\\n        break\\n    power = base**exponent\\n    output = inner_fun(power,translation)\\n    \\n    def inner_fun(power,translation):\\n        return power-translation\\n    return output   ',\n",
       "  'C = 40',\n",
       "  'print(C)',\n",
       "  'CC = 40',\n",
       "  'print(CC)',\n",
       "  'def C2f(deg_C):\\n    return 9/5*deg_C+32',\n",
       "  'def C2F(deg_C):\\n    return 9/5*deg_C+32',\n",
       "  'C2F(32)',\n",
       "  'def C2F(deg_C):\\n    return 9/5*CC+32',\n",
       "  'C2F(32)',\n",
       "  \"def C2F(deg_C):\\n    converted_value = 9/5*deg_C+32\\n    print('Value of deg_C inside the function C2F: {}'.format(deg_C))\\n    \\n    return converted_value\\n\\ndeg_C = 50\\nC2F(deg_C)\\nprint('Value of deg_C outside the function C2F: {}'.format(deg_C))\",\n",
       "  \"def C2F(deg_C):\\n    converted_value = 9/5*deg_C+32\\n    print('Value of deg_C inside the function C2F: {}'.format(deg_C))\\n    \\n    return converted_value\\n\\ndeg_C = 50\\nC2F(deg_C)\\nprint('Value of deg_C outside the function C2F: {}'.format(deg_C))\",\n",
       "  \"def C2F(deg_C):\\n    converted_value = 9/5*deg_C+32\\n    print('Value of deg_C inside the function C2F: {}'.format(deg_C))\\n    \\n    return converted_value\\n\\ndeg_C = 50\\nC2F(20)\\nprint('Value of deg_C outside the function C2F: {}'.format(deg_C))\",\n",
       "  \"def C2F(deg_C):\\n    converted_value = 9/5*deg_C+32\\n    print('Value of deg_C inside the function C2F: {}'.format(deg_C))\\n    deg_C = 10\\n    print('Value of deg_C after reassignment inside the function C2F: {}'.format(deg_C))\\n    return converted_value\\n\\ndeg_C = 50\\nC2F(20)\\nprint('Value of deg_C outside the function C2F: {}'.format(deg_C))\",\n",
       "  \"def C2F():\\n    global deg_C\\n    converted_value = 9/5*deg_C+32\\n    print('Value of deg_C inside the function C2F: {}'.format(deg_C))\\n    deg_C = 10\\n    print('Value of deg_C after reassignment inside the function C2F: {}'.format(deg_C))\\n    return converted_value\\n\\ndeg_C = 50\\nC2F()\\nprint('Value of deg_C outside the function C2F: {}'.format(deg_C))\",\n",
       "  'globals()'],\n",
       " '_oh': {3: '2',\n",
       "  5: str,\n",
       "  15: 'hell0',\n",
       "  17: 1000,\n",
       "  21: 1000,\n",
       "  24: 1000,\n",
       "  37: 89.6,\n",
       "  39: 104.0},\n",
       " '_dh': ['/mnt/c/teaching/DATA3401/DATA3401.2022.Spring/Lectures'],\n",
       " 'In': ['',\n",
       "  'def list_element(lst,i):\\n    return lst[i]',\n",
       "  'my_list = [1,2,3,4,5]\\nprint(list_element(my_list,2))',\n",
       "  'input(\"Give me a number:\")',\n",
       "  'a = input(\"Give me a number:\")\\nprint(a)',\n",
       "  'type(a)',\n",
       "  'a = int(input(\"Give me a number:\"))',\n",
       "  'a = int(input(\"Give me a number:\"))\\nprint(a)\\nprint(type(a))',\n",
       "  'a = int(input(\"Give me a number:\"))\\nprint(a)\\nprint(type(a))',\n",
       "  'while True:\\n    try:\\n        a = int(input(\"Give me a number:\"))\\n        break\\n    except ValueError:\\n        print(\"Error: invalid input. You must give me a number!\")',\n",
       "  'for i in range(5):\\n    try:\\n        a = int(input(\"Give me a number:\"))\\n        break\\n    except ValueError:\\n        print(\"Error: invalid input. You must give me a number!\")\\n    if i==4:\\n        print(\"Time out: user failed to give valid input.\")       ',\n",
       "  'player_1 = input(\"Rock, Paper, or Scissors?\")\\n\\nif player_1 == \"Rock\":\\n    print(\"Player 1 chose\", player_1)',\n",
       "  'player_1 = input(\"Rock, Paper, or Scissors?\")\\n\\nif player_1 == \"Rock\":\\n    print(\"Player 1 chose\", player_1)\\nelse:\\n    print(\"Invalid input.\")',\n",
       "  'player_1 = input(\"Rock, Paper, or Scissors?\").lower()\\n\\nif player_1 == \"Rock\":\\n    print(\"Player 1 chose\", player_1)\\nelse:\\n    print(\"Invalid input.\")',\n",
       "  'player_1 = input(\"Rock, Paper, or Scissors?\").lower()\\n\\nif player_1 == \"rock\":\\n    print(\"Player 1 chose\", player_1)\\nelse:\\n    print(\"Invalid input.\")',\n",
       "  \"'HeLl0'.lower()\",\n",
       "  '## Function with inputs base, exponent, translation, and returns output base^exponent - translation\\ndef my_fun(base, exponent, translation):\\n    def inner_fun(base,exponent):\\n        return base**exponent\\n    \\n    power = inner_fun(base,exponent)\\n    return power - translation        ',\n",
       "  'my_fun(2,10,24)',\n",
       "  'inner_fun(2,10)',\n",
       "  '## Function with inputs base, exponent, translation, and returns output base^exponent - translation\\ndef my_fun(base, exponent, translation):\\n    def inner_fun(power,translation):\\n        return power-translation\\n    \\n    power = base**exponent\\n    return innerf=_fun(power,translation)  ',\n",
       "  '## Function with inputs base, exponent, translation, and returns output base^exponent - translation\\ndef my_fun(base, exponent, translation):\\n    def inner_fun(base,exponent):\\n        return base**exponent\\n    \\n    power = inner_fun(base,exponent)\\n    return power - translation        ',\n",
       "  'my_fun(2,10,24)',\n",
       "  '## Function with inputs base, exponent, translation, and returns output base^exponent - translation\\ndef my_fun2(base, exponent, translation):\\n    def inner_fun(power,translation):\\n        return power-translation\\n    \\n    power = base**exponent\\n    return innerf=_fun(power,translation)  ',\n",
       "  '## Function with inputs base, exponent, translation, and returns output base^exponent - translation\\ndef my_fun2(base, exponent, translation):\\n    def inner_fun(power,translation):\\n        return power-translation\\n    \\n    power = base**exponent\\n    return inner_fun(power,translation)  ',\n",
       "  'my_fun2(2,10,24)',\n",
       "  '## Function with inputs base, exponent, translation, and returns output base^exponent - translation\\ndef my_fun2(base, exponent, translation):\\n        \\n    power = base**exponent\\n    output = inner_fun(power,translation)\\n    \\n     def inner_fun(power,translation):\\n        return power-translation\\n    return output   ',\n",
       "  '## Function with inputs base, exponent, translation, and returns output base^exponent - translation\\ndef my_fun2(base, exponent, translation):\\n        \\n    power = base**exponent\\n    output = inner_fun(power,translation)\\n    \\n    def inner_fun(power,translation):\\n        return power-translation\\n    return output   ',\n",
       "  '## Function with inputs base, exponent, translation, and returns output base^exponent - translation\\ndef my_fun2(base, exponent, translation):\\n    power = base**exponent\\n    output = inner_fun(power,translation)\\n    \\n    def inner_fun(power,translation):\\n        return power-translation\\n    return output   ',\n",
       "  'my_fun2(2,2,2)',\n",
       "  '## Function with inputs base, exponent, translation, and returns output base^exponent - translation\\ndef my_fun2(base, exponent, translation):\\n    def inner_fun():\\n        \\n    power = base**exponent\\n    output = inner_fun(power,translation)\\n    \\n    def inner_fun(power,translation):\\n        return power-translation\\n    return output   ',\n",
       "  '## Function with inputs base, exponent, translation, and returns output base^exponent - translation\\ndef my_fun2(base, exponent, translation):\\n    def inner_fun():\\n        break\\n    power = base**exponent\\n    output = inner_fun(power,translation)\\n    \\n    def inner_fun(power,translation):\\n        return power-translation\\n    return output   ',\n",
       "  'C = 40',\n",
       "  'print(C)',\n",
       "  'CC = 40',\n",
       "  'print(CC)',\n",
       "  'def C2f(deg_C):\\n    return 9/5*deg_C+32',\n",
       "  'def C2F(deg_C):\\n    return 9/5*deg_C+32',\n",
       "  'C2F(32)',\n",
       "  'def C2F(deg_C):\\n    return 9/5*CC+32',\n",
       "  'C2F(32)',\n",
       "  \"def C2F(deg_C):\\n    converted_value = 9/5*deg_C+32\\n    print('Value of deg_C inside the function C2F: {}'.format(deg_C))\\n    \\n    return converted_value\\n\\ndeg_C = 50\\nC2F(deg_C)\\nprint('Value of deg_C outside the function C2F: {}'.format(deg_C))\",\n",
       "  \"def C2F(deg_C):\\n    converted_value = 9/5*deg_C+32\\n    print('Value of deg_C inside the function C2F: {}'.format(deg_C))\\n    \\n    return converted_value\\n\\ndeg_C = 50\\nC2F(deg_C)\\nprint('Value of deg_C outside the function C2F: {}'.format(deg_C))\",\n",
       "  \"def C2F(deg_C):\\n    converted_value = 9/5*deg_C+32\\n    print('Value of deg_C inside the function C2F: {}'.format(deg_C))\\n    \\n    return converted_value\\n\\ndeg_C = 50\\nC2F(20)\\nprint('Value of deg_C outside the function C2F: {}'.format(deg_C))\",\n",
       "  \"def C2F(deg_C):\\n    converted_value = 9/5*deg_C+32\\n    print('Value of deg_C inside the function C2F: {}'.format(deg_C))\\n    deg_C = 10\\n    print('Value of deg_C after reassignment inside the function C2F: {}'.format(deg_C))\\n    return converted_value\\n\\ndeg_C = 50\\nC2F(20)\\nprint('Value of deg_C outside the function C2F: {}'.format(deg_C))\",\n",
       "  \"def C2F():\\n    global deg_C\\n    converted_value = 9/5*deg_C+32\\n    print('Value of deg_C inside the function C2F: {}'.format(deg_C))\\n    deg_C = 10\\n    print('Value of deg_C after reassignment inside the function C2F: {}'.format(deg_C))\\n    return converted_value\\n\\ndeg_C = 50\\nC2F()\\nprint('Value of deg_C outside the function C2F: {}'.format(deg_C))\",\n",
       "  'globals()'],\n",
       " 'Out': {3: '2',\n",
       "  5: str,\n",
       "  15: 'hell0',\n",
       "  17: 1000,\n",
       "  21: 1000,\n",
       "  24: 1000,\n",
       "  37: 89.6,\n",
       "  39: 104.0},\n",
       " 'get_ipython': <bound method InteractiveShell.get_ipython of <ipykernel.zmqshell.ZMQInteractiveShell object at 0x7f36fc53c430>>,\n",
       " 'exit': <IPython.core.autocall.ZMQExitAutocall at 0x7f36fc5550a0>,\n",
       " 'quit': <IPython.core.autocall.ZMQExitAutocall at 0x7f36fc5550a0>,\n",
       " '_': 104.0,\n",
       " '__': 89.6,\n",
       " '___': 1000,\n",
       " '_i': \"def C2F():\\n    global deg_C\\n    converted_value = 9/5*deg_C+32\\n    print('Value of deg_C inside the function C2F: {}'.format(deg_C))\\n    deg_C = 10\\n    print('Value of deg_C after reassignment inside the function C2F: {}'.format(deg_C))\\n    return converted_value\\n\\ndeg_C = 50\\nC2F()\\nprint('Value of deg_C outside the function C2F: {}'.format(deg_C))\",\n",
       " '_ii': \"def C2F(deg_C):\\n    converted_value = 9/5*deg_C+32\\n    print('Value of deg_C inside the function C2F: {}'.format(deg_C))\\n    deg_C = 10\\n    print('Value of deg_C after reassignment inside the function C2F: {}'.format(deg_C))\\n    return converted_value\\n\\ndeg_C = 50\\nC2F(20)\\nprint('Value of deg_C outside the function C2F: {}'.format(deg_C))\",\n",
       " '_iii': \"def C2F(deg_C):\\n    converted_value = 9/5*deg_C+32\\n    print('Value of deg_C inside the function C2F: {}'.format(deg_C))\\n    \\n    return converted_value\\n\\ndeg_C = 50\\nC2F(20)\\nprint('Value of deg_C outside the function C2F: {}'.format(deg_C))\",\n",
       " '_i1': 'def list_element(lst,i):\\n    return lst[i]',\n",
       " 'list_element': <function __main__.list_element(lst, i)>,\n",
       " '_i2': 'my_list = [1,2,3,4,5]\\nprint(list_element(my_list,2))',\n",
       " 'my_list': [1, 2, 3, 4, 5],\n",
       " '_i3': 'input(\"Give me a number:\")',\n",
       " '_3': '2',\n",
       " '_i4': 'a = input(\"Give me a number:\")\\nprint(a)',\n",
       " 'a': 42,\n",
       " '_i5': 'type(a)',\n",
       " '_5': str,\n",
       " '_i6': 'a = int(input(\"Give me a number:\"))',\n",
       " '_i7': 'a = int(input(\"Give me a number:\"))\\nprint(a)\\nprint(type(a))',\n",
       " '_i8': 'a = int(input(\"Give me a number:\"))\\nprint(a)\\nprint(type(a))',\n",
       " '_i9': 'while True:\\n    try:\\n        a = int(input(\"Give me a number:\"))\\n        break\\n    except ValueError:\\n        print(\"Error: invalid input. You must give me a number!\")',\n",
       " '_i10': 'for i in range(5):\\n    try:\\n        a = int(input(\"Give me a number:\"))\\n        break\\n    except ValueError:\\n        print(\"Error: invalid input. You must give me a number!\")\\n    if i==4:\\n        print(\"Time out: user failed to give valid input.\")       ',\n",
       " 'i': 4,\n",
       " '_i11': 'player_1 = input(\"Rock, Paper, or Scissors?\")\\n\\nif player_1 == \"Rock\":\\n    print(\"Player 1 chose\", player_1)',\n",
       " 'player_1': 'rock',\n",
       " '_i12': 'player_1 = input(\"Rock, Paper, or Scissors?\")\\n\\nif player_1 == \"Rock\":\\n    print(\"Player 1 chose\", player_1)\\nelse:\\n    print(\"Invalid input.\")',\n",
       " '_i13': 'player_1 = input(\"Rock, Paper, or Scissors?\").lower()\\n\\nif player_1 == \"Rock\":\\n    print(\"Player 1 chose\", player_1)\\nelse:\\n    print(\"Invalid input.\")',\n",
       " '_i14': 'player_1 = input(\"Rock, Paper, or Scissors?\").lower()\\n\\nif player_1 == \"rock\":\\n    print(\"Player 1 chose\", player_1)\\nelse:\\n    print(\"Invalid input.\")',\n",
       " '_i15': \"'HeLl0'.lower()\",\n",
       " '_15': 'hell0',\n",
       " '_i16': '## Function with inputs base, exponent, translation, and returns output base^exponent - translation\\ndef my_fun(base, exponent, translation):\\n    def inner_fun(base,exponent):\\n        return base**exponent\\n    \\n    power = inner_fun(base,exponent)\\n    return power - translation        ',\n",
       " 'my_fun': <function __main__.my_fun(base, exponent, translation)>,\n",
       " '_i17': 'my_fun(2,10,24)',\n",
       " '_17': 1000,\n",
       " '_i18': 'inner_fun(2,10)',\n",
       " '_i19': '## Function with inputs base, exponent, translation, and returns output base^exponent - translation\\ndef my_fun(base, exponent, translation):\\n    def inner_fun(power,translation):\\n        return power-translation\\n    \\n    power = base**exponent\\n    return innerf=_fun(power,translation)  ',\n",
       " '_i20': '## Function with inputs base, exponent, translation, and returns output base^exponent - translation\\ndef my_fun(base, exponent, translation):\\n    def inner_fun(base,exponent):\\n        return base**exponent\\n    \\n    power = inner_fun(base,exponent)\\n    return power - translation        ',\n",
       " '_i21': 'my_fun(2,10,24)',\n",
       " '_21': 1000,\n",
       " '_i22': '## Function with inputs base, exponent, translation, and returns output base^exponent - translation\\ndef my_fun2(base, exponent, translation):\\n    def inner_fun(power,translation):\\n        return power-translation\\n    \\n    power = base**exponent\\n    return innerf=_fun(power,translation)  ',\n",
       " '_i23': '## Function with inputs base, exponent, translation, and returns output base^exponent - translation\\ndef my_fun2(base, exponent, translation):\\n    def inner_fun(power,translation):\\n        return power-translation\\n    \\n    power = base**exponent\\n    return inner_fun(power,translation)  ',\n",
       " 'my_fun2': <function __main__.my_fun2(base, exponent, translation)>,\n",
       " '_i24': 'my_fun2(2,10,24)',\n",
       " '_24': 1000,\n",
       " '_i25': '## Function with inputs base, exponent, translation, and returns output base^exponent - translation\\ndef my_fun2(base, exponent, translation):\\n        \\n    power = base**exponent\\n    output = inner_fun(power,translation)\\n    \\n     def inner_fun(power,translation):\\n        return power-translation\\n    return output   ',\n",
       " '_i26': '## Function with inputs base, exponent, translation, and returns output base^exponent - translation\\ndef my_fun2(base, exponent, translation):\\n        \\n    power = base**exponent\\n    output = inner_fun(power,translation)\\n    \\n    def inner_fun(power,translation):\\n        return power-translation\\n    return output   ',\n",
       " '_i27': '## Function with inputs base, exponent, translation, and returns output base^exponent - translation\\ndef my_fun2(base, exponent, translation):\\n    power = base**exponent\\n    output = inner_fun(power,translation)\\n    \\n    def inner_fun(power,translation):\\n        return power-translation\\n    return output   ',\n",
       " '_i28': 'my_fun2(2,2,2)',\n",
       " '_i29': '## Function with inputs base, exponent, translation, and returns output base^exponent - translation\\ndef my_fun2(base, exponent, translation):\\n    def inner_fun():\\n        \\n    power = base**exponent\\n    output = inner_fun(power,translation)\\n    \\n    def inner_fun(power,translation):\\n        return power-translation\\n    return output   ',\n",
       " '_i30': '## Function with inputs base, exponent, translation, and returns output base^exponent - translation\\ndef my_fun2(base, exponent, translation):\\n    def inner_fun():\\n        break\\n    power = base**exponent\\n    output = inner_fun(power,translation)\\n    \\n    def inner_fun(power,translation):\\n        return power-translation\\n    return output   ',\n",
       " '_i31': 'C = 40',\n",
       " 'C': 40,\n",
       " '_i32': 'print(C)',\n",
       " '_i33': 'CC = 40',\n",
       " 'CC': 40,\n",
       " '_i34': 'print(CC)',\n",
       " '_i35': 'def C2f(deg_C):\\n    return 9/5*deg_C+32',\n",
       " 'C2f': <function __main__.C2f(deg_C)>,\n",
       " '_i36': 'def C2F(deg_C):\\n    return 9/5*deg_C+32',\n",
       " 'C2F': <function __main__.C2F()>,\n",
       " '_i37': 'C2F(32)',\n",
       " '_37': 89.6,\n",
       " '_i38': 'def C2F(deg_C):\\n    return 9/5*CC+32',\n",
       " '_i39': 'C2F(32)',\n",
       " '_39': 104.0,\n",
       " '_i40': \"def C2F(deg_C):\\n    converted_value = 9/5*deg_C+32\\n    print('Value of deg_C inside the function C2F: {}'.format(deg_C))\\n    \\n    return converted_value\\n\\ndeg_C = 50\\nC2F(deg_C)\\nprint('Value of deg_C outside the function C2F: {}'.format(deg_C))\",\n",
       " 'deg_C': 10,\n",
       " '_i41': \"def C2F(deg_C):\\n    converted_value = 9/5*deg_C+32\\n    print('Value of deg_C inside the function C2F: {}'.format(deg_C))\\n    \\n    return converted_value\\n\\ndeg_C = 50\\nC2F(deg_C)\\nprint('Value of deg_C outside the function C2F: {}'.format(deg_C))\",\n",
       " '_i42': \"def C2F(deg_C):\\n    converted_value = 9/5*deg_C+32\\n    print('Value of deg_C inside the function C2F: {}'.format(deg_C))\\n    \\n    return converted_value\\n\\ndeg_C = 50\\nC2F(20)\\nprint('Value of deg_C outside the function C2F: {}'.format(deg_C))\",\n",
       " '_i43': \"def C2F(deg_C):\\n    converted_value = 9/5*deg_C+32\\n    print('Value of deg_C inside the function C2F: {}'.format(deg_C))\\n    deg_C = 10\\n    print('Value of deg_C after reassignment inside the function C2F: {}'.format(deg_C))\\n    return converted_value\\n\\ndeg_C = 50\\nC2F(20)\\nprint('Value of deg_C outside the function C2F: {}'.format(deg_C))\",\n",
       " '_i44': \"def C2F():\\n    global deg_C\\n    converted_value = 9/5*deg_C+32\\n    print('Value of deg_C inside the function C2F: {}'.format(deg_C))\\n    deg_C = 10\\n    print('Value of deg_C after reassignment inside the function C2F: {}'.format(deg_C))\\n    return converted_value\\n\\ndeg_C = 50\\nC2F()\\nprint('Value of deg_C outside the function C2F: {}'.format(deg_C))\",\n",
       " '_i45': 'globals()'}"
      ]
     },
     "execution_count": 45,
     "metadata": {},
     "output_type": "execute_result"
    }
   ],
   "source": [
    "globals()"
   ]
  },
  {
   "cell_type": "code",
   "execution_count": 46,
   "id": "adacb03b",
   "metadata": {},
   "outputs": [
    {
     "data": {
      "text/plain": [
       "10"
      ]
     },
     "execution_count": 46,
     "metadata": {},
     "output_type": "execute_result"
    }
   ],
   "source": [
    "globals()['deg_C']"
   ]
  },
  {
   "cell_type": "markdown",
   "id": "ff8de168",
   "metadata": {},
   "source": [
    "## Function Composition"
   ]
  },
  {
   "cell_type": "code",
   "execution_count": 47,
   "id": "ce06d122",
   "metadata": {},
   "outputs": [],
   "source": [
    "## Compute the area of a disk\n",
    "def compute_distance(x0,y0,x1,y1):\n",
    "    return ((y1-y0)**2+(x1-x0)**2)**(1/2)\n",
    "\n",
    "def area(x0,y0,x1,y1):\n",
    "    return 3.1415926*compute_distance(x0,y0,x1,y1)**2"
   ]
  },
  {
   "cell_type": "code",
   "execution_count": 50,
   "id": "427e9651",
   "metadata": {},
   "outputs": [
    {
     "data": {
      "text/plain": [
       "3.1415926"
      ]
     },
     "execution_count": 50,
     "metadata": {},
     "output_type": "execute_result"
    }
   ],
   "source": [
    "area(0,0,1,0)"
   ]
  },
  {
   "cell_type": "code",
   "execution_count": 54,
   "id": "06186cc7",
   "metadata": {},
   "outputs": [],
   "source": [
    "## Compute the area of a disk\n",
    "def compute_distance(x0,y0,x1,y1):\n",
    "    return ((y1-y0)**2+(x1-x0)**2)**(1/2)\n",
    "\n",
    "def area(radius):\n",
    "    return 3.1415926*radius**2"
   ]
  },
  {
   "cell_type": "code",
   "execution_count": 56,
   "id": "e6361311",
   "metadata": {},
   "outputs": [
    {
     "name": "stdout",
     "output_type": "stream",
     "text": [
      "50.2654816\n"
     ]
    }
   ],
   "source": [
    "print(area(compute_distance(0,0,4,0)))"
   ]
  },
  {
   "cell_type": "code",
   "execution_count": 57,
   "id": "1914118a",
   "metadata": {},
   "outputs": [
    {
     "name": "stdout",
     "output_type": "stream",
     "text": [
      "50.2654816\n"
     ]
    }
   ],
   "source": [
    "radius = compute_distance(0,0,4,0)\n",
    "print(area(radius))"
   ]
  },
  {
   "cell_type": "code",
   "execution_count": 58,
   "id": "0ad738fb",
   "metadata": {},
   "outputs": [],
   "source": [
    "def area(x0,y0,x1,y1):\n",
    "    return 3.1415926*compute_distance(x0,y0,x1,y1)**2\n",
    "\n",
    "def compute_distance(x0,y0,x1,y1):\n",
    "    return ((y1-y0)**2+(x1-x0)**2)**(1/2)"
   ]
  },
  {
   "cell_type": "code",
   "execution_count": 59,
   "id": "9fd48911",
   "metadata": {},
   "outputs": [
    {
     "data": {
      "text/plain": [
       "12.5663704"
      ]
     },
     "execution_count": 59,
     "metadata": {},
     "output_type": "execute_result"
    }
   ],
   "source": [
    "area(0,0,2,0)"
   ]
  },
  {
   "cell_type": "markdown",
   "id": "824a505b",
   "metadata": {},
   "source": [
    "## Exercise\n",
    "Write a function that takes in an integer and outputs a list of all the prime numbers less than or equal to the input"
   ]
  },
  {
   "cell_type": "code",
   "execution_count": null,
   "id": "f784783c",
   "metadata": {},
   "outputs": [],
   "source": [
    "def is_prime(n):\n",
    "\n",
    "    "
   ]
  }
 ],
 "metadata": {
  "kernelspec": {
   "display_name": "Python 3 (ipykernel)",
   "language": "python",
   "name": "python3"
  },
  "language_info": {
   "codemirror_mode": {
    "name": "ipython",
    "version": 3
   },
   "file_extension": ".py",
   "mimetype": "text/x-python",
   "name": "python",
   "nbconvert_exporter": "python",
   "pygments_lexer": "ipython3",
   "version": "3.8.10"
  }
 },
 "nbformat": 4,
 "nbformat_minor": 5
}
