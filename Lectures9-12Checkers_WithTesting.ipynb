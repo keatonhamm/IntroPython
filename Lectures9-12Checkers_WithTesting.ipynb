{
 "cells": [
  {
   "cell_type": "markdown",
   "id": "d4a1c538",
   "metadata": {},
   "source": [
    "# Dr. Hamm's Checkers Game\n",
    "\n",
    "## Brainstorming Pieces we will need"
   ]
  },
  {
   "cell_type": "markdown",
   "id": "3f53e536",
   "metadata": {},
   "source": [
    "1. A way to represent and show the user the board\n",
    "1. A function that will initialize the board\n",
    "1. Allow users to input a move\n",
    "1. Validate moves\n",
    "1. Some way to show the pieces (track and display the current board state)\n",
    "1. A function that can check the game state (win, lose, draw, in progress)"
   ]
  },
  {
   "cell_type": "markdown",
   "id": "4a110924",
   "metadata": {},
   "source": [
    "## Getting Started\n"
   ]
  },
  {
   "cell_type": "code",
   "execution_count": 1,
   "id": "802cafa1",
   "metadata": {},
   "outputs": [],
   "source": [
    "## Assign values for the board representation\n",
    "player_1 = 1\n",
    "player_2 = 2\n",
    "empty = 0\n",
    "\n",
    "# specify a size for the board\n",
    "size = 8"
   ]
  },
  {
   "cell_type": "code",
   "execution_count": 2,
   "id": "6495eeb5",
   "metadata": {},
   "outputs": [
    {
     "name": "stdout",
     "output_type": "stream",
     "text": [
      "[0, 0, 0, 0, 0, 0, 0, 0]\n",
      "[0, 0, 0, 0, 0, 0, 0, 0]\n",
      "[0, 0, 0, 0, 0, 0, 0, 0]\n",
      "[0, 0, 0, 0, 0, 0, 0, 0]\n",
      "[0, 0, 0, 0, 0, 0, 0, 0]\n",
      "[0, 0, 0, 0, 0, 0, 0, 0]\n",
      "[0, 0, 0, 0, 0, 0, 0, 0]\n",
      "[0, 0, 0, 0, 0, 0, 0, 0]\n"
     ]
    }
   ],
   "source": [
    "# Represent the board as a list of lists\n",
    "board = list()\n",
    "for i in range(size):\n",
    "    row = list()\n",
    "    for j in range(size):\n",
    "        row.append(empty)\n",
    "    board.append(row)\n",
    "\n",
    "for i in board:\n",
    "    print(i)"
   ]
  },
  {
   "cell_type": "code",
   "execution_count": 3,
   "id": "886743c8",
   "metadata": {},
   "outputs": [
    {
     "data": {
      "text/plain": [
       "[0, 0, 0, 0, 0]"
      ]
     },
     "execution_count": 3,
     "metadata": {},
     "output_type": "execute_result"
    }
   ],
   "source": [
    "[0]*5"
   ]
  },
  {
   "cell_type": "code",
   "execution_count": 4,
   "id": "4be91d8b",
   "metadata": {},
   "outputs": [
    {
     "name": "stdout",
     "output_type": "stream",
     "text": [
      "[0, 0, 0, 0, 0, 0, 0, 0]\n",
      "[0, 0, 0, 0, 0, 0, 0, 0]\n",
      "[0, 0, 0, 0, 0, 0, 0, 0]\n",
      "[0, 0, 0, 0, 0, 0, 0, 0]\n",
      "[0, 0, 0, 0, 0, 0, 0, 0]\n",
      "[0, 0, 0, 0, 0, 0, 0, 0]\n",
      "[0, 0, 0, 0, 0, 0, 0, 0]\n",
      "[0, 0, 0, 0, 0, 0, 0, 0]\n"
     ]
    }
   ],
   "source": [
    "board2 = [[empty]*size]*size\n",
    "\n",
    "for i in board2:\n",
    "    print(i)"
   ]
  },
  {
   "cell_type": "code",
   "execution_count": 5,
   "id": "beb8a4ca",
   "metadata": {},
   "outputs": [
    {
     "name": "stdout",
     "output_type": "stream",
     "text": [
      "[0, 1, 0, 0, 0, 0, 0, 0]\n",
      "[0, 1, 0, 0, 0, 0, 0, 0]\n",
      "[0, 1, 0, 0, 0, 0, 0, 0]\n",
      "[0, 1, 0, 0, 0, 0, 0, 0]\n",
      "[0, 1, 0, 0, 0, 0, 0, 0]\n",
      "[0, 1, 0, 0, 0, 0, 0, 0]\n",
      "[0, 1, 0, 0, 0, 0, 0, 0]\n",
      "[0, 1, 0, 0, 0, 0, 0, 0]\n"
     ]
    }
   ],
   "source": [
    "## Subtle issue!!\n",
    "board2[1][1] = 1\n",
    "for i in board2:\n",
    "    print(i)"
   ]
  },
  {
   "cell_type": "code",
   "execution_count": 6,
   "id": "eb85baf1",
   "metadata": {},
   "outputs": [
    {
     "name": "stdout",
     "output_type": "stream",
     "text": [
      "[0, 0, 0, 0, 0, 0, 0, 0]\n",
      "[0, 0, 0, 0, 0, 0, 0, 0]\n",
      "[0, 0, 0, 0, 0, 0, 0, 0]\n",
      "[0, 0, 0, 0, 0, 0, 0, 0]\n",
      "[0, 0, 0, 0, 0, 0, 0, 0]\n",
      "[0, 0, 0, 0, 0, 0, 0, 0]\n",
      "[0, 0, 0, 0, 0, 0, 0, 0]\n",
      "[0, 0, 0, 0, 0, 0, 0, 0]\n"
     ]
    }
   ],
   "source": [
    "board3 = list()\n",
    "for i in range(size):\n",
    "    board3.append([empty]*size)\n",
    "for i in board3:\n",
    "    print(i)"
   ]
  },
  {
   "cell_type": "code",
   "execution_count": 7,
   "id": "0d4485be",
   "metadata": {},
   "outputs": [
    {
     "name": "stdout",
     "output_type": "stream",
     "text": [
      "[0, 0, 0, 0, 0, 0, 0, 0]\n",
      "[0, 1, 0, 0, 0, 0, 0, 0]\n",
      "[0, 0, 0, 0, 0, 0, 0, 0]\n",
      "[0, 0, 0, 0, 0, 0, 0, 0]\n",
      "[0, 0, 0, 0, 0, 0, 0, 0]\n",
      "[0, 0, 0, 0, 0, 0, 0, 0]\n",
      "[0, 0, 0, 0, 0, 0, 0, 0]\n",
      "[0, 0, 0, 0, 0, 0, 0, 0]\n"
     ]
    }
   ],
   "source": [
    "board3[1][1] = 1\n",
    "for i in board3:\n",
    "    print(i)"
   ]
  },
  {
   "cell_type": "code",
   "execution_count": 8,
   "id": "4a94f817",
   "metadata": {},
   "outputs": [
    {
     "name": "stdout",
     "output_type": "stream",
     "text": [
      "[0, 0, 0, 0, 0, 0, 0, 0]\n",
      "[0, 1, 0, 0, 0, 0, 0, 0]\n",
      "[0, 0, 0, 0, 0, 0, 0, 0]\n",
      "[0, 0, 0, 0, 0, 0, 0, 0]\n",
      "[0, 0, 0, 0, 0, 0, 0, 0]\n",
      "[0, 0, 0, 0, 0, 0, 0, 0]\n",
      "[0, 0, 0, 0, 0, 0, 0, 0]\n",
      "[0, 0, 0, 0, 0, 0, 0, 0]\n"
     ]
    }
   ],
   "source": [
    "board4 = [[empty]*size for i in range(size)]\n",
    "board4[1][1] = 1\n",
    "for i in board4:\n",
    "    print(i)"
   ]
  },
  {
   "cell_type": "markdown",
   "id": "41fb8674",
   "metadata": {},
   "source": [
    "## Make a starting board"
   ]
  },
  {
   "cell_type": "code",
   "execution_count": 9,
   "id": "fe25e683",
   "metadata": {},
   "outputs": [],
   "source": [
    "def make_board(size = 8):\n",
    "    # Enforce board size to be an even integer >= 8\n",
    "    if isinstance(size,int)==False or (size%2)!=0 or size<8:\n",
    "        print(\"Error: board size must be an even integer >= 8.\")\n",
    "        return list()\n",
    "    \n",
    "    # Make an empty board\n",
    "    board = [[empty]*size for i in range(size)]\n",
    "    \n",
    "    # Add player pieces\n",
    "    for i in range(0,size,2):\n",
    "        # Add Player 1 pieces\n",
    "        board[-1][i] = player_1\n",
    "        board[-3][i] = player_1\n",
    "        board[-2][i+1] = player_1\n",
    "        # Add Player 2 pieces\n",
    "        board[1][i] = player_2\n",
    "        board[0][i+1] = player_2\n",
    "        board[2][i+1] = player_2\n",
    "    \n",
    "    return board\n",
    "        \n",
    "def show_board(board):\n",
    "    for i in board:\n",
    "        print(i)"
   ]
  },
  {
   "cell_type": "code",
   "execution_count": 10,
   "id": "49552c66",
   "metadata": {},
   "outputs": [
    {
     "name": "stdout",
     "output_type": "stream",
     "text": [
      "[0, 2, 0, 2, 0, 2, 0, 2]\n",
      "[2, 0, 2, 0, 2, 0, 2, 0]\n",
      "[0, 2, 0, 2, 0, 2, 0, 2]\n",
      "[0, 0, 0, 0, 0, 0, 0, 0]\n",
      "[0, 0, 0, 0, 0, 0, 0, 0]\n",
      "[1, 0, 1, 0, 1, 0, 1, 0]\n",
      "[0, 1, 0, 1, 0, 1, 0, 1]\n",
      "[1, 0, 1, 0, 1, 0, 1, 0]\n"
     ]
    }
   ],
   "source": [
    "board = make_board()\n",
    "show_board(board)"
   ]
  },
  {
   "cell_type": "markdown",
   "id": "8e076c6c",
   "metadata": {},
   "source": [
    "## Handling player moves\n"
   ]
  },
  {
   "cell_type": "code",
   "execution_count": 11,
   "id": "7d8e7111",
   "metadata": {},
   "outputs": [
    {
     "name": "stdout",
     "output_type": "stream",
     "text": [
      "[[(-1, -1), (-1, 1)], [(1, -1), (1, 1)]]\n"
     ]
    }
   ],
   "source": [
    "left_move = 1\n",
    "right_move = 2\n",
    "\n",
    "# (x_offset,y_offset), where a move is of the form (x,y) -> (x+x_offset,y+y_offset)\n",
    "player_1_left_move = (-1,-1)\n",
    "player_1_right_move = (-1,1)\n",
    "player_2_left_move = (1,-1)\n",
    "player_2_right_move = (1,1)\n",
    "\n",
    "moves = [[player_1_left_move,player_1_right_move],[player_2_left_move,player_2_right_move]]\n",
    "\n",
    "print(moves)"
   ]
  },
  {
   "cell_type": "code",
   "execution_count": 12,
   "id": "08c6732d",
   "metadata": {},
   "outputs": [
    {
     "data": {
      "text/plain": [
       "(-1, 1)"
      ]
     },
     "execution_count": 12,
     "metadata": {},
     "output_type": "execute_result"
    }
   ],
   "source": [
    "moves[player_1-1][left_move]"
   ]
  },
  {
   "cell_type": "code",
   "execution_count": 13,
   "id": "29aa5171",
   "metadata": {},
   "outputs": [],
   "source": [
    "## Make a dictionary of dictionaries\n",
    "\n",
    "## What is a dictionary??\n",
    "dictionary = {'A': 21,\n",
    "              'B': 42,\n",
    "               4: \"Hello World\"}\n"
   ]
  },
  {
   "cell_type": "code",
   "execution_count": 14,
   "id": "483e082f",
   "metadata": {},
   "outputs": [
    {
     "data": {
      "text/plain": [
       "21"
      ]
     },
     "execution_count": 14,
     "metadata": {},
     "output_type": "execute_result"
    }
   ],
   "source": [
    "dictionary['A']"
   ]
  },
  {
   "cell_type": "code",
   "execution_count": 15,
   "id": "c7dc0e97",
   "metadata": {},
   "outputs": [
    {
     "data": {
      "text/plain": [
       "'Hello World'"
      ]
     },
     "execution_count": 15,
     "metadata": {},
     "output_type": "execute_result"
    }
   ],
   "source": [
    "dictionary[4]"
   ]
  },
  {
   "cell_type": "code",
   "execution_count": 16,
   "id": "9b7e9a49",
   "metadata": {},
   "outputs": [],
   "source": [
    "moves = {player_1: {left_move: player_1_left_move,\n",
    "                   right_move: player_1_right_move},\n",
    "        player_2: {left_move: player_2_left_move,\n",
    "                  right_move:player_2_right_move}}"
   ]
  },
  {
   "cell_type": "code",
   "execution_count": 17,
   "id": "baed4ac9",
   "metadata": {},
   "outputs": [
    {
     "data": {
      "text/plain": [
       "(-1, -1)"
      ]
     },
     "execution_count": 17,
     "metadata": {},
     "output_type": "execute_result"
    }
   ],
   "source": [
    "moves[player_1][left_move]"
   ]
  },
  {
   "cell_type": "code",
   "execution_count": 18,
   "id": "31f1c6ff",
   "metadata": {},
   "outputs": [],
   "source": [
    "def print_message(message, verbose = True):\n",
    "    if verbose:\n",
    "        print(message)"
   ]
  },
  {
   "cell_type": "code",
   "execution_count": 19,
   "id": "c30e45c2",
   "metadata": {},
   "outputs": [
    {
     "name": "stdout",
     "output_type": "stream",
     "text": [
      "Hello World\n"
     ]
    }
   ],
   "source": [
    "print_message(\"Hello World\")"
   ]
  },
  {
   "cell_type": "code",
   "execution_count": 20,
   "id": "40b774f1",
   "metadata": {},
   "outputs": [],
   "source": [
    "print_message(\"Hello World\", False)"
   ]
  },
  {
   "cell_type": "markdown",
   "id": "013c53e7",
   "metadata": {},
   "source": [
    "## Moving Pieces\n",
    "Logical progression of this function:\n",
    "1. Check if location is on board\n",
    "1. Check if player has a piece at location\n",
    "1. Check what the offset is from the dictionary\n",
    "1. Check that move (or jump) is possible\n",
    "1. Assuming the move is possible, update the board\n",
    "    1. Remove player piece from initial location (set to empty)\n",
    "    1. Add player piece to the new location\n",
    "1. Assuming a jump is possible, update the board\n",
    "    1. Remove player piece from initial location (set to empty)\n",
    "    1. Remove opponents piece from jump location (set to empty)\n",
    "    1. Add player piece to the new location"
   ]
  },
  {
   "cell_type": "code",
   "execution_count": 21,
   "id": "ceaa5fb3",
   "metadata": {},
   "outputs": [],
   "source": [
    "# return True if the move worked or False if not\n",
    "def move_piece(board, player, location, move, verbose = True):\n",
    "    # board is a list of lists of dimensions size x size\n",
    "    # player is either player_1 or player_2\n",
    "    # location is a tuple of the form (x,y) where 0 <= x,y <= size -1\n",
    "    # move is left_move or right_move\n",
    "    # Returns True if the move is valid (and board will be updated)\n",
    "    # Returns False if the move is invalid (board will not be updated)\n",
    "    x,y = location\n",
    "    \n",
    "    # Check if the location is valid\n",
    "    if x not in range(size) or y not in range(size):\n",
    "        print_message(\"Location is invalid\",verbose)\n",
    "        return False\n",
    "    \n",
    "    # Check if player has a piece at location\n",
    "    if not board[x][y] == player:\n",
    "        print_message(\"Player does not have a piece at this location\",verbose)\n",
    "        return False\n",
    "    \n",
    "    # Check the offset from the dictionary\n",
    "    x_offset, y_offset = moves[player][move]\n",
    "    \n",
    "    # Check that the move location is on the board -- make a Boolean variable to check this\n",
    "    move_possible = x + x_offset in range(size) and y + y_offset in range(size)\n",
    "    \n",
    "    # Check if the (potential) jump location is on the board\n",
    "    jump_possible = x + 2*x_offset in range(size) and y + 2*y_offset in range(size)\n",
    "    \n",
    "    # Note that if move_possible is False then jump_possible must be False\n",
    "    if not move_possible:\n",
    "        print_message(\"Move is off the board.\", verbose)\n",
    "        return False\n",
    "    # Could also check not (move_possible or jump_possible)\n",
    "    \n",
    "    # Check if the move space is empty, and if so, move the piece\n",
    "    if board[x+x_offset][y+y_offset] == empty:\n",
    "        # Remove player piece from original location\n",
    "        board[x][y] = empty\n",
    "        # Add player piece to new location\n",
    "        board[x+x_offset][y+y_offset] = player\n",
    "        print_message(\"Player's piece has been moved.\", verbose)\n",
    "        \n",
    "        return True\n",
    "    \n",
    "    elif jump_possible and board[x+x_offset][y+y_offset] != player and board[x+2*x_offset][y+2*y_offset] == empty:\n",
    "        # Remove opponent's piece to be jumped\n",
    "        board[x+x_offset][y+y_offset] = empty\n",
    "        # Remove player piece from initial location\n",
    "        board[x][y] = empty\n",
    "        # Add player piece at new location\n",
    "        board[x+2*x_offset][y+2*y_offset] = player\n",
    "        print_message(\"Player's piece has been moved.\", verbose)\n",
    "        \n",
    "        return True\n",
    "    \n",
    "    else:\n",
    "        print_message(\"This move is not possible.\", verbose)\n",
    "        return False"
   ]
  },
  {
   "cell_type": "code",
   "execution_count": 22,
   "id": "35e20ac0",
   "metadata": {},
   "outputs": [
    {
     "name": "stdout",
     "output_type": "stream",
     "text": [
      "[0, 2, 0, 2, 0, 2, 0, 2]\n",
      "[2, 0, 2, 0, 2, 0, 2, 0]\n",
      "[0, 2, 0, 2, 0, 2, 0, 2]\n",
      "[0, 0, 0, 0, 0, 0, 0, 0]\n",
      "[0, 0, 0, 0, 0, 0, 0, 0]\n",
      "[1, 0, 1, 0, 1, 0, 1, 0]\n",
      "[0, 1, 0, 1, 0, 1, 0, 1]\n",
      "[1, 0, 1, 0, 1, 0, 1, 0]\n"
     ]
    }
   ],
   "source": [
    "show_board(board)"
   ]
  },
  {
   "cell_type": "code",
   "execution_count": 23,
   "id": "6b3c5edc",
   "metadata": {},
   "outputs": [
    {
     "data": {
      "text/plain": [
       "False"
      ]
     },
     "execution_count": 23,
     "metadata": {},
     "output_type": "execute_result"
    }
   ],
   "source": [
    "x = 1\n",
    "x_offset = -1\n",
    "y = 2\n",
    "y_offset = 1\n",
    "x + 2*x_offset in range(size) and y + 2*y_offset in range(size)"
   ]
  },
  {
   "cell_type": "code",
   "execution_count": 24,
   "id": "eb763264",
   "metadata": {},
   "outputs": [
    {
     "name": "stdout",
     "output_type": "stream",
     "text": [
      "Player does not have a piece at this location\n"
     ]
    },
    {
     "data": {
      "text/plain": [
       "False"
      ]
     },
     "execution_count": 24,
     "metadata": {},
     "output_type": "execute_result"
    }
   ],
   "source": [
    "move_piece(board,player_1,(0,0),left_move)"
   ]
  },
  {
   "cell_type": "code",
   "execution_count": 25,
   "id": "4c88e3ca",
   "metadata": {},
   "outputs": [
    {
     "name": "stdout",
     "output_type": "stream",
     "text": [
      "Player's piece has been moved.\n",
      "[0, 2, 0, 2, 0, 2, 0, 2]\n",
      "[2, 0, 2, 0, 2, 0, 2, 0]\n",
      "[0, 2, 0, 2, 0, 2, 0, 2]\n",
      "[0, 0, 0, 0, 0, 0, 0, 0]\n",
      "[0, 1, 0, 0, 0, 0, 0, 0]\n",
      "[1, 0, 0, 0, 1, 0, 1, 0]\n",
      "[0, 1, 0, 1, 0, 1, 0, 1]\n",
      "[1, 0, 1, 0, 1, 0, 1, 0]\n"
     ]
    }
   ],
   "source": [
    "move_piece(board,player_1,(5,2),left_move)\n",
    "show_board(board)"
   ]
  },
  {
   "cell_type": "code",
   "execution_count": 26,
   "id": "a66dd02f",
   "metadata": {},
   "outputs": [
    {
     "name": "stdout",
     "output_type": "stream",
     "text": [
      "Player's piece has been moved.\n",
      "[0, 2, 0, 2, 0, 2, 0, 2]\n",
      "[2, 0, 2, 0, 2, 0, 2, 0]\n",
      "[0, 2, 0, 0, 0, 2, 0, 2]\n",
      "[0, 0, 2, 0, 0, 0, 0, 0]\n",
      "[0, 1, 0, 0, 0, 0, 0, 0]\n",
      "[1, 0, 0, 0, 1, 0, 1, 0]\n",
      "[0, 1, 0, 1, 0, 1, 0, 1]\n",
      "[1, 0, 1, 0, 1, 0, 1, 0]\n"
     ]
    }
   ],
   "source": [
    "move_piece(board,player_2,(2,3),left_move)\n",
    "show_board(board)"
   ]
  },
  {
   "cell_type": "code",
   "execution_count": 27,
   "id": "4e6f2338",
   "metadata": {},
   "outputs": [
    {
     "name": "stdout",
     "output_type": "stream",
     "text": [
      "Player's piece has been moved.\n",
      "[0, 2, 0, 2, 0, 2, 0, 2]\n",
      "[2, 0, 2, 0, 2, 0, 2, 0]\n",
      "[0, 2, 0, 1, 0, 2, 0, 2]\n",
      "[0, 0, 0, 0, 0, 0, 0, 0]\n",
      "[0, 0, 0, 0, 0, 0, 0, 0]\n",
      "[1, 0, 0, 0, 1, 0, 1, 0]\n",
      "[0, 1, 0, 1, 0, 1, 0, 1]\n",
      "[1, 0, 1, 0, 1, 0, 1, 0]\n"
     ]
    }
   ],
   "source": [
    "move_piece(board,player_1,(4,1),right_move)\n",
    "show_board(board)"
   ]
  },
  {
   "cell_type": "markdown",
   "id": "16ebf206",
   "metadata": {},
   "source": [
    "## Making a prettier game display\n"
   ]
  },
  {
   "cell_type": "code",
   "execution_count": 28,
   "id": "26c65122",
   "metadata": {},
   "outputs": [],
   "source": [
    "# Representation for graphical player pieces\n",
    "player_1_piece = \"X\"\n",
    "player_2_piece = \"O\"\n",
    "empty_space = \" \"\n",
    "\n",
    "# What piece goes in the board location?\n",
    "space_character = {player_1: player_1_piece,\n",
    "                  player_2: player_2_piece,\n",
    "                  empty: empty_space}"
   ]
  },
  {
   "cell_type": "code",
   "execution_count": 29,
   "id": "40626b35",
   "metadata": {},
   "outputs": [
    {
     "data": {
      "text/plain": [
       "'X'"
      ]
     },
     "execution_count": 29,
     "metadata": {},
     "output_type": "execute_result"
    }
   ],
   "source": [
    "space_character[player_1]"
   ]
  },
  {
   "cell_type": "code",
   "execution_count": 30,
   "id": "5e915fc6",
   "metadata": {},
   "outputs": [],
   "source": [
    "def draw_board(board):\n",
    "    for i in range(size):\n",
    "        for j in range(size):\n",
    "            print(space_character[board[i][j]], end = ' ')\n",
    "        print()"
   ]
  },
  {
   "cell_type": "code",
   "execution_count": 31,
   "id": "0718d640",
   "metadata": {},
   "outputs": [
    {
     "name": "stdout",
     "output_type": "stream",
     "text": [
      "  O   O   O   O \n",
      "O   O   O   O   \n",
      "  O   X   O   O \n",
      "                \n",
      "                \n",
      "X       X   X   \n",
      "  X   X   X   X \n",
      "X   X   X   X   \n"
     ]
    }
   ],
   "source": [
    "draw_board(board)"
   ]
  },
  {
   "cell_type": "code",
   "execution_count": 32,
   "id": "b3d37eff",
   "metadata": {},
   "outputs": [],
   "source": [
    "# Row names: create a dictionary mapping \"A\" to 0, \"B\" to 1, .... \n",
    "row_names = list(\"ABCDEFGHIJKLMNOPQRSTUVWXYZ\")\n",
    "row_map = dict(zip(row_names,range(size)))"
   ]
  },
  {
   "cell_type": "code",
   "execution_count": 33,
   "id": "757c54db",
   "metadata": {},
   "outputs": [
    {
     "name": "stdout",
     "output_type": "stream",
     "text": [
      "['A', 'B', 'C', 'D', 'E', 'F', 'G', 'H', 'I', 'J', 'K', 'L', 'M', 'N', 'O', 'P', 'Q', 'R', 'S', 'T', 'U', 'V', 'W', 'X', 'Y', 'Z']\n"
     ]
    }
   ],
   "source": [
    "print(row_names)"
   ]
  },
  {
   "cell_type": "code",
   "execution_count": 34,
   "id": "b7aacacb",
   "metadata": {},
   "outputs": [
    {
     "name": "stdout",
     "output_type": "stream",
     "text": [
      "{'A': 0, 'B': 1, 'C': 2, 'D': 3, 'E': 4, 'F': 5, 'G': 6, 'H': 7}\n"
     ]
    }
   ],
   "source": [
    "print(row_map)"
   ]
  },
  {
   "cell_type": "code",
   "execution_count": 35,
   "id": "0b2a555f",
   "metadata": {},
   "outputs": [],
   "source": [
    "# Column names\n",
    "col_names = list(map(str,range(1,size+1)))\n",
    "col_map = dict(zip(col_names,range(size)))"
   ]
  },
  {
   "cell_type": "code",
   "execution_count": 36,
   "id": "853ff72b",
   "metadata": {},
   "outputs": [
    {
     "name": "stdout",
     "output_type": "stream",
     "text": [
      "['1', '2', '3', '4', '5', '6', '7', '8']\n"
     ]
    }
   ],
   "source": [
    "print(col_names)"
   ]
  },
  {
   "cell_type": "code",
   "execution_count": 37,
   "id": "6bf2441f",
   "metadata": {},
   "outputs": [
    {
     "name": "stdout",
     "output_type": "stream",
     "text": [
      "{'1': 0, '2': 1, '3': 2, '4': 3, '5': 4, '6': 5, '7': 6, '8': 7}\n"
     ]
    }
   ],
   "source": [
    "print(col_map)"
   ]
  },
  {
   "cell_type": "code",
   "execution_count": 38,
   "id": "77c61c86",
   "metadata": {},
   "outputs": [],
   "source": [
    "def draw_board(board):\n",
    "    print(\" \", end = \" \")\n",
    "    for i in range(size):\n",
    "        print(col_names[i], end = \" \")\n",
    "    print()\n",
    "    \n",
    "    for i in range(size):\n",
    "        print(row_names[i], end = \" \")\n",
    "        for j in range(size):\n",
    "            print(space_character[board[i][j]], end = ' ')\n",
    "        print()"
   ]
  },
  {
   "cell_type": "code",
   "execution_count": 39,
   "id": "0d2c05df",
   "metadata": {},
   "outputs": [
    {
     "name": "stdout",
     "output_type": "stream",
     "text": [
      "  1 2 3 4 5 6 7 8 \n",
      "A   O   O   O   O \n",
      "B O   O   O   O   \n",
      "C   O   X   O   O \n",
      "D                 \n",
      "E                 \n",
      "F X       X   X   \n",
      "G   X   X   X   X \n",
      "H X   X   X   X   \n"
     ]
    }
   ],
   "source": [
    "draw_board(board)"
   ]
  },
  {
   "cell_type": "markdown",
   "id": "2389f4d2",
   "metadata": {},
   "source": [
    "## Goal: implement a player move from user input"
   ]
  },
  {
   "cell_type": "code",
   "execution_count": 40,
   "id": "20cf4c8b",
   "metadata": {},
   "outputs": [],
   "source": [
    "def parse_location(location_string):\n",
    "    \n",
    "    #require that input is a string\n",
    "    if not isinstance(location_string,str):\n",
    "        print_message(\"Invalid input. Location must be a string.\")\n",
    "        return False\n",
    "    \n",
    "    #require that the input has length 2 (generally: 2 or 3)\n",
    "    if len(location_string) != 2:\n",
    "        print_message(\"Invalid input. Location must be 2 characters\")\n",
    "        return False\n",
    "    \n",
    "    row = location_string[0].upper()\n",
    "    col = location_string[1]\n",
    "    \n",
    "    if not row in row_map:\n",
    "        print_message(\"This is not a valid row.\")\n",
    "        return False\n",
    "    \n",
    "    if not col in col_map:\n",
    "        print_message(\"This is not a valid column.\")\n",
    "        return False\n",
    "    \n",
    "    return row_map[row], col_map[col]"
   ]
  },
  {
   "cell_type": "code",
   "execution_count": 41,
   "id": "4682734e",
   "metadata": {},
   "outputs": [
    {
     "name": "stdout",
     "output_type": "stream",
     "text": [
      "Invalid input. Location must be a string.\n"
     ]
    },
    {
     "data": {
      "text/plain": [
       "False"
      ]
     },
     "execution_count": 41,
     "metadata": {},
     "output_type": "execute_result"
    }
   ],
   "source": [
    "parse_location(1)"
   ]
  },
  {
   "cell_type": "code",
   "execution_count": 42,
   "id": "8b38c824",
   "metadata": {},
   "outputs": [
    {
     "name": "stdout",
     "output_type": "stream",
     "text": [
      "Invalid input. Location must be 2 characters\n"
     ]
    },
    {
     "data": {
      "text/plain": [
       "False"
      ]
     },
     "execution_count": 42,
     "metadata": {},
     "output_type": "execute_result"
    }
   ],
   "source": [
    "parse_location('A42')"
   ]
  },
  {
   "cell_type": "code",
   "execution_count": 43,
   "id": "52f649b9",
   "metadata": {},
   "outputs": [
    {
     "data": {
      "text/plain": [
       "(0, 4)"
      ]
     },
     "execution_count": 43,
     "metadata": {},
     "output_type": "execute_result"
    }
   ],
   "source": [
    "parse_location('A5')"
   ]
  },
  {
   "cell_type": "code",
   "execution_count": 44,
   "id": "3c83a1e9",
   "metadata": {},
   "outputs": [
    {
     "data": {
      "text/plain": [
       "(7, 1)"
      ]
     },
     "execution_count": 44,
     "metadata": {},
     "output_type": "execute_result"
    }
   ],
   "source": [
    "parse_location('H2')"
   ]
  },
  {
   "cell_type": "code",
   "execution_count": 45,
   "id": "b2204f83",
   "metadata": {},
   "outputs": [
    {
     "name": "stdout",
     "output_type": "stream",
     "text": [
      "This is not a valid row.\n"
     ]
    },
    {
     "data": {
      "text/plain": [
       "False"
      ]
     },
     "execution_count": 45,
     "metadata": {},
     "output_type": "execute_result"
    }
   ],
   "source": [
    "parse_location('I3')"
   ]
  },
  {
   "cell_type": "code",
   "execution_count": 46,
   "id": "99f5e4c3",
   "metadata": {},
   "outputs": [
    {
     "name": "stdout",
     "output_type": "stream",
     "text": [
      "This is not a valid column.\n"
     ]
    },
    {
     "data": {
      "text/plain": [
       "False"
      ]
     },
     "execution_count": 46,
     "metadata": {},
     "output_type": "execute_result"
    }
   ],
   "source": [
    "parse_location('H9')"
   ]
  },
  {
   "cell_type": "code",
   "execution_count": 47,
   "id": "95a19cd4",
   "metadata": {},
   "outputs": [
    {
     "name": "stdout",
     "output_type": "stream",
     "text": [
      "This is not a valid row.\n"
     ]
    },
    {
     "data": {
      "text/plain": [
       "False"
      ]
     },
     "execution_count": 47,
     "metadata": {},
     "output_type": "execute_result"
    }
   ],
   "source": [
    "parse_location('I9')"
   ]
  },
  {
   "cell_type": "code",
   "execution_count": 48,
   "id": "110b2e15",
   "metadata": {},
   "outputs": [],
   "source": [
    "def parse_move(move_string,verbose = True):\n",
    "    if not isinstance(move_string,str):\n",
    "        print_message(\"Invalid input. Input must be a string.\")\n",
    "        return False\n",
    "    \n",
    "    if len(move_string) != 1:\n",
    "        print_message(\"Invalid input. Move string must be 1 character.\")\n",
    "        return False\n",
    "    \n",
    "    if move_string.upper() == \"L\":\n",
    "        return left_move\n",
    "    elif move_string.upper() == \"R\":\n",
    "        return right_move\n",
    "    else:\n",
    "        print_message(\"Bad move. Must input either R or L.\")\n",
    "        return False"
   ]
  },
  {
   "cell_type": "code",
   "execution_count": 49,
   "id": "b9d62b76",
   "metadata": {},
   "outputs": [
    {
     "name": "stdout",
     "output_type": "stream",
     "text": [
      "Bad move. Must input either R or L.\n"
     ]
    },
    {
     "data": {
      "text/plain": [
       "False"
      ]
     },
     "execution_count": 49,
     "metadata": {},
     "output_type": "execute_result"
    }
   ],
   "source": [
    "parse_move(\"A\")"
   ]
  },
  {
   "cell_type": "code",
   "execution_count": 50,
   "id": "fc28058c",
   "metadata": {},
   "outputs": [
    {
     "data": {
      "text/plain": [
       "1"
      ]
     },
     "execution_count": 50,
     "metadata": {},
     "output_type": "execute_result"
    }
   ],
   "source": [
    "parse_move(\"L\")"
   ]
  },
  {
   "cell_type": "code",
   "execution_count": 51,
   "id": "82689438",
   "metadata": {},
   "outputs": [
    {
     "data": {
      "text/plain": [
       "1"
      ]
     },
     "execution_count": 51,
     "metadata": {},
     "output_type": "execute_result"
    }
   ],
   "source": [
    "parse_move(\"l\")"
   ]
  },
  {
   "cell_type": "code",
   "execution_count": 52,
   "id": "6a9eb2cc",
   "metadata": {},
   "outputs": [
    {
     "data": {
      "text/plain": [
       "2"
      ]
     },
     "execution_count": 52,
     "metadata": {},
     "output_type": "execute_result"
    }
   ],
   "source": [
    "parse_move(\"R\")"
   ]
  },
  {
   "cell_type": "code",
   "execution_count": 53,
   "id": "3950dd55",
   "metadata": {},
   "outputs": [
    {
     "name": "stdout",
     "output_type": "stream",
     "text": [
      "Invalid input. Input must be a string.\n"
     ]
    },
    {
     "data": {
      "text/plain": [
       "False"
      ]
     },
     "execution_count": 53,
     "metadata": {},
     "output_type": "execute_result"
    }
   ],
   "source": [
    "parse_move(1)"
   ]
  },
  {
   "cell_type": "code",
   "execution_count": 57,
   "id": "181935b5",
   "metadata": {},
   "outputs": [
    {
     "name": "stdout",
     "output_type": "stream",
     "text": [
      "Invalid input. Move string must be 1 character.\n"
     ]
    },
    {
     "data": {
      "text/plain": [
       "False"
      ]
     },
     "execution_count": 57,
     "metadata": {},
     "output_type": "execute_result"
    }
   ],
   "source": [
    "parse_move(\"LL\")"
   ]
  },
  {
   "cell_type": "code",
   "execution_count": 54,
   "id": "984bc660",
   "metadata": {},
   "outputs": [],
   "source": [
    "def nice_move_piece(board, player, location_string, move_string, verbose = True):\n",
    "    \n",
    "    location = parse_location(location_string)\n",
    "    move = parse_move(move_string)\n",
    "    \n",
    "    if not location or not move:\n",
    "        print_message(\"Invalid input. Please input a valid location and move.\")\n",
    "        return False\n",
    "    else:\n",
    "        return move_piece(board, player, location, move, verbose)"
   ]
  },
  {
   "cell_type": "code",
   "execution_count": 55,
   "id": "2754e899",
   "metadata": {},
   "outputs": [
    {
     "name": "stdout",
     "output_type": "stream",
     "text": [
      "  1 2 3 4 5 6 7 8 \n",
      "A   O   O   O   O \n",
      "B O   O   O   O   \n",
      "C   O   O   O   O \n",
      "D                 \n",
      "E                 \n",
      "F X   X   X   X   \n",
      "G   X   X   X   X \n",
      "H X   X   X   X   \n",
      "Player's piece has been moved.\n",
      "  1 2 3 4 5 6 7 8 \n",
      "A   O   O   O   O \n",
      "B O   O   O   O   \n",
      "C   O   O   O   O \n",
      "D                 \n",
      "E   X             \n",
      "F     X   X   X   \n",
      "G   X   X   X   X \n",
      "H X   X   X   X   \n",
      "Player's piece has been moved.\n",
      "  1 2 3 4 5 6 7 8 \n",
      "A   O   O   O   O \n",
      "B O   O   O   O   \n",
      "C   O   O       O \n",
      "D         O       \n",
      "E   X             \n",
      "F     X   X   X   \n",
      "G   X   X   X   X \n",
      "H X   X   X   X   \n",
      "Player's piece has been moved.\n",
      "  1 2 3 4 5 6 7 8 \n",
      "A   O   O   O   O \n",
      "B O   O   O   O   \n",
      "C   O   O       O \n",
      "D         O       \n",
      "E   X       X     \n",
      "F     X   X       \n",
      "G   X   X   X   X \n",
      "H X   X   X   X   \n",
      "Player's piece has been moved.\n",
      "  1 2 3 4 5 6 7 8 \n",
      "A   O   O   O   O \n",
      "B O   O   O   O   \n",
      "C   O   O       O \n",
      "D                 \n",
      "E   X             \n",
      "F     X   X   O   \n",
      "G   X   X   X   X \n",
      "H X   X   X   X   \n"
     ]
    }
   ],
   "source": [
    "board0 = make_board()\n",
    "draw_board(board0)\n",
    "nice_move_piece(board0,player_1,'F1','R')\n",
    "draw_board(board0)\n",
    "nice_move_piece(board0,player_2,'C6',\"L\")\n",
    "draw_board(board0)\n",
    "nice_move_piece(board0,player_1,'F7',\"L\")\n",
    "draw_board(board0)\n",
    "nice_move_piece(board0,player_2,'D5',\"R\")\n",
    "draw_board(board0)"
   ]
  },
  {
   "cell_type": "code",
   "execution_count": 56,
   "id": "a3e6c4bd",
   "metadata": {},
   "outputs": [
    {
     "data": {
      "text/plain": [
       "True"
      ]
     },
     "execution_count": 56,
     "metadata": {},
     "output_type": "execute_result"
    }
   ],
   "source": [
    "not 0"
   ]
  },
  {
   "cell_type": "code",
   "execution_count": 77,
   "id": "fc4b57ac",
   "metadata": {},
   "outputs": [
    {
     "data": {
      "text/plain": [
       "False"
      ]
     },
     "execution_count": 77,
     "metadata": {},
     "output_type": "execute_result"
    }
   ],
   "source": [
    "not 1"
   ]
  },
  {
   "cell_type": "code",
   "execution_count": 78,
   "id": "73784b8a",
   "metadata": {},
   "outputs": [
    {
     "data": {
      "text/plain": [
       "True"
      ]
     },
     "execution_count": 78,
     "metadata": {},
     "output_type": "execute_result"
    }
   ],
   "source": [
    "0 == False"
   ]
  },
  {
   "cell_type": "code",
   "execution_count": 65,
   "id": "698db2a7",
   "metadata": {},
   "outputs": [],
   "source": [
    "def take_move(board, player, verbose = True):\n",
    "    \n",
    "    valid_move = False\n",
    "    \n",
    "    while not valid_move:\n",
    "        location_string = input(\"Input location of player piece to move (e.g., A5):\")\n",
    "        if location_string == \"XX\":\n",
    "            return -1\n",
    "        move_string = input(\"Input move (L/R):\")\n",
    "        \n",
    "        valid_move = nice_move_piece(board, player, location_string, move_string, verbose)"
   ]
  },
  {
   "cell_type": "code",
   "execution_count": 58,
   "id": "0c4b15fe",
   "metadata": {},
   "outputs": [
    {
     "name": "stdout",
     "output_type": "stream",
     "text": [
      "Input location of player piece to move (e.g., A5):A5\n",
      "Input move (L/R):L\n",
      "Player does not have a piece at this location\n",
      "Input location of player piece to move (e.g., A5):F1\n",
      "Input move (L/R):R\n",
      "Player's piece has been moved.\n"
     ]
    }
   ],
   "source": [
    "board1 = make_board()\n",
    "take_move(board1, player_1)"
   ]
  },
  {
   "cell_type": "code",
   "execution_count": 96,
   "id": "517f6465",
   "metadata": {},
   "outputs": [],
   "source": [
    "## Design a function game_won(board)  that returns\n",
    "# False is there is no winner\n",
    "# player_1 if Player 1 has won (no Player 2 pieces exist)\n",
    "# player_2 if Player 2 has won (no Player 1 pieces exist)\n",
    "\n"
   ]
  },
  {
   "cell_type": "code",
   "execution_count": 98,
   "id": "15030031",
   "metadata": {},
   "outputs": [
    {
     "data": {
      "text/plain": [
       "True"
      ]
     },
     "execution_count": 98,
     "metadata": {},
     "output_type": "execute_result"
    }
   ],
   "source": [
    "str(player_1) in '0123'"
   ]
  },
  {
   "cell_type": "code",
   "execution_count": 61,
   "id": "2b61bc16",
   "metadata": {},
   "outputs": [],
   "source": [
    "def game_won(board):\n",
    "    player_1_count = sum([player_1 in list for list in board])\n",
    "   # print_message([player_1 in list for list in board])\n",
    "    player_2_count = sum([player_2 in list for list in board])\n",
    "    #print_message(player_1_count)\n",
    "    #print(player_2_count)\n",
    "    \n",
    "    if player_1_count == 0 and player_2_count == 0:\n",
    "        print(\"The board is empty\")\n",
    "        return -1\n",
    "    elif player_1_count == 0:\n",
    "        return player_2\n",
    "    elif player_2_count == 0:\n",
    "        return player_1\n",
    "    else:\n",
    "        return False"
   ]
  },
  {
   "cell_type": "code",
   "execution_count": 62,
   "id": "442b7f37",
   "metadata": {},
   "outputs": [
    {
     "name": "stdout",
     "output_type": "stream",
     "text": [
      "[False, False, False, False, True, True, True, True]\n",
      "4\n",
      "3\n"
     ]
    },
    {
     "data": {
      "text/plain": [
       "False"
      ]
     },
     "execution_count": 62,
     "metadata": {},
     "output_type": "execute_result"
    }
   ],
   "source": [
    "game_won(board1)"
   ]
  },
  {
   "cell_type": "code",
   "execution_count": 101,
   "id": "d90c6184",
   "metadata": {},
   "outputs": [
    {
     "data": {
      "text/plain": [
       "4"
      ]
     },
     "execution_count": 101,
     "metadata": {},
     "output_type": "execute_result"
    }
   ],
   "source": [
    "player_1_count = sum([player_1 in list for list in board1])\n",
    "player_1_count"
   ]
  },
  {
   "cell_type": "code",
   "execution_count": 103,
   "id": "10edc61b",
   "metadata": {},
   "outputs": [
    {
     "ename": "SyntaxError",
     "evalue": "invalid syntax (1807083797.py, line 2)",
     "output_type": "error",
     "traceback": [
      "\u001b[0;36m  File \u001b[0;32m\"/tmp/ipykernel_143/1807083797.py\"\u001b[0;36m, line \u001b[0;32m2\u001b[0m\n\u001b[0;31m    player_1_count +=1 for player_1 in list for list in board1\u001b[0m\n\u001b[0m                       ^\u001b[0m\n\u001b[0;31mSyntaxError\u001b[0m\u001b[0;31m:\u001b[0m invalid syntax\n"
     ]
    }
   ],
   "source": [
    "player_1_count = 0\n",
    "player_1_count +=1 for player_1 in list for list in board1\n",
    "player_1_count"
   ]
  },
  {
   "cell_type": "code",
   "execution_count": 74,
   "id": "b4b05318",
   "metadata": {},
   "outputs": [],
   "source": [
    "def checkers_game():\n",
    "    print(\"Welcome to Dr. Hamm's Checkers Game!!\")\n",
    "    print('----------------------------')\n",
    "    \n",
    "    size = int(input(\"Input board size:\"))\n",
    "    board = make_board(size)\n",
    "    \n",
    "    player = player_1\n",
    "    \n",
    "    this_game_won = False\n",
    "    \n",
    "    while not this_game_won:\n",
    "        draw_board(board)\n",
    "        \n",
    "        print(\"Player\", player, \"move:\")\n",
    "        this_move = take_move(board,player)\n",
    "        if this_move == -1:\n",
    "            print(\"Player has quit the game\")\n",
    "            break\n",
    "        \n",
    "        this_game_won = game_won(board)\n",
    "        \n",
    "        if player == player_1:\n",
    "            player = player_2\n",
    "        else:\n",
    "            player = player_1\n",
    "    \n",
    "    \n",
    "    draw_board(board)\n",
    "    if this_move == -1:\n",
    "        print(\"There is no winner\")\n",
    "    else:\n",
    "        print(\"The winner is Player\", this_game_won)"
   ]
  },
  {
   "cell_type": "code",
   "execution_count": 75,
   "id": "4d36190d",
   "metadata": {},
   "outputs": [
    {
     "name": "stdout",
     "output_type": "stream",
     "text": [
      "Welcome to Dr. Hamm's Checkers Game!!\n",
      "----------------------------\n",
      "Input board size:8\n",
      "  1 2 3 4 5 6 7 8 \n",
      "A   O   O   O   O \n",
      "B O   O   O   O   \n",
      "C   O   O   O   O \n",
      "D                 \n",
      "E                 \n",
      "F X   X   X   X   \n",
      "G   X   X   X   X \n",
      "H X   X   X   X   \n",
      "Player 1 move:\n",
      "Input location of player piece to move (e.g., A5):XX\n",
      "Player has quit the game\n",
      "  1 2 3 4 5 6 7 8 \n",
      "A   O   O   O   O \n",
      "B O   O   O   O   \n",
      "C   O   O   O   O \n",
      "D                 \n",
      "E                 \n",
      "F X   X   X   X   \n",
      "G   X   X   X   X \n",
      "H X   X   X   X   \n",
      "There is no winner\n"
     ]
    }
   ],
   "source": [
    "checkers_game()"
   ]
  },
  {
   "cell_type": "code",
   "execution_count": null,
   "id": "db939c18",
   "metadata": {},
   "outputs": [],
   "source": []
  }
 ],
 "metadata": {
  "kernelspec": {
   "display_name": "Python 3 (ipykernel)",
   "language": "python",
   "name": "python3"
  },
  "language_info": {
   "codemirror_mode": {
    "name": "ipython",
    "version": 3
   },
   "file_extension": ".py",
   "mimetype": "text/x-python",
   "name": "python",
   "nbconvert_exporter": "python",
   "pygments_lexer": "ipython3",
   "version": "3.8.10"
  }
 },
 "nbformat": 4,
 "nbformat_minor": 5
}
