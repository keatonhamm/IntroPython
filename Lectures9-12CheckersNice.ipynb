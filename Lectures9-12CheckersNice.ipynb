{
 "cells": [
  {
   "cell_type": "markdown",
   "id": "61af2fd5",
   "metadata": {},
   "source": [
    "# Dr. Hamm's Checkers Game\n",
    "\n",
    "\n",
    "## Getting Started\n",
    "Checkers is typically played on the same 8x8 board as chess. In order to play the game, we are going to have to store the state of the game, i.e. the contents of each square, in memory. A natural representation of the board is a matrix, where every element corresponds to a square on the board. We choose a convention that the square is empty when corresponding matrix element is 0, and 1 or 2 when there is piece from player 1 or 2, respectively, in the box.\n",
    "\n",
    "We may choose to change this convention later, so instead of \"hard-wiring\" 0, 1, and 2 into our code, we'll use variables that store the index. Using a variable will also make our code more readable. Similarily, we will keep our size flexible."
   ]
  },
  {
   "cell_type": "code",
   "execution_count": 1,
   "id": "782f7ad9",
   "metadata": {},
   "outputs": [],
   "source": [
    "# Assignment values for the board representation\n",
    "player_1 = 1\n",
    "player_2 = 2\n",
    "empty = 0\n",
    "\n",
    "# Specify game board size\n",
    "size = 8"
   ]
  },
  {
   "cell_type": "markdown",
   "id": "657fea6a",
   "metadata": {},
   "source": [
    "## Make a starting board\n",
    "Now lets write a function that will create a new game board for us with the pieces in the right spot. There are various ways to put the pieces into place. One observation is that only six rows are filled, and that each player starts with their piece in the bottom left corner of the board (from their perspective).  In Lab, we realized that to have a fair game, the board size must be an even integer greater than 6 (6 or less and we can't give each player 3 rows, and for odd sizes, one player will have more pieces than the other).\n",
    "\n",
    "We add Player 1's pieces at the bottom of the board and Player 2's at the top of the board. Note that we cound from the bottom to add Player 1's pieces and from the top to add Player 2's. For each row, we increment by 2 until the end of the row, adding a piece at every other location."
   ]
  },
  {
   "cell_type": "code",
   "execution_count": 2,
   "id": "c6b95f7b",
   "metadata": {},
   "outputs": [],
   "source": [
    "def make_game_board(size=8):\n",
    "    # Check if the board size is an even integer >= 8. If not return an empty board and an error\n",
    "    if isinstance(size,int)==False or (size%2)!=0 or size<8:\n",
    "        print('Error: board size must be an even integer greater than or equal to 8')\n",
    "        return list()\n",
    "    \n",
    "    # Make an empty board\n",
    "    board = [[empty]*size for i in range(size)]\n",
    "    \n",
    "    # Add Player pieces\n",
    "    for i in range(0,size,2):\n",
    "        # Player 1 pieces\n",
    "        board[-1][i] = player_1\n",
    "        board[-2][i+1] = player_1\n",
    "        board[-3][i] = player_1\n",
    "        # Player 2 pieces\n",
    "        board[0][i+1] = player_2\n",
    "        board[1][i] = player_2\n",
    "        board[2][i+1] = player_2\n",
    "    \n",
    "    return board"
   ]
  },
  {
   "cell_type": "markdown",
   "id": "bd6897e2",
   "metadata": {},
   "source": [
    "# Write a function to handle player moves\n",
    "We note that checkers is a simple game where each (non-king) piece moves forward and to the left or right. So we can specify a move by choosing a piece and picking left or right. A move is simply taking a piece at location `x,y` to a location `x+x_offset,y+y_offset`, where the offsets depend on the player and the choosen direction. So the first step in making a moving a piece is to determine what is the appropriate offset for given the color (aka player number) and the direction of intended move (right or left).\n",
    "\n",
    "This `moves` dictionary is an elegant and flexible solution to do this. We can change the definitions of `player_1`, `player_2`, `right_move`, and `left_move` without having to change the definition of `moves`. The message to walk away from this small discussion is that there sometimes are various ways to represent logic. In this case as a function, list of lists, or dictionary of dictionaries. And some provide more flexibility and/or are more elegant than others."
   ]
  },
  {
   "cell_type": "code",
   "execution_count": 3,
   "id": "f1bee157",
   "metadata": {},
   "outputs": [
    {
     "data": {
      "text/plain": [
       "{1: {0: (-1, -1), 1: (-1, 1)}, 2: {0: (1, 1), 1: (1, -1)}}"
      ]
     },
     "execution_count": 3,
     "metadata": {},
     "output_type": "execute_result"
    }
   ],
   "source": [
    "left_move=0\n",
    "right_move=1\n",
    "\n",
    "player_1_left_move = (-1,-1)\n",
    "player_1_right_move = (-1,1)\n",
    "player_2_left_move = (1,1)\n",
    "player_2_right_move = (1,-1)\n",
    "\n",
    "## Create a dictionary of dictionaries\n",
    "moves = {player_1: {left_move: player_1_left_move,\n",
    "                  right_move: player_1_right_move},\n",
    "        player_2: {left_move: player_2_left_move,\n",
    "                  right_move: player_2_right_move}}\n",
    "moves"
   ]
  },
  {
   "cell_type": "markdown",
   "id": "cc170542",
   "metadata": {},
   "source": [
    "### Moving Pieces\n",
    "\n",
    "Next let's code up a function that will take a board, player, location of a piece, and desired move and then returns a new board with the desired moved made. This function is going to be the heart of the game in a sense. It captures the rules of what players can and cannot do.\n",
    "\n",
    "Quick aside: We are going to put in some print statements so we see what is happening, but we don't necessarily want to see these statements all of the time, for example later we may wish to write an artificial intelligence that uses the same function to think about the game, and we  don't necessarily see everything it's thinking. So lets write a function that we can use for printing"
   ]
  },
  {
   "cell_type": "code",
   "execution_count": 4,
   "id": "efac735b",
   "metadata": {},
   "outputs": [],
   "source": [
    "def print_message(message, verbose=True):\n",
    "    if verbose:\n",
    "        print(message)"
   ]
  },
  {
   "cell_type": "code",
   "execution_count": 5,
   "id": "dd437ca8",
   "metadata": {},
   "outputs": [
    {
     "name": "stdout",
     "output_type": "stream",
     "text": [
      "hello world\n"
     ]
    }
   ],
   "source": [
    "print_message(\"hello world\")"
   ]
  },
  {
   "cell_type": "code",
   "execution_count": 6,
   "id": "c0e4b9a7",
   "metadata": {},
   "outputs": [],
   "source": [
    "print_message(\"hello world\",False)"
   ]
  },
  {
   "cell_type": "markdown",
   "id": "ab7a2f06",
   "metadata": {},
   "source": [
    "Logical progression of this function:\n",
    "1. Check if the player has a piece at the given location\n",
    "1. Look up the offset for a valid move (from dictionary)\n",
    "1. Check if the move (and possible jump move) is on the board\n",
    "1. If the target space is on the board and empty, move the player's piece by emptying the starting position and placing the piece into the target space\n",
    "1. If the target space is filled with the opponent's piece, but the next space along the diagonal is empty, then empty the start space, remove the target, and place the piece in the next space along the diagonal\n",
    "\n",
    "We will return `True` if the move is valid, and `False` if the move is invalid"
   ]
  },
  {
   "cell_type": "code",
   "execution_count": 7,
   "id": "d5e4b993",
   "metadata": {},
   "outputs": [],
   "source": [
    "def move_piece(board,player,location,move,verbose=True):\n",
    "    x,y = location\n",
    "    \n",
    "    # Check if player has a piece at location\n",
    "    if not board[x][y] == player:\n",
    "        print_message(\"Player does not have a piece at this location\",verbose)\n",
    "        return False\n",
    "    \n",
    "    # Look up the offset for a valid move\n",
    "    x_offset,y_offset = moves[player][move]\n",
    "    \n",
    "    # Check that the move is on the board\n",
    "    move_possible = x + x_offset < size and \\\n",
    "                    x + x_offset >= 0 and \\\n",
    "                    y + y_offset < size and \\\n",
    "                    y + y_offset >= 0\n",
    "    #print_message(\"move_possible is {}\".format(move_possible),verbose)\n",
    "    \n",
    "    jump_possible = x + 2*x_offset < size and \\\n",
    "                    x + 2*x_offset >= 0 and \\\n",
    "                    y + 2*y_offset < size and \\\n",
    "                    y + 2*y_offset >= 0\n",
    "    #print_message(\"jump_possible is {}\".format(jump_possible),verbose)\n",
    "    \n",
    "    if not (move_possible or jump_possible):\n",
    "        print_message(\"Move is off of the board.\",verbose)\n",
    "        return False\n",
    "    \n",
    "    # Try to make the move\n",
    "    # Check if the target space is empty\n",
    "    if move_possible and board[x+x_offset][y+y_offset] == empty:\n",
    "        # Make the move\n",
    "        # Empty the current spot\n",
    "        board[x][y] = empty\n",
    "        # Add player piece in the target space\n",
    "        board[x+x_offset][y+y_offset] = player\n",
    "        print_message(\"Player's piece has been moved.\",verbose)\n",
    "        \n",
    "        return True\n",
    "    \n",
    "    # Does the target space have an opponent's piece, and the space after is empty\n",
    "    elif jump_possible and board[x+x_offset][y+y_offset]!=player and board[x+2*x_offset][y+2*y_offset]==empty:\n",
    "        # Make the move\n",
    "        # Empty the current spot\n",
    "        board[x][y] = empty\n",
    "        # Remove the opponent's piece\n",
    "        board[x+x_offset][y+y_offset] = empty\n",
    "        # Move player to the new spot (2 away along the diagonal)\n",
    "        board[x+2*x_offset][y+2*y_offset] = player\n",
    "        print_message(\"Player took opponent's piece.\",verbose)\n",
    "        \n",
    "        return True\n",
    "    \n",
    "    else:\n",
    "        print_message(\"Move is invalid.\",verbose)\n",
    "        return False    "
   ]
  },
  {
   "cell_type": "markdown",
   "id": "fe109eb9",
   "metadata": {},
   "source": [
    "## Making a prettier gameboard display\n",
    "It's hard to \"see\" the game board using a printout of the list of lists. Lets \"draw\" one instead using other characters. \n",
    "\n",
    "First lets define what characters represent each type of space:"
   ]
  },
  {
   "cell_type": "code",
   "execution_count": 8,
   "id": "44f67b93",
   "metadata": {},
   "outputs": [],
   "source": [
    "player_1_piece = \"X\"\n",
    "player_2_piece = \"O\"\n",
    "empty_space = \" \""
   ]
  },
  {
   "cell_type": "code",
   "execution_count": null,
   "id": "4a52e5c7",
   "metadata": {},
   "outputs": [
    {
     "data": {
      "text/plain": [
       "{1: 'X', 2: 'O', 0: ' '}"
      ]
     },
     "execution_count": 9,
     "metadata": {},
     "output_type": "execute_result"
    }
   ],
   "source": [
    "# What piece do I put in a given board space?\n",
    "space_character = {player_1: player_1_piece,\n",
    "                  player_2: player_2_piece,\n",
    "                  empty: empty_space}\n",
    "space_character"
   ]
  },
  {
   "cell_type": "markdown",
   "id": "40103b56",
   "metadata": {},
   "source": [
    "Now we can print our board by looping over its matrix representation and using `print` to write the correct characters in the right spot.\n",
    "\n",
    "Note the `end=\" \"` argument to `print` keeps the cursor from going to the next line when we don't want it to do so. We'll use an empty `print` to get to the next line when we do.\n",
    "\n",
    "It'll be hard for a player to determine the position of the pieces by index, so lets adopt a scheme where the rows are specified by a letter and the row by a number. Let's also change our `draw_board` to put this information on the board. "
   ]
  },
  {
   "cell_type": "code",
   "execution_count": null,
   "id": "f8c0df65",
   "metadata": {},
   "outputs": [
    {
     "data": {
      "text/plain": [
       "{'A': 0, 'B': 1, 'C': 2, 'D': 3, 'E': 4, 'F': 5, 'G': 6, 'H': 7}"
      ]
     },
     "execution_count": 10,
     "metadata": {},
     "output_type": "execute_result"
    }
   ],
   "source": [
    "row_names = list(\"ABCDEFGHIJKLMNOPQRSTUVWXYZ\")\n",
    "row_map = dict(zip(row_names,range(size)))\n",
    "\n",
    "row_map"
   ]
  },
  {
   "cell_type": "code",
   "execution_count": null,
   "id": "5be15406",
   "metadata": {},
   "outputs": [
    {
     "data": {
      "text/plain": [
       "{'1': 0, '2': 1, '3': 2, '4': 3, '5': 4, '6': 5, '7': 6, '8': 7}"
      ]
     },
     "execution_count": 11,
     "metadata": {},
     "output_type": "execute_result"
    }
   ],
   "source": [
    "column_names = list(map(str,range(1,size+1)))\n",
    "column_map = dict(zip(column_names,range(size)))\n",
    "\n",
    "column_map"
   ]
  },
  {
   "cell_type": "code",
   "execution_count": null,
   "id": "b8247670",
   "metadata": {},
   "outputs": [],
   "source": [
    "def draw_board(board):\n",
    "    print(\" \",end=\" \")\n",
    "    for i in range(size):\n",
    "        print(column_names[i],end=\" \")\n",
    "    print()\n",
    "    \n",
    "    for i in range(size):\n",
    "        print(row_names[i],end=\" \")\n",
    "        for j in range(size):\n",
    "            print(space_character[board[i][j]],end=\" \")\n",
    "        print()      \n",
    "    "
   ]
  },
  {
   "cell_type": "markdown",
   "id": "233d0ad9",
   "metadata": {},
   "source": [
    "But now the user will give us locations like \"C3\" and we'll have to convert it to a pair of indexes for the matrix. These are stored in the `row_map` and `column_map` dictionaries, but we can't trust the user to correctly supply an input, so lets be careful by checking the type of input, length, and making sure it's upper case:"
   ]
  },
  {
   "cell_type": "code",
   "execution_count": null,
   "id": "4ef44243",
   "metadata": {},
   "outputs": [],
   "source": [
    "def parse_location(location_string):\n",
    "    \n",
    "    if not isinstance(location_string,str):\n",
    "        print_message(\"Invalid input. Location must be a string.\")\n",
    "        return False\n",
    "    \n",
    "    if len(location_string)!=2:\n",
    "        print_message(\"Inavlid input. Location must be 2 characters\")\n",
    "        return False\n",
    "    \n",
    "    row = location_string[0].upper()\n",
    "    col = location_string[1].upper()\n",
    "    \n",
    "    if not row in row_map:\n",
    "        print_message(\"Not a valid row.\")\n",
    "        return False\n",
    "    \n",
    "    if not col in column_map:\n",
    "        print_message(\"Not a valid column.\")\n",
    "        return False\n",
    "    \n",
    "    return row_map[row], column_map[col]"
   ]
  },
  {
   "cell_type": "markdown",
   "id": "dfedbfd4",
   "metadata": {},
   "source": [
    "Similarily setup things so the user can specify \"L\" or \"R\" for the moves:"
   ]
  },
  {
   "cell_type": "code",
   "execution_count": null,
   "id": "4b480127",
   "metadata": {},
   "outputs": [],
   "source": [
    "def parse_move(move_string):\n",
    "    if not isinstance(move_string,str):\n",
    "        print_message(\"Invalid input. Location must be a string.\")\n",
    "        return False\n",
    "    \n",
    "    if len(move_string)!=1:\n",
    "        print_message(\"Inavlid input. Location must be 2 characters\")\n",
    "        return False\n",
    "    \n",
    "    if move_string.upper() == \"L\":\n",
    "        return left_move\n",
    "    \n",
    "    if move_string.upper() == \"R\":\n",
    "        return right_move\n",
    "    \n",
    "    print_message(\"Bad Move. Must input R or L.\")\n",
    "    return -1"
   ]
  },
  {
   "cell_type": "code",
   "execution_count": null,
   "id": "62dbe51e",
   "metadata": {},
   "outputs": [],
   "source": [
    "def nice_move_piece(board,player,location_string,move_string):\n",
    "    location = parse_location(location_string)\n",
    "    move = parse_move(move_string)\n",
    "\n",
    "    if location and move!=-1:\n",
    "        return move_piece(board,player,location,move)\n",
    "    else:\n",
    "        print_message(\"Invalid move.\")\n",
    "        return False"
   ]
  },
  {
   "cell_type": "markdown",
   "id": "4c45d438",
   "metadata": {},
   "source": [
    "## Making a full game\n",
    "Next we don't want the player to be making python calls, the game should show each player the board and ask for input. They should just enter a position and a direction. And the game should keep going until someone wins.\n",
    "\n",
    "We'll use python's `input` to interact with the player:"
   ]
  },
  {
   "cell_type": "code",
   "execution_count": null,
   "id": "e56992f2",
   "metadata": {},
   "outputs": [],
   "source": [
    "def take_move(board,player):\n",
    "    good_move = False\n",
    "    \n",
    "    while not good_move:\n",
    "        location_string = input(\"Input Location (to stop the game, input XX:\")\n",
    "        if location_string==\"XX\":\n",
    "            good_move = \"end\"\n",
    "            return good_move\n",
    "        \n",
    "        move_string = input(\"Input Move (L/R):\")\n",
    "        \n",
    "        good_move = nice_move_piece(board,player,location_string,move_string)"
   ]
  },
  {
   "cell_type": "markdown",
   "id": "fe7324f0",
   "metadata": {},
   "source": [
    "Now lets write a function that determines if the game is won, so it can stop:"
   ]
  },
  {
   "cell_type": "code",
   "execution_count": null,
   "id": "af8d6c0c",
   "metadata": {},
   "outputs": [],
   "source": [
    "## Make a function to check the win state of the board\n",
    "\n",
    "#Make a function to count number of each player's pieces\n",
    "def count_piece(board,player):\n",
    "    n = 0\n",
    "    for i in range(size):\n",
    "        for j in range(size):\n",
    "            if board[i][j]==player:\n",
    "                n+=1\n",
    "    return n\n",
    "\n",
    "def game_won(board):\n",
    "    player_1_n = count_piece(board,player_1)\n",
    "    player_2_n = count_piece(board,player_2)\n",
    "    \n",
    "    if player_1_n==0:\n",
    "        return player_2\n",
    "    if player_2_n==0:\n",
    "        return player_1\n",
    "    \n",
    "    return False    "
   ]
  },
  {
   "cell_type": "markdown",
   "id": "a9617fc4",
   "metadata": {},
   "source": [
    "Pulling all of these functions together, we get a basic checkers game. Note that it doesn't handle king pieces. And it won't realize when the game is a stale mate. "
   ]
  },
  {
   "cell_type": "code",
   "execution_count": null,
   "id": "40457659",
   "metadata": {},
   "outputs": [],
   "source": [
    "def checkers_game():\n",
    "    print(\"Welcome to Checkers!\")\n",
    "    print(\"--------------------\")\n",
    "    \n",
    "    board_0 = make_game_board()\n",
    "    \n",
    "    player = player_1\n",
    "    \n",
    "    this_game_won = False\n",
    "    \n",
    "    while not this_game_won:\n",
    "        draw_board(board_0)\n",
    "        \n",
    "        print(\"Player\",player,\"move:\")\n",
    "        new_move = take_move(board_0,player)\n",
    "        \n",
    "        if new_move == \"end\":\n",
    "            print(\"Player has exited the game\")\n",
    "            break\n",
    "        \n",
    "        this_game_won = game_won(board_0)\n",
    "        \n",
    "        if player==player_1:\n",
    "            player = player_2\n",
    "        else:\n",
    "            player = player_1\n",
    "        \n",
    "    if not new_move == \"end\":\n",
    "        print(\"Winner is player\",this_game_won)"
   ]
  },
  {
   "cell_type": "code",
   "execution_count": null,
   "id": "629f16eb",
   "metadata": {},
   "outputs": [
    {
     "name": "stdout",
     "output_type": "stream",
     "text": [
      "Welcome to Checkers!\n",
      "--------------------\n",
      "Input board size:9\n",
      "Error: board size must be an even integer greater than or equal to 8\n",
      "Input board size:8\n",
      "Error: board size must be an even integer greater than or equal to 8\n",
      "Input board size:8\n",
      "Error: board size must be an even integer greater than or equal to 8\n",
      "Input board size:8\n",
      "Error: board size must be an even integer greater than or equal to 8\n"
     ]
    }
   ],
   "source": [
    "checkers_game()"
   ]
  },
  {
   "cell_type": "code",
   "execution_count": null,
   "id": "91c75f14",
   "metadata": {},
   "outputs": [],
   "source": []
  }
 ],
 "metadata": {
  "kernelspec": {
   "display_name": "Python 3 (ipykernel)",
   "language": "python",
   "name": "python3"
  },
  "language_info": {
   "codemirror_mode": {
    "name": "ipython",
    "version": 3
   },
   "file_extension": ".py",
   "mimetype": "text/x-python",
   "name": "python",
   "nbconvert_exporter": "python",
   "pygments_lexer": "ipython3",
   "version": "3.8.10"
  }
 },
 "nbformat": 4,
 "nbformat_minor": 5
}
